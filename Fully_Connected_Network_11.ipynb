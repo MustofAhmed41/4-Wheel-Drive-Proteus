{
  "cells": [
    {
      "cell_type": "markdown",
      "metadata": {
        "id": "view-in-github",
        "colab_type": "text"
      },
      "source": [
        "<a href=\"https://colab.research.google.com/github/MustofAhmed41/4-Wheel-Drive-Proteus/blob/master/Fully_Connected_Network_11.ipynb\" target=\"_parent\"><img src=\"https://colab.research.google.com/assets/colab-badge.svg\" alt=\"Open In Colab\"/></a>"
      ]
    },
    {
      "cell_type": "markdown",
      "metadata": {
        "id": "_3mWhU59cbu-"
      },
      "source": [
        "## Importing Library"
      ]
    },
    {
      "cell_type": "code",
      "execution_count": 1,
      "metadata": {
        "id": "M7Wt9qDEPaHT"
      },
      "outputs": [],
      "source": [
        "import pandas as pd  \n",
        "import seaborn as sns  \n",
        "import numpy as np  \n",
        "import matplotlib.pyplot as plt"
      ]
    },
    {
      "cell_type": "code",
      "execution_count": 2,
      "metadata": {
        "id": "NuPFf6M33r6_"
      },
      "outputs": [],
      "source": [
        "import tensorflow as tf\n",
        "import keras\n",
        "from tensorflow.keras import activations\n",
        "from tensorflow.keras.utils import to_categorical\n",
        "from sklearn.linear_model import LinearRegression\n",
        "from sklearn.preprocessing import LabelEncoder, OneHotEncoder\n",
        "from sklearn.metrics import accuracy_score, mean_squared_error\n",
        "from sklearn.model_selection import train_test_split\n",
        "from sklearn.metrics import confusion_matrix, ConfusionMatrixDisplay, plot_confusion_matrix"
      ]
    },
    {
      "cell_type": "markdown",
      "metadata": {
        "id": "DGfB74Tzcnf8"
      },
      "source": [
        "## Loading Data"
      ]
    },
    {
      "cell_type": "code",
      "execution_count": 5,
      "metadata": {
        "id": "jJBRdeciPIAx",
        "outputId": "b1c187b0-38d4-4ec7-8970-688840915058",
        "colab": {
          "base_uri": "https://localhost:8080/"
        }
      },
      "outputs": [
        {
          "output_type": "stream",
          "name": "stdout",
          "text": [
            "Mounted at /content/drive\n"
          ]
        }
      ],
      "source": [
        "from google.colab import drive\n",
        "drive.mount('/content/drive')"
      ]
    },
    {
      "cell_type": "code",
      "source": [
        "cd'/content/drive/MyDrive/Colab Notebooks/Dataset/Softcom Assignment 1'"
      ],
      "metadata": {
        "id": "DbXujHUYVlVr",
        "outputId": "e46aba3c-32db-45b6-d4d0-46d8a30b6571",
        "colab": {
          "base_uri": "https://localhost:8080/"
        }
      },
      "execution_count": 6,
      "outputs": [
        {
          "output_type": "stream",
          "name": "stdout",
          "text": [
            "/content/drive/MyDrive/Colab Notebooks/Dataset/Softcom Assignment 1\n"
          ]
        }
      ]
    },
    {
      "cell_type": "markdown",
      "metadata": {
        "id": "ALeSC0AKaDW7"
      },
      "source": [
        "## Deep Learning"
      ]
    },
    {
      "cell_type": "code",
      "execution_count": 7,
      "metadata": {
        "id": "J4jdCsnA3_4D"
      },
      "outputs": [],
      "source": [
        "load = pd.read_csv('thesis_processed.csv')"
      ]
    },
    {
      "cell_type": "code",
      "execution_count": 8,
      "metadata": {
        "id": "g5Gi7_f-3Sc8"
      },
      "outputs": [],
      "source": [
        "df = load.copy()"
      ]
    },
    {
      "cell_type": "code",
      "execution_count": 9,
      "metadata": {
        "colab": {
          "base_uri": "https://localhost:8080/"
        },
        "id": "n1WLhni_7tQe",
        "outputId": "63bfb092-f3ec-47b7-cf7d-5846b13a6c58"
      },
      "outputs": [
        {
          "output_type": "execute_result",
          "data": {
            "text/plain": [
              "(19434, 23)"
            ]
          },
          "metadata": {},
          "execution_count": 9
        }
      ],
      "source": [
        "df.shape"
      ]
    },
    {
      "cell_type": "code",
      "execution_count": 10,
      "metadata": {
        "id": "ZGv-R3HE3VVQ"
      },
      "outputs": [],
      "source": [
        "def impute_classe(x):\n",
        "  if x == 'Severe':\n",
        "    return 4\n",
        "  elif x =='Moderately Severe':\n",
        "    return 3\n",
        "  elif x=='Moderate':\n",
        "    return 2\n",
        "  elif x=='Mild':\n",
        "    return 1\n",
        "  elif x=='None':\n",
        "    return 0"
      ]
    },
    {
      "cell_type": "code",
      "execution_count": 11,
      "metadata": {
        "id": "x41HW1uR3WQW"
      },
      "outputs": [],
      "source": [
        "df['PHQ-Label'] = df['PHQ-Label'].apply(impute_classe)"
      ]
    },
    {
      "cell_type": "code",
      "source": [
        "df.head()"
      ],
      "metadata": {
        "colab": {
          "base_uri": "https://localhost:8080/",
          "height": 317
        },
        "id": "oPtbCD5igTyZ",
        "outputId": "6b8fd025-1c42-4faa-e706-f32ddc327fb6"
      },
      "execution_count": 12,
      "outputs": [
        {
          "output_type": "execute_result",
          "data": {
            "text/plain": [
              "   Unnamed: 0  ACCELEROMETER_X  ACCELEROMETER_Y  ACCELEROMETER_Z  \\\n",
              "0           0        -1.175852         0.955269         0.304240   \n",
              "1           1        -0.231706         0.288470         0.593060   \n",
              "2           2         0.468638        -0.365086         0.729825   \n",
              "3           3        -0.123010         1.423019         0.119626   \n",
              "4           4        -0.997317         1.639032        -0.239259   \n",
              "\n",
              "   BATTERY_LEVEL   Light_v    GRAV_X    GRAV_Y    GRAV_Z  GYROSCOPE_X  ...  \\\n",
              "0      -1.394902 -0.072950 -1.219605  0.937280  0.309137    -0.017787  ...   \n",
              "1      -1.435221 -0.072950 -0.088856  0.299572  0.686943    -0.450174  ...   \n",
              "2      -1.556179 -0.076481  0.476306 -0.398075  0.732500    -0.010941  ...   \n",
              "3      -1.636817 -0.084977 -0.136488  1.405023  0.107606    -0.029562  ...   \n",
              "4      -1.717455 -0.084977 -1.116351  1.592722 -0.317940     0.107356  ...   \n",
              "\n",
              "      MAG_Y     MAG_Z  ORIENTATION_AZIMUTH  ORIENTATION_PITCH  \\\n",
              "0  0.285328 -0.593778             0.534822          -0.726095   \n",
              "1  0.436496 -0.438365            -0.321815          -0.160674   \n",
              "2 -0.149468  0.322971             1.015806           0.451230   \n",
              "3 -1.789496  0.311330            -1.612450          -1.240857   \n",
              "4 -1.371912  0.819412            -1.226273          -1.512220   \n",
              "\n",
              "   ORIENTATION_ROLL  SENSORGPS_LATITUDE  SENSORGPS_LONGITUDE  PHQ-Label  \\\n",
              "0          0.434159            0.491443             0.250215          4   \n",
              "1          0.061857            0.491443             0.250215          4   \n",
              "2         -0.126824            0.491443             0.250215          4   \n",
              "3          0.061857            0.491443             0.250215          4   \n",
              "4          0.590078            0.491443             0.250215          4   \n",
              "\n",
              "   Gender_Female  Gender_Male  \n",
              "0              1            0  \n",
              "1              1            0  \n",
              "2              1            0  \n",
              "3              1            0  \n",
              "4              1            0  \n",
              "\n",
              "[5 rows x 23 columns]"
            ],
            "text/html": [
              "\n",
              "  <div id=\"df-520267d8-4aea-4d76-8f38-8b804c187089\">\n",
              "    <div class=\"colab-df-container\">\n",
              "      <div>\n",
              "<style scoped>\n",
              "    .dataframe tbody tr th:only-of-type {\n",
              "        vertical-align: middle;\n",
              "    }\n",
              "\n",
              "    .dataframe tbody tr th {\n",
              "        vertical-align: top;\n",
              "    }\n",
              "\n",
              "    .dataframe thead th {\n",
              "        text-align: right;\n",
              "    }\n",
              "</style>\n",
              "<table border=\"1\" class=\"dataframe\">\n",
              "  <thead>\n",
              "    <tr style=\"text-align: right;\">\n",
              "      <th></th>\n",
              "      <th>Unnamed: 0</th>\n",
              "      <th>ACCELEROMETER_X</th>\n",
              "      <th>ACCELEROMETER_Y</th>\n",
              "      <th>ACCELEROMETER_Z</th>\n",
              "      <th>BATTERY_LEVEL</th>\n",
              "      <th>Light_v</th>\n",
              "      <th>GRAV_X</th>\n",
              "      <th>GRAV_Y</th>\n",
              "      <th>GRAV_Z</th>\n",
              "      <th>GYROSCOPE_X</th>\n",
              "      <th>...</th>\n",
              "      <th>MAG_Y</th>\n",
              "      <th>MAG_Z</th>\n",
              "      <th>ORIENTATION_AZIMUTH</th>\n",
              "      <th>ORIENTATION_PITCH</th>\n",
              "      <th>ORIENTATION_ROLL</th>\n",
              "      <th>SENSORGPS_LATITUDE</th>\n",
              "      <th>SENSORGPS_LONGITUDE</th>\n",
              "      <th>PHQ-Label</th>\n",
              "      <th>Gender_Female</th>\n",
              "      <th>Gender_Male</th>\n",
              "    </tr>\n",
              "  </thead>\n",
              "  <tbody>\n",
              "    <tr>\n",
              "      <th>0</th>\n",
              "      <td>0</td>\n",
              "      <td>-1.175852</td>\n",
              "      <td>0.955269</td>\n",
              "      <td>0.304240</td>\n",
              "      <td>-1.394902</td>\n",
              "      <td>-0.072950</td>\n",
              "      <td>-1.219605</td>\n",
              "      <td>0.937280</td>\n",
              "      <td>0.309137</td>\n",
              "      <td>-0.017787</td>\n",
              "      <td>...</td>\n",
              "      <td>0.285328</td>\n",
              "      <td>-0.593778</td>\n",
              "      <td>0.534822</td>\n",
              "      <td>-0.726095</td>\n",
              "      <td>0.434159</td>\n",
              "      <td>0.491443</td>\n",
              "      <td>0.250215</td>\n",
              "      <td>4</td>\n",
              "      <td>1</td>\n",
              "      <td>0</td>\n",
              "    </tr>\n",
              "    <tr>\n",
              "      <th>1</th>\n",
              "      <td>1</td>\n",
              "      <td>-0.231706</td>\n",
              "      <td>0.288470</td>\n",
              "      <td>0.593060</td>\n",
              "      <td>-1.435221</td>\n",
              "      <td>-0.072950</td>\n",
              "      <td>-0.088856</td>\n",
              "      <td>0.299572</td>\n",
              "      <td>0.686943</td>\n",
              "      <td>-0.450174</td>\n",
              "      <td>...</td>\n",
              "      <td>0.436496</td>\n",
              "      <td>-0.438365</td>\n",
              "      <td>-0.321815</td>\n",
              "      <td>-0.160674</td>\n",
              "      <td>0.061857</td>\n",
              "      <td>0.491443</td>\n",
              "      <td>0.250215</td>\n",
              "      <td>4</td>\n",
              "      <td>1</td>\n",
              "      <td>0</td>\n",
              "    </tr>\n",
              "    <tr>\n",
              "      <th>2</th>\n",
              "      <td>2</td>\n",
              "      <td>0.468638</td>\n",
              "      <td>-0.365086</td>\n",
              "      <td>0.729825</td>\n",
              "      <td>-1.556179</td>\n",
              "      <td>-0.076481</td>\n",
              "      <td>0.476306</td>\n",
              "      <td>-0.398075</td>\n",
              "      <td>0.732500</td>\n",
              "      <td>-0.010941</td>\n",
              "      <td>...</td>\n",
              "      <td>-0.149468</td>\n",
              "      <td>0.322971</td>\n",
              "      <td>1.015806</td>\n",
              "      <td>0.451230</td>\n",
              "      <td>-0.126824</td>\n",
              "      <td>0.491443</td>\n",
              "      <td>0.250215</td>\n",
              "      <td>4</td>\n",
              "      <td>1</td>\n",
              "      <td>0</td>\n",
              "    </tr>\n",
              "    <tr>\n",
              "      <th>3</th>\n",
              "      <td>3</td>\n",
              "      <td>-0.123010</td>\n",
              "      <td>1.423019</td>\n",
              "      <td>0.119626</td>\n",
              "      <td>-1.636817</td>\n",
              "      <td>-0.084977</td>\n",
              "      <td>-0.136488</td>\n",
              "      <td>1.405023</td>\n",
              "      <td>0.107606</td>\n",
              "      <td>-0.029562</td>\n",
              "      <td>...</td>\n",
              "      <td>-1.789496</td>\n",
              "      <td>0.311330</td>\n",
              "      <td>-1.612450</td>\n",
              "      <td>-1.240857</td>\n",
              "      <td>0.061857</td>\n",
              "      <td>0.491443</td>\n",
              "      <td>0.250215</td>\n",
              "      <td>4</td>\n",
              "      <td>1</td>\n",
              "      <td>0</td>\n",
              "    </tr>\n",
              "    <tr>\n",
              "      <th>4</th>\n",
              "      <td>4</td>\n",
              "      <td>-0.997317</td>\n",
              "      <td>1.639032</td>\n",
              "      <td>-0.239259</td>\n",
              "      <td>-1.717455</td>\n",
              "      <td>-0.084977</td>\n",
              "      <td>-1.116351</td>\n",
              "      <td>1.592722</td>\n",
              "      <td>-0.317940</td>\n",
              "      <td>0.107356</td>\n",
              "      <td>...</td>\n",
              "      <td>-1.371912</td>\n",
              "      <td>0.819412</td>\n",
              "      <td>-1.226273</td>\n",
              "      <td>-1.512220</td>\n",
              "      <td>0.590078</td>\n",
              "      <td>0.491443</td>\n",
              "      <td>0.250215</td>\n",
              "      <td>4</td>\n",
              "      <td>1</td>\n",
              "      <td>0</td>\n",
              "    </tr>\n",
              "  </tbody>\n",
              "</table>\n",
              "<p>5 rows × 23 columns</p>\n",
              "</div>\n",
              "      <button class=\"colab-df-convert\" onclick=\"convertToInteractive('df-520267d8-4aea-4d76-8f38-8b804c187089')\"\n",
              "              title=\"Convert this dataframe to an interactive table.\"\n",
              "              style=\"display:none;\">\n",
              "        \n",
              "  <svg xmlns=\"http://www.w3.org/2000/svg\" height=\"24px\"viewBox=\"0 0 24 24\"\n",
              "       width=\"24px\">\n",
              "    <path d=\"M0 0h24v24H0V0z\" fill=\"none\"/>\n",
              "    <path d=\"M18.56 5.44l.94 2.06.94-2.06 2.06-.94-2.06-.94-.94-2.06-.94 2.06-2.06.94zm-11 1L8.5 8.5l.94-2.06 2.06-.94-2.06-.94L8.5 2.5l-.94 2.06-2.06.94zm10 10l.94 2.06.94-2.06 2.06-.94-2.06-.94-.94-2.06-.94 2.06-2.06.94z\"/><path d=\"M17.41 7.96l-1.37-1.37c-.4-.4-.92-.59-1.43-.59-.52 0-1.04.2-1.43.59L10.3 9.45l-7.72 7.72c-.78.78-.78 2.05 0 2.83L4 21.41c.39.39.9.59 1.41.59.51 0 1.02-.2 1.41-.59l7.78-7.78 2.81-2.81c.8-.78.8-2.07 0-2.86zM5.41 20L4 18.59l7.72-7.72 1.47 1.35L5.41 20z\"/>\n",
              "  </svg>\n",
              "      </button>\n",
              "      \n",
              "  <style>\n",
              "    .colab-df-container {\n",
              "      display:flex;\n",
              "      flex-wrap:wrap;\n",
              "      gap: 12px;\n",
              "    }\n",
              "\n",
              "    .colab-df-convert {\n",
              "      background-color: #E8F0FE;\n",
              "      border: none;\n",
              "      border-radius: 50%;\n",
              "      cursor: pointer;\n",
              "      display: none;\n",
              "      fill: #1967D2;\n",
              "      height: 32px;\n",
              "      padding: 0 0 0 0;\n",
              "      width: 32px;\n",
              "    }\n",
              "\n",
              "    .colab-df-convert:hover {\n",
              "      background-color: #E2EBFA;\n",
              "      box-shadow: 0px 1px 2px rgba(60, 64, 67, 0.3), 0px 1px 3px 1px rgba(60, 64, 67, 0.15);\n",
              "      fill: #174EA6;\n",
              "    }\n",
              "\n",
              "    [theme=dark] .colab-df-convert {\n",
              "      background-color: #3B4455;\n",
              "      fill: #D2E3FC;\n",
              "    }\n",
              "\n",
              "    [theme=dark] .colab-df-convert:hover {\n",
              "      background-color: #434B5C;\n",
              "      box-shadow: 0px 1px 3px 1px rgba(0, 0, 0, 0.15);\n",
              "      filter: drop-shadow(0px 1px 2px rgba(0, 0, 0, 0.3));\n",
              "      fill: #FFFFFF;\n",
              "    }\n",
              "  </style>\n",
              "\n",
              "      <script>\n",
              "        const buttonEl =\n",
              "          document.querySelector('#df-520267d8-4aea-4d76-8f38-8b804c187089 button.colab-df-convert');\n",
              "        buttonEl.style.display =\n",
              "          google.colab.kernel.accessAllowed ? 'block' : 'none';\n",
              "\n",
              "        async function convertToInteractive(key) {\n",
              "          const element = document.querySelector('#df-520267d8-4aea-4d76-8f38-8b804c187089');\n",
              "          const dataTable =\n",
              "            await google.colab.kernel.invokeFunction('convertToInteractive',\n",
              "                                                     [key], {});\n",
              "          if (!dataTable) return;\n",
              "\n",
              "          const docLinkHtml = 'Like what you see? Visit the ' +\n",
              "            '<a target=\"_blank\" href=https://colab.research.google.com/notebooks/data_table.ipynb>data table notebook</a>'\n",
              "            + ' to learn more about interactive tables.';\n",
              "          element.innerHTML = '';\n",
              "          dataTable['output_type'] = 'display_data';\n",
              "          await google.colab.output.renderOutput(dataTable, element);\n",
              "          const docLink = document.createElement('div');\n",
              "          docLink.innerHTML = docLinkHtml;\n",
              "          element.appendChild(docLink);\n",
              "        }\n",
              "      </script>\n",
              "    </div>\n",
              "  </div>\n",
              "  "
            ]
          },
          "metadata": {},
          "execution_count": 12
        }
      ]
    },
    {
      "cell_type": "code",
      "execution_count": 13,
      "metadata": {
        "colab": {
          "base_uri": "https://localhost:8080/"
        },
        "id": "olyaBhu93X7c",
        "outputId": "3bb58389-6acd-4d3c-c16c-56a35e20b112"
      },
      "outputs": [
        {
          "output_type": "execute_result",
          "data": {
            "text/plain": [
              "1    7861\n",
              "2    7026\n",
              "0    3509\n",
              "3     606\n",
              "4     432\n",
              "Name: PHQ-Label, dtype: int64"
            ]
          },
          "metadata": {},
          "execution_count": 13
        }
      ],
      "source": [
        "df['PHQ-Label'].value_counts()"
      ]
    },
    {
      "cell_type": "code",
      "execution_count": 14,
      "metadata": {
        "colab": {
          "base_uri": "https://localhost:8080/"
        },
        "id": "fknNDBj-luX3",
        "outputId": "019511de-d11b-4e22-b636-4889745b4219"
      },
      "outputs": [
        {
          "output_type": "execute_result",
          "data": {
            "text/plain": [
              "Index(['Unnamed: 0', 'ACCELEROMETER_X', 'ACCELEROMETER_Y', 'ACCELEROMETER_Z',\n",
              "       'BATTERY_LEVEL', 'Light_v', 'GRAV_X', 'GRAV_Y', 'GRAV_Z', 'GYROSCOPE_X',\n",
              "       'GYROSCOPE_Y', 'GYROSCOPE_Z', 'MAG_X', 'MAG_Y', 'MAG_Z',\n",
              "       'ORIENTATION_AZIMUTH', 'ORIENTATION_PITCH', 'ORIENTATION_ROLL',\n",
              "       'SENSORGPS_LATITUDE', 'SENSORGPS_LONGITUDE', 'PHQ-Label',\n",
              "       'Gender_Female', 'Gender_Male'],\n",
              "      dtype='object')"
            ]
          },
          "metadata": {},
          "execution_count": 14
        }
      ],
      "source": [
        "df.columns"
      ]
    },
    {
      "cell_type": "code",
      "execution_count": 15,
      "metadata": {
        "id": "obdbWWPf3aVT"
      },
      "outputs": [],
      "source": [
        "lst = ['Unnamed: 0', 'PHQ-Label', 'Light_v', 'ORIENTATION_AZIMUTH', 'ORIENTATION_PITCH', \n",
        "       'ORIENTATION_ROLL',  'SENSORGPS_LATITUDE', 'SENSORGPS_LONGITUDE' ]\n",
        "X=df.drop(lst, axis=1)\n",
        "Y=df['PHQ-Label'] "
      ]
    },
    {
      "cell_type": "code",
      "execution_count": 16,
      "metadata": {
        "id": "VahK82Pf3d_e"
      },
      "outputs": [],
      "source": [
        "from sklearn.model_selection import train_test_split\n",
        "X_train,X_test,Y_train,Y_test=train_test_split(X,Y,test_size=0.2,random_state=1,stratify=Y)"
      ]
    },
    {
      "cell_type": "code",
      "execution_count": 17,
      "metadata": {
        "colab": {
          "base_uri": "https://localhost:8080/",
          "height": 424
        },
        "id": "V74RtRZn3ewg",
        "outputId": "fc388c8a-9577-401b-8973-2ce560b07f9c"
      },
      "outputs": [
        {
          "output_type": "execute_result",
          "data": {
            "text/plain": [
              "       ACCELEROMETER_X  ACCELEROMETER_Y  ACCELEROMETER_Z  BATTERY_LEVEL  \\\n",
              "426          -0.202257        -0.482234         0.771072       0.016271   \n",
              "15845        -0.515490         1.818540        -0.827423       1.306487   \n",
              "16171        -0.027706        -0.455181         0.794727      -0.024048   \n",
              "7711          0.776607         1.518817        -0.306305      -0.709475   \n",
              "14223         0.457294        -0.832700         0.687271       1.467763   \n",
              "...                ...              ...              ...            ...   \n",
              "6055         -0.106333         0.475722         0.623936       1.508083   \n",
              "18106        -4.076908        -3.113549        -5.026417      -1.193306   \n",
              "2908         -0.324908         0.301300         0.696279       1.629040   \n",
              "13798         0.055102         0.360543         0.705480       1.306487   \n",
              "9746         -0.734680        -0.097018         0.690736       1.266167   \n",
              "\n",
              "         GRAV_X    GRAV_Y    GRAV_Z  GYROSCOPE_X  GYROSCOPE_Y  GYROSCOPE_Z  \\\n",
              "426   -0.218125 -0.516998  0.777823    -0.010996     0.019418    -0.007909   \n",
              "15845 -0.149633 -0.432810  0.778154    -0.003982    -0.104758    -0.004413   \n",
              "16171 -0.039383 -0.490264  0.775807    -0.009354     0.017535    -0.008438   \n",
              "7711   0.832177  1.540687 -0.284930    -0.019978     0.007500    -0.002880   \n",
              "14223  0.470156 -0.877560  0.705363    -0.041611     0.010302    -0.006850   \n",
              "...         ...       ...       ...          ...          ...          ...   \n",
              "6055  -0.087546  0.728626  0.544624    -0.014775     0.033477     0.015120   \n",
              "18106 -2.514517 -0.304879 -1.828560   -20.798877    -0.947677   -14.453593   \n",
              "2908  -0.333804  0.269383  0.693485    -0.077524     0.105755    -0.022416   \n",
              "13798  0.030751  0.327207  0.675765    -0.012311     0.020743    -0.015056   \n",
              "9746  -0.177871  0.008095  0.744988    -3.078952    -0.123596    -3.347440   \n",
              "\n",
              "          MAG_X     MAG_Y     MAG_Z  Gender_Female  Gender_Male  \n",
              "426    1.114745  0.885054 -0.113745              0            1  \n",
              "15845  0.442857 -1.116412 -0.263459              1            0  \n",
              "16171  0.938187 -0.243185 -0.100248              0            1  \n",
              "7711   0.157767 -0.752394  0.996558              0            1  \n",
              "14223  0.702859  0.136092 -0.375151              1            0  \n",
              "...         ...       ...       ...            ...          ...  \n",
              "6055   0.888169 -0.829453 -0.269261              1            0  \n",
              "18106  0.371105  0.625500  0.993335              0            1  \n",
              "2908   0.277505  0.537721 -0.365382              0            1  \n",
              "13798  1.019067  0.979430 -0.640339              0            1  \n",
              "9746   0.247095  0.863441 -0.305557              0            1  \n",
              "\n",
              "[15547 rows x 15 columns]"
            ],
            "text/html": [
              "\n",
              "  <div id=\"df-f0cac7ab-d2ed-4e4d-96be-6a63ab019c0f\">\n",
              "    <div class=\"colab-df-container\">\n",
              "      <div>\n",
              "<style scoped>\n",
              "    .dataframe tbody tr th:only-of-type {\n",
              "        vertical-align: middle;\n",
              "    }\n",
              "\n",
              "    .dataframe tbody tr th {\n",
              "        vertical-align: top;\n",
              "    }\n",
              "\n",
              "    .dataframe thead th {\n",
              "        text-align: right;\n",
              "    }\n",
              "</style>\n",
              "<table border=\"1\" class=\"dataframe\">\n",
              "  <thead>\n",
              "    <tr style=\"text-align: right;\">\n",
              "      <th></th>\n",
              "      <th>ACCELEROMETER_X</th>\n",
              "      <th>ACCELEROMETER_Y</th>\n",
              "      <th>ACCELEROMETER_Z</th>\n",
              "      <th>BATTERY_LEVEL</th>\n",
              "      <th>GRAV_X</th>\n",
              "      <th>GRAV_Y</th>\n",
              "      <th>GRAV_Z</th>\n",
              "      <th>GYROSCOPE_X</th>\n",
              "      <th>GYROSCOPE_Y</th>\n",
              "      <th>GYROSCOPE_Z</th>\n",
              "      <th>MAG_X</th>\n",
              "      <th>MAG_Y</th>\n",
              "      <th>MAG_Z</th>\n",
              "      <th>Gender_Female</th>\n",
              "      <th>Gender_Male</th>\n",
              "    </tr>\n",
              "  </thead>\n",
              "  <tbody>\n",
              "    <tr>\n",
              "      <th>426</th>\n",
              "      <td>-0.202257</td>\n",
              "      <td>-0.482234</td>\n",
              "      <td>0.771072</td>\n",
              "      <td>0.016271</td>\n",
              "      <td>-0.218125</td>\n",
              "      <td>-0.516998</td>\n",
              "      <td>0.777823</td>\n",
              "      <td>-0.010996</td>\n",
              "      <td>0.019418</td>\n",
              "      <td>-0.007909</td>\n",
              "      <td>1.114745</td>\n",
              "      <td>0.885054</td>\n",
              "      <td>-0.113745</td>\n",
              "      <td>0</td>\n",
              "      <td>1</td>\n",
              "    </tr>\n",
              "    <tr>\n",
              "      <th>15845</th>\n",
              "      <td>-0.515490</td>\n",
              "      <td>1.818540</td>\n",
              "      <td>-0.827423</td>\n",
              "      <td>1.306487</td>\n",
              "      <td>-0.149633</td>\n",
              "      <td>-0.432810</td>\n",
              "      <td>0.778154</td>\n",
              "      <td>-0.003982</td>\n",
              "      <td>-0.104758</td>\n",
              "      <td>-0.004413</td>\n",
              "      <td>0.442857</td>\n",
              "      <td>-1.116412</td>\n",
              "      <td>-0.263459</td>\n",
              "      <td>1</td>\n",
              "      <td>0</td>\n",
              "    </tr>\n",
              "    <tr>\n",
              "      <th>16171</th>\n",
              "      <td>-0.027706</td>\n",
              "      <td>-0.455181</td>\n",
              "      <td>0.794727</td>\n",
              "      <td>-0.024048</td>\n",
              "      <td>-0.039383</td>\n",
              "      <td>-0.490264</td>\n",
              "      <td>0.775807</td>\n",
              "      <td>-0.009354</td>\n",
              "      <td>0.017535</td>\n",
              "      <td>-0.008438</td>\n",
              "      <td>0.938187</td>\n",
              "      <td>-0.243185</td>\n",
              "      <td>-0.100248</td>\n",
              "      <td>0</td>\n",
              "      <td>1</td>\n",
              "    </tr>\n",
              "    <tr>\n",
              "      <th>7711</th>\n",
              "      <td>0.776607</td>\n",
              "      <td>1.518817</td>\n",
              "      <td>-0.306305</td>\n",
              "      <td>-0.709475</td>\n",
              "      <td>0.832177</td>\n",
              "      <td>1.540687</td>\n",
              "      <td>-0.284930</td>\n",
              "      <td>-0.019978</td>\n",
              "      <td>0.007500</td>\n",
              "      <td>-0.002880</td>\n",
              "      <td>0.157767</td>\n",
              "      <td>-0.752394</td>\n",
              "      <td>0.996558</td>\n",
              "      <td>0</td>\n",
              "      <td>1</td>\n",
              "    </tr>\n",
              "    <tr>\n",
              "      <th>14223</th>\n",
              "      <td>0.457294</td>\n",
              "      <td>-0.832700</td>\n",
              "      <td>0.687271</td>\n",
              "      <td>1.467763</td>\n",
              "      <td>0.470156</td>\n",
              "      <td>-0.877560</td>\n",
              "      <td>0.705363</td>\n",
              "      <td>-0.041611</td>\n",
              "      <td>0.010302</td>\n",
              "      <td>-0.006850</td>\n",
              "      <td>0.702859</td>\n",
              "      <td>0.136092</td>\n",
              "      <td>-0.375151</td>\n",
              "      <td>1</td>\n",
              "      <td>0</td>\n",
              "    </tr>\n",
              "    <tr>\n",
              "      <th>...</th>\n",
              "      <td>...</td>\n",
              "      <td>...</td>\n",
              "      <td>...</td>\n",
              "      <td>...</td>\n",
              "      <td>...</td>\n",
              "      <td>...</td>\n",
              "      <td>...</td>\n",
              "      <td>...</td>\n",
              "      <td>...</td>\n",
              "      <td>...</td>\n",
              "      <td>...</td>\n",
              "      <td>...</td>\n",
              "      <td>...</td>\n",
              "      <td>...</td>\n",
              "      <td>...</td>\n",
              "    </tr>\n",
              "    <tr>\n",
              "      <th>6055</th>\n",
              "      <td>-0.106333</td>\n",
              "      <td>0.475722</td>\n",
              "      <td>0.623936</td>\n",
              "      <td>1.508083</td>\n",
              "      <td>-0.087546</td>\n",
              "      <td>0.728626</td>\n",
              "      <td>0.544624</td>\n",
              "      <td>-0.014775</td>\n",
              "      <td>0.033477</td>\n",
              "      <td>0.015120</td>\n",
              "      <td>0.888169</td>\n",
              "      <td>-0.829453</td>\n",
              "      <td>-0.269261</td>\n",
              "      <td>1</td>\n",
              "      <td>0</td>\n",
              "    </tr>\n",
              "    <tr>\n",
              "      <th>18106</th>\n",
              "      <td>-4.076908</td>\n",
              "      <td>-3.113549</td>\n",
              "      <td>-5.026417</td>\n",
              "      <td>-1.193306</td>\n",
              "      <td>-2.514517</td>\n",
              "      <td>-0.304879</td>\n",
              "      <td>-1.828560</td>\n",
              "      <td>-20.798877</td>\n",
              "      <td>-0.947677</td>\n",
              "      <td>-14.453593</td>\n",
              "      <td>0.371105</td>\n",
              "      <td>0.625500</td>\n",
              "      <td>0.993335</td>\n",
              "      <td>0</td>\n",
              "      <td>1</td>\n",
              "    </tr>\n",
              "    <tr>\n",
              "      <th>2908</th>\n",
              "      <td>-0.324908</td>\n",
              "      <td>0.301300</td>\n",
              "      <td>0.696279</td>\n",
              "      <td>1.629040</td>\n",
              "      <td>-0.333804</td>\n",
              "      <td>0.269383</td>\n",
              "      <td>0.693485</td>\n",
              "      <td>-0.077524</td>\n",
              "      <td>0.105755</td>\n",
              "      <td>-0.022416</td>\n",
              "      <td>0.277505</td>\n",
              "      <td>0.537721</td>\n",
              "      <td>-0.365382</td>\n",
              "      <td>0</td>\n",
              "      <td>1</td>\n",
              "    </tr>\n",
              "    <tr>\n",
              "      <th>13798</th>\n",
              "      <td>0.055102</td>\n",
              "      <td>0.360543</td>\n",
              "      <td>0.705480</td>\n",
              "      <td>1.306487</td>\n",
              "      <td>0.030751</td>\n",
              "      <td>0.327207</td>\n",
              "      <td>0.675765</td>\n",
              "      <td>-0.012311</td>\n",
              "      <td>0.020743</td>\n",
              "      <td>-0.015056</td>\n",
              "      <td>1.019067</td>\n",
              "      <td>0.979430</td>\n",
              "      <td>-0.640339</td>\n",
              "      <td>0</td>\n",
              "      <td>1</td>\n",
              "    </tr>\n",
              "    <tr>\n",
              "      <th>9746</th>\n",
              "      <td>-0.734680</td>\n",
              "      <td>-0.097018</td>\n",
              "      <td>0.690736</td>\n",
              "      <td>1.266167</td>\n",
              "      <td>-0.177871</td>\n",
              "      <td>0.008095</td>\n",
              "      <td>0.744988</td>\n",
              "      <td>-3.078952</td>\n",
              "      <td>-0.123596</td>\n",
              "      <td>-3.347440</td>\n",
              "      <td>0.247095</td>\n",
              "      <td>0.863441</td>\n",
              "      <td>-0.305557</td>\n",
              "      <td>0</td>\n",
              "      <td>1</td>\n",
              "    </tr>\n",
              "  </tbody>\n",
              "</table>\n",
              "<p>15547 rows × 15 columns</p>\n",
              "</div>\n",
              "      <button class=\"colab-df-convert\" onclick=\"convertToInteractive('df-f0cac7ab-d2ed-4e4d-96be-6a63ab019c0f')\"\n",
              "              title=\"Convert this dataframe to an interactive table.\"\n",
              "              style=\"display:none;\">\n",
              "        \n",
              "  <svg xmlns=\"http://www.w3.org/2000/svg\" height=\"24px\"viewBox=\"0 0 24 24\"\n",
              "       width=\"24px\">\n",
              "    <path d=\"M0 0h24v24H0V0z\" fill=\"none\"/>\n",
              "    <path d=\"M18.56 5.44l.94 2.06.94-2.06 2.06-.94-2.06-.94-.94-2.06-.94 2.06-2.06.94zm-11 1L8.5 8.5l.94-2.06 2.06-.94-2.06-.94L8.5 2.5l-.94 2.06-2.06.94zm10 10l.94 2.06.94-2.06 2.06-.94-2.06-.94-.94-2.06-.94 2.06-2.06.94z\"/><path d=\"M17.41 7.96l-1.37-1.37c-.4-.4-.92-.59-1.43-.59-.52 0-1.04.2-1.43.59L10.3 9.45l-7.72 7.72c-.78.78-.78 2.05 0 2.83L4 21.41c.39.39.9.59 1.41.59.51 0 1.02-.2 1.41-.59l7.78-7.78 2.81-2.81c.8-.78.8-2.07 0-2.86zM5.41 20L4 18.59l7.72-7.72 1.47 1.35L5.41 20z\"/>\n",
              "  </svg>\n",
              "      </button>\n",
              "      \n",
              "  <style>\n",
              "    .colab-df-container {\n",
              "      display:flex;\n",
              "      flex-wrap:wrap;\n",
              "      gap: 12px;\n",
              "    }\n",
              "\n",
              "    .colab-df-convert {\n",
              "      background-color: #E8F0FE;\n",
              "      border: none;\n",
              "      border-radius: 50%;\n",
              "      cursor: pointer;\n",
              "      display: none;\n",
              "      fill: #1967D2;\n",
              "      height: 32px;\n",
              "      padding: 0 0 0 0;\n",
              "      width: 32px;\n",
              "    }\n",
              "\n",
              "    .colab-df-convert:hover {\n",
              "      background-color: #E2EBFA;\n",
              "      box-shadow: 0px 1px 2px rgba(60, 64, 67, 0.3), 0px 1px 3px 1px rgba(60, 64, 67, 0.15);\n",
              "      fill: #174EA6;\n",
              "    }\n",
              "\n",
              "    [theme=dark] .colab-df-convert {\n",
              "      background-color: #3B4455;\n",
              "      fill: #D2E3FC;\n",
              "    }\n",
              "\n",
              "    [theme=dark] .colab-df-convert:hover {\n",
              "      background-color: #434B5C;\n",
              "      box-shadow: 0px 1px 3px 1px rgba(0, 0, 0, 0.15);\n",
              "      filter: drop-shadow(0px 1px 2px rgba(0, 0, 0, 0.3));\n",
              "      fill: #FFFFFF;\n",
              "    }\n",
              "  </style>\n",
              "\n",
              "      <script>\n",
              "        const buttonEl =\n",
              "          document.querySelector('#df-f0cac7ab-d2ed-4e4d-96be-6a63ab019c0f button.colab-df-convert');\n",
              "        buttonEl.style.display =\n",
              "          google.colab.kernel.accessAllowed ? 'block' : 'none';\n",
              "\n",
              "        async function convertToInteractive(key) {\n",
              "          const element = document.querySelector('#df-f0cac7ab-d2ed-4e4d-96be-6a63ab019c0f');\n",
              "          const dataTable =\n",
              "            await google.colab.kernel.invokeFunction('convertToInteractive',\n",
              "                                                     [key], {});\n",
              "          if (!dataTable) return;\n",
              "\n",
              "          const docLinkHtml = 'Like what you see? Visit the ' +\n",
              "            '<a target=\"_blank\" href=https://colab.research.google.com/notebooks/data_table.ipynb>data table notebook</a>'\n",
              "            + ' to learn more about interactive tables.';\n",
              "          element.innerHTML = '';\n",
              "          dataTable['output_type'] = 'display_data';\n",
              "          await google.colab.output.renderOutput(dataTable, element);\n",
              "          const docLink = document.createElement('div');\n",
              "          docLink.innerHTML = docLinkHtml;\n",
              "          element.appendChild(docLink);\n",
              "        }\n",
              "      </script>\n",
              "    </div>\n",
              "  </div>\n",
              "  "
            ]
          },
          "metadata": {},
          "execution_count": 17
        }
      ],
      "source": [
        "X_train"
      ]
    },
    {
      "cell_type": "code",
      "source": [
        "Y_train"
      ],
      "metadata": {
        "colab": {
          "base_uri": "https://localhost:8080/"
        },
        "id": "KFAGTz5UuIOf",
        "outputId": "cf6aad0b-a5f1-42bc-d220-d4c66b5efef8"
      },
      "execution_count": 18,
      "outputs": [
        {
          "output_type": "execute_result",
          "data": {
            "text/plain": [
              "426      1\n",
              "15845    3\n",
              "16171    2\n",
              "7711     2\n",
              "14223    1\n",
              "        ..\n",
              "6055     1\n",
              "18106    0\n",
              "2908     0\n",
              "13798    1\n",
              "9746     2\n",
              "Name: PHQ-Label, Length: 15547, dtype: int64"
            ]
          },
          "metadata": {},
          "execution_count": 18
        }
      ]
    },
    {
      "cell_type": "code",
      "source": [
        "dt = X_test.copy()\n",
        "#dt['PHQ-Label'] = Y_test\n",
        "dt.insert(loc = 0, column = \"PHQ-Label\", value = Y_test)\n",
        "dt"
      ],
      "metadata": {
        "colab": {
          "base_uri": "https://localhost:8080/",
          "height": 424
        },
        "id": "hnI2uzY-uhsK",
        "outputId": "257cc8e9-1daf-456b-d89e-afa1bfe40ff2"
      },
      "execution_count": 19,
      "outputs": [
        {
          "output_type": "execute_result",
          "data": {
            "text/plain": [
              "       PHQ-Label  ACCELEROMETER_X  ACCELEROMETER_Y  ACCELEROMETER_Z  \\\n",
              "16679          3         0.415729         1.351016         0.070394   \n",
              "18706          2         0.004868        -0.492246        -2.411595   \n",
              "95             4        -0.136131        -0.361361         0.767580   \n",
              "17236          1        -0.918632        -0.483034         0.720852   \n",
              "12497          1         2.498892         0.121287        -0.279189   \n",
              "...          ...              ...              ...              ...   \n",
              "1691           0        -0.175153        -0.455041         0.788565   \n",
              "102            4        -0.609177         0.747806         0.539275   \n",
              "2183           0         0.051850         0.200272         0.747373   \n",
              "3921           0         1.804858         0.777190        -0.119240   \n",
              "15707          2         1.984365        -0.386742         0.097311   \n",
              "\n",
              "       BATTERY_LEVEL    GRAV_X    GRAV_Y    GRAV_Z  GYROSCOPE_X  GYROSCOPE_Y  \\\n",
              "16679       1.346806  0.404071  1.384936  0.066287    -0.042980     0.027365   \n",
              "18706      -0.104686  0.000082 -0.527034 -2.495894    -0.013795     0.021614   \n",
              "95          0.661379 -0.149117 -0.393073  0.777629    -0.009572     0.016669   \n",
              "17236      -0.185325 -0.955179 -0.517199  0.720015    -0.008695     0.015496   \n",
              "12497      -0.709475  2.436752  0.066288 -0.310908    -0.009572     0.032968   \n",
              "...              ...       ...       ...       ...          ...          ...   \n",
              "1691       -0.911071 -0.216167 -0.467887  0.778393    -0.004937     0.022259   \n",
              "102         0.459783 -0.643176  0.702466  0.534028    -0.095283     0.042391   \n",
              "2183       -0.588517  0.008269  0.226670  0.700789     0.814532    -0.176710   \n",
              "3921       -0.588517  1.864992  0.762427 -0.112079     0.023716     0.038248   \n",
              "15707      -1.798094 -0.161359  1.850007 -0.911539     0.144053     0.473924   \n",
              "\n",
              "       GYROSCOPE_Z     MAG_X     MAG_Y     MAG_Z  Gender_Female  Gender_Male  \n",
              "16679     0.038413  0.662910 -0.849558 -0.395579              0            1  \n",
              "18706    -0.010667 -0.514362  1.163398 -0.060580              1            0  \n",
              "95       -0.009762 -1.063711  0.127799 -0.011765              1            0  \n",
              "17236    -0.010027  1.231986  1.023427 -0.504730              0            1  \n",
              "12497    -0.010291 -0.591061 -0.034595 -0.450949              0            1  \n",
              "...            ...       ...       ...       ...            ...          ...  \n",
              "1691     -0.005798  0.573086 -0.216771 -0.301946              0            1  \n",
              "102      -0.011085 -0.255679 -1.287722 -0.098910              1            0  \n",
              "2183     -0.027955  0.173504  0.638933 -0.513916              0            1  \n",
              "3921     -0.018723 -0.808119 -0.816685  0.921905              0            1  \n",
              "15707     0.345935  0.384698 -0.316490 -0.468466              0            1  \n",
              "\n",
              "[3887 rows x 16 columns]"
            ],
            "text/html": [
              "\n",
              "  <div id=\"df-b4ceb877-91f0-4484-b8b4-4b9275bd1a3f\">\n",
              "    <div class=\"colab-df-container\">\n",
              "      <div>\n",
              "<style scoped>\n",
              "    .dataframe tbody tr th:only-of-type {\n",
              "        vertical-align: middle;\n",
              "    }\n",
              "\n",
              "    .dataframe tbody tr th {\n",
              "        vertical-align: top;\n",
              "    }\n",
              "\n",
              "    .dataframe thead th {\n",
              "        text-align: right;\n",
              "    }\n",
              "</style>\n",
              "<table border=\"1\" class=\"dataframe\">\n",
              "  <thead>\n",
              "    <tr style=\"text-align: right;\">\n",
              "      <th></th>\n",
              "      <th>PHQ-Label</th>\n",
              "      <th>ACCELEROMETER_X</th>\n",
              "      <th>ACCELEROMETER_Y</th>\n",
              "      <th>ACCELEROMETER_Z</th>\n",
              "      <th>BATTERY_LEVEL</th>\n",
              "      <th>GRAV_X</th>\n",
              "      <th>GRAV_Y</th>\n",
              "      <th>GRAV_Z</th>\n",
              "      <th>GYROSCOPE_X</th>\n",
              "      <th>GYROSCOPE_Y</th>\n",
              "      <th>GYROSCOPE_Z</th>\n",
              "      <th>MAG_X</th>\n",
              "      <th>MAG_Y</th>\n",
              "      <th>MAG_Z</th>\n",
              "      <th>Gender_Female</th>\n",
              "      <th>Gender_Male</th>\n",
              "    </tr>\n",
              "  </thead>\n",
              "  <tbody>\n",
              "    <tr>\n",
              "      <th>16679</th>\n",
              "      <td>3</td>\n",
              "      <td>0.415729</td>\n",
              "      <td>1.351016</td>\n",
              "      <td>0.070394</td>\n",
              "      <td>1.346806</td>\n",
              "      <td>0.404071</td>\n",
              "      <td>1.384936</td>\n",
              "      <td>0.066287</td>\n",
              "      <td>-0.042980</td>\n",
              "      <td>0.027365</td>\n",
              "      <td>0.038413</td>\n",
              "      <td>0.662910</td>\n",
              "      <td>-0.849558</td>\n",
              "      <td>-0.395579</td>\n",
              "      <td>0</td>\n",
              "      <td>1</td>\n",
              "    </tr>\n",
              "    <tr>\n",
              "      <th>18706</th>\n",
              "      <td>2</td>\n",
              "      <td>0.004868</td>\n",
              "      <td>-0.492246</td>\n",
              "      <td>-2.411595</td>\n",
              "      <td>-0.104686</td>\n",
              "      <td>0.000082</td>\n",
              "      <td>-0.527034</td>\n",
              "      <td>-2.495894</td>\n",
              "      <td>-0.013795</td>\n",
              "      <td>0.021614</td>\n",
              "      <td>-0.010667</td>\n",
              "      <td>-0.514362</td>\n",
              "      <td>1.163398</td>\n",
              "      <td>-0.060580</td>\n",
              "      <td>1</td>\n",
              "      <td>0</td>\n",
              "    </tr>\n",
              "    <tr>\n",
              "      <th>95</th>\n",
              "      <td>4</td>\n",
              "      <td>-0.136131</td>\n",
              "      <td>-0.361361</td>\n",
              "      <td>0.767580</td>\n",
              "      <td>0.661379</td>\n",
              "      <td>-0.149117</td>\n",
              "      <td>-0.393073</td>\n",
              "      <td>0.777629</td>\n",
              "      <td>-0.009572</td>\n",
              "      <td>0.016669</td>\n",
              "      <td>-0.009762</td>\n",
              "      <td>-1.063711</td>\n",
              "      <td>0.127799</td>\n",
              "      <td>-0.011765</td>\n",
              "      <td>1</td>\n",
              "      <td>0</td>\n",
              "    </tr>\n",
              "    <tr>\n",
              "      <th>17236</th>\n",
              "      <td>1</td>\n",
              "      <td>-0.918632</td>\n",
              "      <td>-0.483034</td>\n",
              "      <td>0.720852</td>\n",
              "      <td>-0.185325</td>\n",
              "      <td>-0.955179</td>\n",
              "      <td>-0.517199</td>\n",
              "      <td>0.720015</td>\n",
              "      <td>-0.008695</td>\n",
              "      <td>0.015496</td>\n",
              "      <td>-0.010027</td>\n",
              "      <td>1.231986</td>\n",
              "      <td>1.023427</td>\n",
              "      <td>-0.504730</td>\n",
              "      <td>0</td>\n",
              "      <td>1</td>\n",
              "    </tr>\n",
              "    <tr>\n",
              "      <th>12497</th>\n",
              "      <td>1</td>\n",
              "      <td>2.498892</td>\n",
              "      <td>0.121287</td>\n",
              "      <td>-0.279189</td>\n",
              "      <td>-0.709475</td>\n",
              "      <td>2.436752</td>\n",
              "      <td>0.066288</td>\n",
              "      <td>-0.310908</td>\n",
              "      <td>-0.009572</td>\n",
              "      <td>0.032968</td>\n",
              "      <td>-0.010291</td>\n",
              "      <td>-0.591061</td>\n",
              "      <td>-0.034595</td>\n",
              "      <td>-0.450949</td>\n",
              "      <td>0</td>\n",
              "      <td>1</td>\n",
              "    </tr>\n",
              "    <tr>\n",
              "      <th>...</th>\n",
              "      <td>...</td>\n",
              "      <td>...</td>\n",
              "      <td>...</td>\n",
              "      <td>...</td>\n",
              "      <td>...</td>\n",
              "      <td>...</td>\n",
              "      <td>...</td>\n",
              "      <td>...</td>\n",
              "      <td>...</td>\n",
              "      <td>...</td>\n",
              "      <td>...</td>\n",
              "      <td>...</td>\n",
              "      <td>...</td>\n",
              "      <td>...</td>\n",
              "      <td>...</td>\n",
              "      <td>...</td>\n",
              "    </tr>\n",
              "    <tr>\n",
              "      <th>1691</th>\n",
              "      <td>0</td>\n",
              "      <td>-0.175153</td>\n",
              "      <td>-0.455041</td>\n",
              "      <td>0.788565</td>\n",
              "      <td>-0.911071</td>\n",
              "      <td>-0.216167</td>\n",
              "      <td>-0.467887</td>\n",
              "      <td>0.778393</td>\n",
              "      <td>-0.004937</td>\n",
              "      <td>0.022259</td>\n",
              "      <td>-0.005798</td>\n",
              "      <td>0.573086</td>\n",
              "      <td>-0.216771</td>\n",
              "      <td>-0.301946</td>\n",
              "      <td>0</td>\n",
              "      <td>1</td>\n",
              "    </tr>\n",
              "    <tr>\n",
              "      <th>102</th>\n",
              "      <td>4</td>\n",
              "      <td>-0.609177</td>\n",
              "      <td>0.747806</td>\n",
              "      <td>0.539275</td>\n",
              "      <td>0.459783</td>\n",
              "      <td>-0.643176</td>\n",
              "      <td>0.702466</td>\n",
              "      <td>0.534028</td>\n",
              "      <td>-0.095283</td>\n",
              "      <td>0.042391</td>\n",
              "      <td>-0.011085</td>\n",
              "      <td>-0.255679</td>\n",
              "      <td>-1.287722</td>\n",
              "      <td>-0.098910</td>\n",
              "      <td>1</td>\n",
              "      <td>0</td>\n",
              "    </tr>\n",
              "    <tr>\n",
              "      <th>2183</th>\n",
              "      <td>0</td>\n",
              "      <td>0.051850</td>\n",
              "      <td>0.200272</td>\n",
              "      <td>0.747373</td>\n",
              "      <td>-0.588517</td>\n",
              "      <td>0.008269</td>\n",
              "      <td>0.226670</td>\n",
              "      <td>0.700789</td>\n",
              "      <td>0.814532</td>\n",
              "      <td>-0.176710</td>\n",
              "      <td>-0.027955</td>\n",
              "      <td>0.173504</td>\n",
              "      <td>0.638933</td>\n",
              "      <td>-0.513916</td>\n",
              "      <td>0</td>\n",
              "      <td>1</td>\n",
              "    </tr>\n",
              "    <tr>\n",
              "      <th>3921</th>\n",
              "      <td>0</td>\n",
              "      <td>1.804858</td>\n",
              "      <td>0.777190</td>\n",
              "      <td>-0.119240</td>\n",
              "      <td>-0.588517</td>\n",
              "      <td>1.864992</td>\n",
              "      <td>0.762427</td>\n",
              "      <td>-0.112079</td>\n",
              "      <td>0.023716</td>\n",
              "      <td>0.038248</td>\n",
              "      <td>-0.018723</td>\n",
              "      <td>-0.808119</td>\n",
              "      <td>-0.816685</td>\n",
              "      <td>0.921905</td>\n",
              "      <td>0</td>\n",
              "      <td>1</td>\n",
              "    </tr>\n",
              "    <tr>\n",
              "      <th>15707</th>\n",
              "      <td>2</td>\n",
              "      <td>1.984365</td>\n",
              "      <td>-0.386742</td>\n",
              "      <td>0.097311</td>\n",
              "      <td>-1.798094</td>\n",
              "      <td>-0.161359</td>\n",
              "      <td>1.850007</td>\n",
              "      <td>-0.911539</td>\n",
              "      <td>0.144053</td>\n",
              "      <td>0.473924</td>\n",
              "      <td>0.345935</td>\n",
              "      <td>0.384698</td>\n",
              "      <td>-0.316490</td>\n",
              "      <td>-0.468466</td>\n",
              "      <td>0</td>\n",
              "      <td>1</td>\n",
              "    </tr>\n",
              "  </tbody>\n",
              "</table>\n",
              "<p>3887 rows × 16 columns</p>\n",
              "</div>\n",
              "      <button class=\"colab-df-convert\" onclick=\"convertToInteractive('df-b4ceb877-91f0-4484-b8b4-4b9275bd1a3f')\"\n",
              "              title=\"Convert this dataframe to an interactive table.\"\n",
              "              style=\"display:none;\">\n",
              "        \n",
              "  <svg xmlns=\"http://www.w3.org/2000/svg\" height=\"24px\"viewBox=\"0 0 24 24\"\n",
              "       width=\"24px\">\n",
              "    <path d=\"M0 0h24v24H0V0z\" fill=\"none\"/>\n",
              "    <path d=\"M18.56 5.44l.94 2.06.94-2.06 2.06-.94-2.06-.94-.94-2.06-.94 2.06-2.06.94zm-11 1L8.5 8.5l.94-2.06 2.06-.94-2.06-.94L8.5 2.5l-.94 2.06-2.06.94zm10 10l.94 2.06.94-2.06 2.06-.94-2.06-.94-.94-2.06-.94 2.06-2.06.94z\"/><path d=\"M17.41 7.96l-1.37-1.37c-.4-.4-.92-.59-1.43-.59-.52 0-1.04.2-1.43.59L10.3 9.45l-7.72 7.72c-.78.78-.78 2.05 0 2.83L4 21.41c.39.39.9.59 1.41.59.51 0 1.02-.2 1.41-.59l7.78-7.78 2.81-2.81c.8-.78.8-2.07 0-2.86zM5.41 20L4 18.59l7.72-7.72 1.47 1.35L5.41 20z\"/>\n",
              "  </svg>\n",
              "      </button>\n",
              "      \n",
              "  <style>\n",
              "    .colab-df-container {\n",
              "      display:flex;\n",
              "      flex-wrap:wrap;\n",
              "      gap: 12px;\n",
              "    }\n",
              "\n",
              "    .colab-df-convert {\n",
              "      background-color: #E8F0FE;\n",
              "      border: none;\n",
              "      border-radius: 50%;\n",
              "      cursor: pointer;\n",
              "      display: none;\n",
              "      fill: #1967D2;\n",
              "      height: 32px;\n",
              "      padding: 0 0 0 0;\n",
              "      width: 32px;\n",
              "    }\n",
              "\n",
              "    .colab-df-convert:hover {\n",
              "      background-color: #E2EBFA;\n",
              "      box-shadow: 0px 1px 2px rgba(60, 64, 67, 0.3), 0px 1px 3px 1px rgba(60, 64, 67, 0.15);\n",
              "      fill: #174EA6;\n",
              "    }\n",
              "\n",
              "    [theme=dark] .colab-df-convert {\n",
              "      background-color: #3B4455;\n",
              "      fill: #D2E3FC;\n",
              "    }\n",
              "\n",
              "    [theme=dark] .colab-df-convert:hover {\n",
              "      background-color: #434B5C;\n",
              "      box-shadow: 0px 1px 3px 1px rgba(0, 0, 0, 0.15);\n",
              "      filter: drop-shadow(0px 1px 2px rgba(0, 0, 0, 0.3));\n",
              "      fill: #FFFFFF;\n",
              "    }\n",
              "  </style>\n",
              "\n",
              "      <script>\n",
              "        const buttonEl =\n",
              "          document.querySelector('#df-b4ceb877-91f0-4484-b8b4-4b9275bd1a3f button.colab-df-convert');\n",
              "        buttonEl.style.display =\n",
              "          google.colab.kernel.accessAllowed ? 'block' : 'none';\n",
              "\n",
              "        async function convertToInteractive(key) {\n",
              "          const element = document.querySelector('#df-b4ceb877-91f0-4484-b8b4-4b9275bd1a3f');\n",
              "          const dataTable =\n",
              "            await google.colab.kernel.invokeFunction('convertToInteractive',\n",
              "                                                     [key], {});\n",
              "          if (!dataTable) return;\n",
              "\n",
              "          const docLinkHtml = 'Like what you see? Visit the ' +\n",
              "            '<a target=\"_blank\" href=https://colab.research.google.com/notebooks/data_table.ipynb>data table notebook</a>'\n",
              "            + ' to learn more about interactive tables.';\n",
              "          element.innerHTML = '';\n",
              "          dataTable['output_type'] = 'display_data';\n",
              "          await google.colab.output.renderOutput(dataTable, element);\n",
              "          const docLink = document.createElement('div');\n",
              "          docLink.innerHTML = docLinkHtml;\n",
              "          element.appendChild(docLink);\n",
              "        }\n",
              "      </script>\n",
              "    </div>\n",
              "  </div>\n",
              "  "
            ]
          },
          "metadata": {},
          "execution_count": 19
        }
      ]
    },
    {
      "cell_type": "code",
      "execution_count": 20,
      "metadata": {
        "colab": {
          "base_uri": "https://localhost:8080/"
        },
        "id": "WQxc_gQG98j8",
        "outputId": "7c0d7b81-84e2-46e2-fa19-c4c9e2f5e66f"
      },
      "outputs": [
        {
          "output_type": "execute_result",
          "data": {
            "text/plain": [
              "{0: 2807, 1: 6289, 2: 5621, 3: 485, 4: 345}"
            ]
          },
          "metadata": {},
          "execution_count": 20
        }
      ],
      "source": [
        "unique, count = np.unique(Y_train, return_counts=True)\n",
        "Y_train_dict_value_count = { k:v for (k,v) in zip(unique, count)}\n",
        "Y_train_dict_value_count"
      ]
    },
    {
      "cell_type": "code",
      "execution_count": 21,
      "metadata": {
        "id": "y5T1dhDc-51H"
      },
      "outputs": [],
      "source": [
        "from imblearn.over_sampling import SMOTE\n",
        "sm = SMOTE(random_state=12)\n",
        "x_train_res, y_train_res = sm.fit_resample(X_train, Y_train)"
      ]
    },
    {
      "cell_type": "code",
      "execution_count": 22,
      "metadata": {
        "colab": {
          "base_uri": "https://localhost:8080/"
        },
        "id": "n9DMjpud_AZA",
        "outputId": "b68df2c4-bd71-46ec-fc40-a181abfa09ba"
      },
      "outputs": [
        {
          "output_type": "execute_result",
          "data": {
            "text/plain": [
              "{0: 6289, 1: 6289, 2: 6289, 3: 6289, 4: 6289}"
            ]
          },
          "metadata": {},
          "execution_count": 22
        }
      ],
      "source": [
        "unique, count = np.unique(y_train_res, return_counts=True)\n",
        "y_train_smote_value_count = { k:v for (k,v) in zip(unique, count)}\n",
        "y_train_smote_value_count"
      ]
    },
    {
      "cell_type": "code",
      "execution_count": 23,
      "metadata": {
        "id": "evLtcjGAgLxp"
      },
      "outputs": [],
      "source": [
        "from IPython.display import clear_output\n",
        "\n",
        "class PlotLosses(keras.callbacks.Callback):\n",
        "    def on_train_begin(self, logs={}):\n",
        "        self.i = 0\n",
        "        self.x = []\n",
        "        self.losses = []\n",
        "        self.val_losses = []\n",
        "        \n",
        "        self.fig = plt.figure()\n",
        "        \n",
        "        self.logs = []\n",
        "\n",
        "    def on_epoch_end(self, epoch, logs={}):\n",
        "        \n",
        "        self.logs.append(logs)\n",
        "        self.x.append(self.i)\n",
        "        self.losses.append(logs.get('loss'))\n",
        "        self.val_losses.append(logs.get('val_loss'))\n",
        "        self.i += 1\n",
        "        \n",
        "        clear_output(wait=True)\n",
        "        plt.plot(self.x, self.losses, label=\"loss\")\n",
        "        plt.plot(self.x, self.val_losses, label=\"val_loss\")\n",
        "        plt.xlabel('Epoch')\n",
        "        plt.ylabel('Loss')\n",
        "        plt.title('Loss Vs Epoch')\n",
        "\n",
        "        plt.legend()\n",
        "        plt.show();\n",
        "        \n",
        "plot_losses = PlotLosses()"
      ]
    },
    {
      "cell_type": "code",
      "execution_count": 24,
      "metadata": {
        "id": "po0WsQhw_RP1"
      },
      "outputs": [],
      "source": [
        "X_train, Y_train = x_train_res, y_train_res"
      ]
    },
    {
      "cell_type": "code",
      "source": [
        "ds = X_train.copy()\n",
        "ds"
      ],
      "metadata": {
        "colab": {
          "base_uri": "https://localhost:8080/",
          "height": 424
        },
        "id": "C8xngF9GvP4g",
        "outputId": "9cb2e84b-51b1-4c06-b2dd-4ec3fd59f5d7"
      },
      "execution_count": 25,
      "outputs": [
        {
          "output_type": "execute_result",
          "data": {
            "text/plain": [
              "       ACCELEROMETER_X  ACCELEROMETER_Y  ACCELEROMETER_Z  BATTERY_LEVEL  \\\n",
              "0            -0.202257        -0.482234         0.771072       0.016271   \n",
              "1            -0.515490         1.818540        -0.827423       1.306487   \n",
              "2            -0.027706        -0.455181         0.794727      -0.024048   \n",
              "3             0.776607         1.518817        -0.306305      -0.709475   \n",
              "4             0.457294        -0.832700         0.687271       1.467763   \n",
              "...                ...              ...              ...            ...   \n",
              "31440        -2.724523         0.013850        -0.496892       0.294739   \n",
              "31441         1.828391         0.564801        -1.720038       1.626706   \n",
              "31442        -2.168578         1.067080        -1.084366      -1.898722   \n",
              "31443        -0.138909        -0.340827         0.776097       0.265996   \n",
              "31444        -0.403258        -0.245529         0.736206      -0.173829   \n",
              "\n",
              "         GRAV_X    GRAV_Y    GRAV_Z  GYROSCOPE_X  GYROSCOPE_Y  GYROSCOPE_Z  \\\n",
              "0     -0.218125 -0.516998  0.777823    -0.010996     0.019418    -0.007909   \n",
              "1     -0.149633 -0.432810  0.778154    -0.003982    -0.104758    -0.004413   \n",
              "2     -0.039383 -0.490264  0.775807    -0.009354     0.017535    -0.008438   \n",
              "3      0.832177  1.540687 -0.284930    -0.019978     0.007500    -0.002880   \n",
              "4      0.470156 -0.877560  0.705363    -0.041611     0.010302    -0.006850   \n",
              "...         ...       ...       ...          ...          ...          ...   \n",
              "31440 -2.643412  0.053575 -0.638496     0.001680     0.048107     0.008924   \n",
              "31441  1.869174  0.548930 -1.735499    -0.016231     0.018638    -0.003932   \n",
              "31442 -2.279600  0.966546 -1.273072    -0.078020    -0.412801     0.105917   \n",
              "31443 -0.151730 -0.372996  0.776455    -0.010129     0.016734    -0.008677   \n",
              "31444 -0.442961 -0.278881  0.766821    -0.011546     0.013221    -0.019207   \n",
              "\n",
              "          MAG_X     MAG_Y     MAG_Z  Gender_Female  Gender_Male  \n",
              "0      1.114745  0.885054 -0.113745              0            1  \n",
              "1      0.442857 -1.116412 -0.263459              1            0  \n",
              "2      0.938187 -0.243185 -0.100248              0            1  \n",
              "3      0.157767 -0.752394  0.996558              0            1  \n",
              "4      0.702859  0.136092 -0.375151              1            0  \n",
              "...         ...       ...       ...            ...          ...  \n",
              "31440  1.542362 -0.248441  0.164605              0            0  \n",
              "31441 -0.046497  0.073199  0.822812              0            1  \n",
              "31442  0.303800 -1.408742  0.501486              1            0  \n",
              "31443  0.063036 -0.415136 -0.346563              1            0  \n",
              "31444  0.758178 -0.621111 -0.348778              0            1  \n",
              "\n",
              "[31445 rows x 15 columns]"
            ],
            "text/html": [
              "\n",
              "  <div id=\"df-29a18c8e-1727-454b-8f4b-f16118959996\">\n",
              "    <div class=\"colab-df-container\">\n",
              "      <div>\n",
              "<style scoped>\n",
              "    .dataframe tbody tr th:only-of-type {\n",
              "        vertical-align: middle;\n",
              "    }\n",
              "\n",
              "    .dataframe tbody tr th {\n",
              "        vertical-align: top;\n",
              "    }\n",
              "\n",
              "    .dataframe thead th {\n",
              "        text-align: right;\n",
              "    }\n",
              "</style>\n",
              "<table border=\"1\" class=\"dataframe\">\n",
              "  <thead>\n",
              "    <tr style=\"text-align: right;\">\n",
              "      <th></th>\n",
              "      <th>ACCELEROMETER_X</th>\n",
              "      <th>ACCELEROMETER_Y</th>\n",
              "      <th>ACCELEROMETER_Z</th>\n",
              "      <th>BATTERY_LEVEL</th>\n",
              "      <th>GRAV_X</th>\n",
              "      <th>GRAV_Y</th>\n",
              "      <th>GRAV_Z</th>\n",
              "      <th>GYROSCOPE_X</th>\n",
              "      <th>GYROSCOPE_Y</th>\n",
              "      <th>GYROSCOPE_Z</th>\n",
              "      <th>MAG_X</th>\n",
              "      <th>MAG_Y</th>\n",
              "      <th>MAG_Z</th>\n",
              "      <th>Gender_Female</th>\n",
              "      <th>Gender_Male</th>\n",
              "    </tr>\n",
              "  </thead>\n",
              "  <tbody>\n",
              "    <tr>\n",
              "      <th>0</th>\n",
              "      <td>-0.202257</td>\n",
              "      <td>-0.482234</td>\n",
              "      <td>0.771072</td>\n",
              "      <td>0.016271</td>\n",
              "      <td>-0.218125</td>\n",
              "      <td>-0.516998</td>\n",
              "      <td>0.777823</td>\n",
              "      <td>-0.010996</td>\n",
              "      <td>0.019418</td>\n",
              "      <td>-0.007909</td>\n",
              "      <td>1.114745</td>\n",
              "      <td>0.885054</td>\n",
              "      <td>-0.113745</td>\n",
              "      <td>0</td>\n",
              "      <td>1</td>\n",
              "    </tr>\n",
              "    <tr>\n",
              "      <th>1</th>\n",
              "      <td>-0.515490</td>\n",
              "      <td>1.818540</td>\n",
              "      <td>-0.827423</td>\n",
              "      <td>1.306487</td>\n",
              "      <td>-0.149633</td>\n",
              "      <td>-0.432810</td>\n",
              "      <td>0.778154</td>\n",
              "      <td>-0.003982</td>\n",
              "      <td>-0.104758</td>\n",
              "      <td>-0.004413</td>\n",
              "      <td>0.442857</td>\n",
              "      <td>-1.116412</td>\n",
              "      <td>-0.263459</td>\n",
              "      <td>1</td>\n",
              "      <td>0</td>\n",
              "    </tr>\n",
              "    <tr>\n",
              "      <th>2</th>\n",
              "      <td>-0.027706</td>\n",
              "      <td>-0.455181</td>\n",
              "      <td>0.794727</td>\n",
              "      <td>-0.024048</td>\n",
              "      <td>-0.039383</td>\n",
              "      <td>-0.490264</td>\n",
              "      <td>0.775807</td>\n",
              "      <td>-0.009354</td>\n",
              "      <td>0.017535</td>\n",
              "      <td>-0.008438</td>\n",
              "      <td>0.938187</td>\n",
              "      <td>-0.243185</td>\n",
              "      <td>-0.100248</td>\n",
              "      <td>0</td>\n",
              "      <td>1</td>\n",
              "    </tr>\n",
              "    <tr>\n",
              "      <th>3</th>\n",
              "      <td>0.776607</td>\n",
              "      <td>1.518817</td>\n",
              "      <td>-0.306305</td>\n",
              "      <td>-0.709475</td>\n",
              "      <td>0.832177</td>\n",
              "      <td>1.540687</td>\n",
              "      <td>-0.284930</td>\n",
              "      <td>-0.019978</td>\n",
              "      <td>0.007500</td>\n",
              "      <td>-0.002880</td>\n",
              "      <td>0.157767</td>\n",
              "      <td>-0.752394</td>\n",
              "      <td>0.996558</td>\n",
              "      <td>0</td>\n",
              "      <td>1</td>\n",
              "    </tr>\n",
              "    <tr>\n",
              "      <th>4</th>\n",
              "      <td>0.457294</td>\n",
              "      <td>-0.832700</td>\n",
              "      <td>0.687271</td>\n",
              "      <td>1.467763</td>\n",
              "      <td>0.470156</td>\n",
              "      <td>-0.877560</td>\n",
              "      <td>0.705363</td>\n",
              "      <td>-0.041611</td>\n",
              "      <td>0.010302</td>\n",
              "      <td>-0.006850</td>\n",
              "      <td>0.702859</td>\n",
              "      <td>0.136092</td>\n",
              "      <td>-0.375151</td>\n",
              "      <td>1</td>\n",
              "      <td>0</td>\n",
              "    </tr>\n",
              "    <tr>\n",
              "      <th>...</th>\n",
              "      <td>...</td>\n",
              "      <td>...</td>\n",
              "      <td>...</td>\n",
              "      <td>...</td>\n",
              "      <td>...</td>\n",
              "      <td>...</td>\n",
              "      <td>...</td>\n",
              "      <td>...</td>\n",
              "      <td>...</td>\n",
              "      <td>...</td>\n",
              "      <td>...</td>\n",
              "      <td>...</td>\n",
              "      <td>...</td>\n",
              "      <td>...</td>\n",
              "      <td>...</td>\n",
              "    </tr>\n",
              "    <tr>\n",
              "      <th>31440</th>\n",
              "      <td>-2.724523</td>\n",
              "      <td>0.013850</td>\n",
              "      <td>-0.496892</td>\n",
              "      <td>0.294739</td>\n",
              "      <td>-2.643412</td>\n",
              "      <td>0.053575</td>\n",
              "      <td>-0.638496</td>\n",
              "      <td>0.001680</td>\n",
              "      <td>0.048107</td>\n",
              "      <td>0.008924</td>\n",
              "      <td>1.542362</td>\n",
              "      <td>-0.248441</td>\n",
              "      <td>0.164605</td>\n",
              "      <td>0</td>\n",
              "      <td>0</td>\n",
              "    </tr>\n",
              "    <tr>\n",
              "      <th>31441</th>\n",
              "      <td>1.828391</td>\n",
              "      <td>0.564801</td>\n",
              "      <td>-1.720038</td>\n",
              "      <td>1.626706</td>\n",
              "      <td>1.869174</td>\n",
              "      <td>0.548930</td>\n",
              "      <td>-1.735499</td>\n",
              "      <td>-0.016231</td>\n",
              "      <td>0.018638</td>\n",
              "      <td>-0.003932</td>\n",
              "      <td>-0.046497</td>\n",
              "      <td>0.073199</td>\n",
              "      <td>0.822812</td>\n",
              "      <td>0</td>\n",
              "      <td>1</td>\n",
              "    </tr>\n",
              "    <tr>\n",
              "      <th>31442</th>\n",
              "      <td>-2.168578</td>\n",
              "      <td>1.067080</td>\n",
              "      <td>-1.084366</td>\n",
              "      <td>-1.898722</td>\n",
              "      <td>-2.279600</td>\n",
              "      <td>0.966546</td>\n",
              "      <td>-1.273072</td>\n",
              "      <td>-0.078020</td>\n",
              "      <td>-0.412801</td>\n",
              "      <td>0.105917</td>\n",
              "      <td>0.303800</td>\n",
              "      <td>-1.408742</td>\n",
              "      <td>0.501486</td>\n",
              "      <td>1</td>\n",
              "      <td>0</td>\n",
              "    </tr>\n",
              "    <tr>\n",
              "      <th>31443</th>\n",
              "      <td>-0.138909</td>\n",
              "      <td>-0.340827</td>\n",
              "      <td>0.776097</td>\n",
              "      <td>0.265996</td>\n",
              "      <td>-0.151730</td>\n",
              "      <td>-0.372996</td>\n",
              "      <td>0.776455</td>\n",
              "      <td>-0.010129</td>\n",
              "      <td>0.016734</td>\n",
              "      <td>-0.008677</td>\n",
              "      <td>0.063036</td>\n",
              "      <td>-0.415136</td>\n",
              "      <td>-0.346563</td>\n",
              "      <td>1</td>\n",
              "      <td>0</td>\n",
              "    </tr>\n",
              "    <tr>\n",
              "      <th>31444</th>\n",
              "      <td>-0.403258</td>\n",
              "      <td>-0.245529</td>\n",
              "      <td>0.736206</td>\n",
              "      <td>-0.173829</td>\n",
              "      <td>-0.442961</td>\n",
              "      <td>-0.278881</td>\n",
              "      <td>0.766821</td>\n",
              "      <td>-0.011546</td>\n",
              "      <td>0.013221</td>\n",
              "      <td>-0.019207</td>\n",
              "      <td>0.758178</td>\n",
              "      <td>-0.621111</td>\n",
              "      <td>-0.348778</td>\n",
              "      <td>0</td>\n",
              "      <td>1</td>\n",
              "    </tr>\n",
              "  </tbody>\n",
              "</table>\n",
              "<p>31445 rows × 15 columns</p>\n",
              "</div>\n",
              "      <button class=\"colab-df-convert\" onclick=\"convertToInteractive('df-29a18c8e-1727-454b-8f4b-f16118959996')\"\n",
              "              title=\"Convert this dataframe to an interactive table.\"\n",
              "              style=\"display:none;\">\n",
              "        \n",
              "  <svg xmlns=\"http://www.w3.org/2000/svg\" height=\"24px\"viewBox=\"0 0 24 24\"\n",
              "       width=\"24px\">\n",
              "    <path d=\"M0 0h24v24H0V0z\" fill=\"none\"/>\n",
              "    <path d=\"M18.56 5.44l.94 2.06.94-2.06 2.06-.94-2.06-.94-.94-2.06-.94 2.06-2.06.94zm-11 1L8.5 8.5l.94-2.06 2.06-.94-2.06-.94L8.5 2.5l-.94 2.06-2.06.94zm10 10l.94 2.06.94-2.06 2.06-.94-2.06-.94-.94-2.06-.94 2.06-2.06.94z\"/><path d=\"M17.41 7.96l-1.37-1.37c-.4-.4-.92-.59-1.43-.59-.52 0-1.04.2-1.43.59L10.3 9.45l-7.72 7.72c-.78.78-.78 2.05 0 2.83L4 21.41c.39.39.9.59 1.41.59.51 0 1.02-.2 1.41-.59l7.78-7.78 2.81-2.81c.8-.78.8-2.07 0-2.86zM5.41 20L4 18.59l7.72-7.72 1.47 1.35L5.41 20z\"/>\n",
              "  </svg>\n",
              "      </button>\n",
              "      \n",
              "  <style>\n",
              "    .colab-df-container {\n",
              "      display:flex;\n",
              "      flex-wrap:wrap;\n",
              "      gap: 12px;\n",
              "    }\n",
              "\n",
              "    .colab-df-convert {\n",
              "      background-color: #E8F0FE;\n",
              "      border: none;\n",
              "      border-radius: 50%;\n",
              "      cursor: pointer;\n",
              "      display: none;\n",
              "      fill: #1967D2;\n",
              "      height: 32px;\n",
              "      padding: 0 0 0 0;\n",
              "      width: 32px;\n",
              "    }\n",
              "\n",
              "    .colab-df-convert:hover {\n",
              "      background-color: #E2EBFA;\n",
              "      box-shadow: 0px 1px 2px rgba(60, 64, 67, 0.3), 0px 1px 3px 1px rgba(60, 64, 67, 0.15);\n",
              "      fill: #174EA6;\n",
              "    }\n",
              "\n",
              "    [theme=dark] .colab-df-convert {\n",
              "      background-color: #3B4455;\n",
              "      fill: #D2E3FC;\n",
              "    }\n",
              "\n",
              "    [theme=dark] .colab-df-convert:hover {\n",
              "      background-color: #434B5C;\n",
              "      box-shadow: 0px 1px 3px 1px rgba(0, 0, 0, 0.15);\n",
              "      filter: drop-shadow(0px 1px 2px rgba(0, 0, 0, 0.3));\n",
              "      fill: #FFFFFF;\n",
              "    }\n",
              "  </style>\n",
              "\n",
              "      <script>\n",
              "        const buttonEl =\n",
              "          document.querySelector('#df-29a18c8e-1727-454b-8f4b-f16118959996 button.colab-df-convert');\n",
              "        buttonEl.style.display =\n",
              "          google.colab.kernel.accessAllowed ? 'block' : 'none';\n",
              "\n",
              "        async function convertToInteractive(key) {\n",
              "          const element = document.querySelector('#df-29a18c8e-1727-454b-8f4b-f16118959996');\n",
              "          const dataTable =\n",
              "            await google.colab.kernel.invokeFunction('convertToInteractive',\n",
              "                                                     [key], {});\n",
              "          if (!dataTable) return;\n",
              "\n",
              "          const docLinkHtml = 'Like what you see? Visit the ' +\n",
              "            '<a target=\"_blank\" href=https://colab.research.google.com/notebooks/data_table.ipynb>data table notebook</a>'\n",
              "            + ' to learn more about interactive tables.';\n",
              "          element.innerHTML = '';\n",
              "          dataTable['output_type'] = 'display_data';\n",
              "          await google.colab.output.renderOutput(dataTable, element);\n",
              "          const docLink = document.createElement('div');\n",
              "          docLink.innerHTML = docLinkHtml;\n",
              "          element.appendChild(docLink);\n",
              "        }\n",
              "      </script>\n",
              "    </div>\n",
              "  </div>\n",
              "  "
            ]
          },
          "metadata": {},
          "execution_count": 25
        }
      ]
    },
    {
      "cell_type": "code",
      "source": [
        "#ds['PHQ_Label'] = Y_train\n",
        "ds.insert(loc = 0, column = \"PHQ-Label\", value = Y_train)\n",
        "ds.head()"
      ],
      "metadata": {
        "colab": {
          "base_uri": "https://localhost:8080/",
          "height": 206
        },
        "id": "n5QknJyBveMq",
        "outputId": "bfe1e982-53f2-4e0b-9cc8-68333afc17be"
      },
      "execution_count": 26,
      "outputs": [
        {
          "output_type": "execute_result",
          "data": {
            "text/plain": [
              "   PHQ-Label  ACCELEROMETER_X  ACCELEROMETER_Y  ACCELEROMETER_Z  \\\n",
              "0          1        -0.202257        -0.482234         0.771072   \n",
              "1          3        -0.515490         1.818540        -0.827423   \n",
              "2          2        -0.027706        -0.455181         0.794727   \n",
              "3          2         0.776607         1.518817        -0.306305   \n",
              "4          1         0.457294        -0.832700         0.687271   \n",
              "\n",
              "   BATTERY_LEVEL    GRAV_X    GRAV_Y    GRAV_Z  GYROSCOPE_X  GYROSCOPE_Y  \\\n",
              "0       0.016271 -0.218125 -0.516998  0.777823    -0.010996     0.019418   \n",
              "1       1.306487 -0.149633 -0.432810  0.778154    -0.003982    -0.104758   \n",
              "2      -0.024048 -0.039383 -0.490264  0.775807    -0.009354     0.017535   \n",
              "3      -0.709475  0.832177  1.540687 -0.284930    -0.019978     0.007500   \n",
              "4       1.467763  0.470156 -0.877560  0.705363    -0.041611     0.010302   \n",
              "\n",
              "   GYROSCOPE_Z     MAG_X     MAG_Y     MAG_Z  Gender_Female  Gender_Male  \n",
              "0    -0.007909  1.114745  0.885054 -0.113745              0            1  \n",
              "1    -0.004413  0.442857 -1.116412 -0.263459              1            0  \n",
              "2    -0.008438  0.938187 -0.243185 -0.100248              0            1  \n",
              "3    -0.002880  0.157767 -0.752394  0.996558              0            1  \n",
              "4    -0.006850  0.702859  0.136092 -0.375151              1            0  "
            ],
            "text/html": [
              "\n",
              "  <div id=\"df-4c0e550c-0bae-4125-9c02-fb5ade2c1887\">\n",
              "    <div class=\"colab-df-container\">\n",
              "      <div>\n",
              "<style scoped>\n",
              "    .dataframe tbody tr th:only-of-type {\n",
              "        vertical-align: middle;\n",
              "    }\n",
              "\n",
              "    .dataframe tbody tr th {\n",
              "        vertical-align: top;\n",
              "    }\n",
              "\n",
              "    .dataframe thead th {\n",
              "        text-align: right;\n",
              "    }\n",
              "</style>\n",
              "<table border=\"1\" class=\"dataframe\">\n",
              "  <thead>\n",
              "    <tr style=\"text-align: right;\">\n",
              "      <th></th>\n",
              "      <th>PHQ-Label</th>\n",
              "      <th>ACCELEROMETER_X</th>\n",
              "      <th>ACCELEROMETER_Y</th>\n",
              "      <th>ACCELEROMETER_Z</th>\n",
              "      <th>BATTERY_LEVEL</th>\n",
              "      <th>GRAV_X</th>\n",
              "      <th>GRAV_Y</th>\n",
              "      <th>GRAV_Z</th>\n",
              "      <th>GYROSCOPE_X</th>\n",
              "      <th>GYROSCOPE_Y</th>\n",
              "      <th>GYROSCOPE_Z</th>\n",
              "      <th>MAG_X</th>\n",
              "      <th>MAG_Y</th>\n",
              "      <th>MAG_Z</th>\n",
              "      <th>Gender_Female</th>\n",
              "      <th>Gender_Male</th>\n",
              "    </tr>\n",
              "  </thead>\n",
              "  <tbody>\n",
              "    <tr>\n",
              "      <th>0</th>\n",
              "      <td>1</td>\n",
              "      <td>-0.202257</td>\n",
              "      <td>-0.482234</td>\n",
              "      <td>0.771072</td>\n",
              "      <td>0.016271</td>\n",
              "      <td>-0.218125</td>\n",
              "      <td>-0.516998</td>\n",
              "      <td>0.777823</td>\n",
              "      <td>-0.010996</td>\n",
              "      <td>0.019418</td>\n",
              "      <td>-0.007909</td>\n",
              "      <td>1.114745</td>\n",
              "      <td>0.885054</td>\n",
              "      <td>-0.113745</td>\n",
              "      <td>0</td>\n",
              "      <td>1</td>\n",
              "    </tr>\n",
              "    <tr>\n",
              "      <th>1</th>\n",
              "      <td>3</td>\n",
              "      <td>-0.515490</td>\n",
              "      <td>1.818540</td>\n",
              "      <td>-0.827423</td>\n",
              "      <td>1.306487</td>\n",
              "      <td>-0.149633</td>\n",
              "      <td>-0.432810</td>\n",
              "      <td>0.778154</td>\n",
              "      <td>-0.003982</td>\n",
              "      <td>-0.104758</td>\n",
              "      <td>-0.004413</td>\n",
              "      <td>0.442857</td>\n",
              "      <td>-1.116412</td>\n",
              "      <td>-0.263459</td>\n",
              "      <td>1</td>\n",
              "      <td>0</td>\n",
              "    </tr>\n",
              "    <tr>\n",
              "      <th>2</th>\n",
              "      <td>2</td>\n",
              "      <td>-0.027706</td>\n",
              "      <td>-0.455181</td>\n",
              "      <td>0.794727</td>\n",
              "      <td>-0.024048</td>\n",
              "      <td>-0.039383</td>\n",
              "      <td>-0.490264</td>\n",
              "      <td>0.775807</td>\n",
              "      <td>-0.009354</td>\n",
              "      <td>0.017535</td>\n",
              "      <td>-0.008438</td>\n",
              "      <td>0.938187</td>\n",
              "      <td>-0.243185</td>\n",
              "      <td>-0.100248</td>\n",
              "      <td>0</td>\n",
              "      <td>1</td>\n",
              "    </tr>\n",
              "    <tr>\n",
              "      <th>3</th>\n",
              "      <td>2</td>\n",
              "      <td>0.776607</td>\n",
              "      <td>1.518817</td>\n",
              "      <td>-0.306305</td>\n",
              "      <td>-0.709475</td>\n",
              "      <td>0.832177</td>\n",
              "      <td>1.540687</td>\n",
              "      <td>-0.284930</td>\n",
              "      <td>-0.019978</td>\n",
              "      <td>0.007500</td>\n",
              "      <td>-0.002880</td>\n",
              "      <td>0.157767</td>\n",
              "      <td>-0.752394</td>\n",
              "      <td>0.996558</td>\n",
              "      <td>0</td>\n",
              "      <td>1</td>\n",
              "    </tr>\n",
              "    <tr>\n",
              "      <th>4</th>\n",
              "      <td>1</td>\n",
              "      <td>0.457294</td>\n",
              "      <td>-0.832700</td>\n",
              "      <td>0.687271</td>\n",
              "      <td>1.467763</td>\n",
              "      <td>0.470156</td>\n",
              "      <td>-0.877560</td>\n",
              "      <td>0.705363</td>\n",
              "      <td>-0.041611</td>\n",
              "      <td>0.010302</td>\n",
              "      <td>-0.006850</td>\n",
              "      <td>0.702859</td>\n",
              "      <td>0.136092</td>\n",
              "      <td>-0.375151</td>\n",
              "      <td>1</td>\n",
              "      <td>0</td>\n",
              "    </tr>\n",
              "  </tbody>\n",
              "</table>\n",
              "</div>\n",
              "      <button class=\"colab-df-convert\" onclick=\"convertToInteractive('df-4c0e550c-0bae-4125-9c02-fb5ade2c1887')\"\n",
              "              title=\"Convert this dataframe to an interactive table.\"\n",
              "              style=\"display:none;\">\n",
              "        \n",
              "  <svg xmlns=\"http://www.w3.org/2000/svg\" height=\"24px\"viewBox=\"0 0 24 24\"\n",
              "       width=\"24px\">\n",
              "    <path d=\"M0 0h24v24H0V0z\" fill=\"none\"/>\n",
              "    <path d=\"M18.56 5.44l.94 2.06.94-2.06 2.06-.94-2.06-.94-.94-2.06-.94 2.06-2.06.94zm-11 1L8.5 8.5l.94-2.06 2.06-.94-2.06-.94L8.5 2.5l-.94 2.06-2.06.94zm10 10l.94 2.06.94-2.06 2.06-.94-2.06-.94-.94-2.06-.94 2.06-2.06.94z\"/><path d=\"M17.41 7.96l-1.37-1.37c-.4-.4-.92-.59-1.43-.59-.52 0-1.04.2-1.43.59L10.3 9.45l-7.72 7.72c-.78.78-.78 2.05 0 2.83L4 21.41c.39.39.9.59 1.41.59.51 0 1.02-.2 1.41-.59l7.78-7.78 2.81-2.81c.8-.78.8-2.07 0-2.86zM5.41 20L4 18.59l7.72-7.72 1.47 1.35L5.41 20z\"/>\n",
              "  </svg>\n",
              "      </button>\n",
              "      \n",
              "  <style>\n",
              "    .colab-df-container {\n",
              "      display:flex;\n",
              "      flex-wrap:wrap;\n",
              "      gap: 12px;\n",
              "    }\n",
              "\n",
              "    .colab-df-convert {\n",
              "      background-color: #E8F0FE;\n",
              "      border: none;\n",
              "      border-radius: 50%;\n",
              "      cursor: pointer;\n",
              "      display: none;\n",
              "      fill: #1967D2;\n",
              "      height: 32px;\n",
              "      padding: 0 0 0 0;\n",
              "      width: 32px;\n",
              "    }\n",
              "\n",
              "    .colab-df-convert:hover {\n",
              "      background-color: #E2EBFA;\n",
              "      box-shadow: 0px 1px 2px rgba(60, 64, 67, 0.3), 0px 1px 3px 1px rgba(60, 64, 67, 0.15);\n",
              "      fill: #174EA6;\n",
              "    }\n",
              "\n",
              "    [theme=dark] .colab-df-convert {\n",
              "      background-color: #3B4455;\n",
              "      fill: #D2E3FC;\n",
              "    }\n",
              "\n",
              "    [theme=dark] .colab-df-convert:hover {\n",
              "      background-color: #434B5C;\n",
              "      box-shadow: 0px 1px 3px 1px rgba(0, 0, 0, 0.15);\n",
              "      filter: drop-shadow(0px 1px 2px rgba(0, 0, 0, 0.3));\n",
              "      fill: #FFFFFF;\n",
              "    }\n",
              "  </style>\n",
              "\n",
              "      <script>\n",
              "        const buttonEl =\n",
              "          document.querySelector('#df-4c0e550c-0bae-4125-9c02-fb5ade2c1887 button.colab-df-convert');\n",
              "        buttonEl.style.display =\n",
              "          google.colab.kernel.accessAllowed ? 'block' : 'none';\n",
              "\n",
              "        async function convertToInteractive(key) {\n",
              "          const element = document.querySelector('#df-4c0e550c-0bae-4125-9c02-fb5ade2c1887');\n",
              "          const dataTable =\n",
              "            await google.colab.kernel.invokeFunction('convertToInteractive',\n",
              "                                                     [key], {});\n",
              "          if (!dataTable) return;\n",
              "\n",
              "          const docLinkHtml = 'Like what you see? Visit the ' +\n",
              "            '<a target=\"_blank\" href=https://colab.research.google.com/notebooks/data_table.ipynb>data table notebook</a>'\n",
              "            + ' to learn more about interactive tables.';\n",
              "          element.innerHTML = '';\n",
              "          dataTable['output_type'] = 'display_data';\n",
              "          await google.colab.output.renderOutput(dataTable, element);\n",
              "          const docLink = document.createElement('div');\n",
              "          docLink.innerHTML = docLinkHtml;\n",
              "          element.appendChild(docLink);\n",
              "        }\n",
              "      </script>\n",
              "    </div>\n",
              "  </div>\n",
              "  "
            ]
          },
          "metadata": {},
          "execution_count": 26
        }
      ]
    },
    {
      "cell_type": "code",
      "source": [
        "ds.shape"
      ],
      "metadata": {
        "colab": {
          "base_uri": "https://localhost:8080/"
        },
        "id": "L8GFQJIAiI3a",
        "outputId": "62035afd-adc3-4344-c35b-3d0d6e4c2f07"
      },
      "execution_count": 27,
      "outputs": [
        {
          "output_type": "execute_result",
          "data": {
            "text/plain": [
              "(31445, 16)"
            ]
          },
          "metadata": {},
          "execution_count": 27
        }
      ]
    },
    {
      "cell_type": "code",
      "source": [
        "ds.to_csv('train.csv', index=False, header=None, float_format=\"%.4f\")\n",
        "dt.to_csv('test.csv', index=False, header=None, float_format=\"%.4f\")"
      ],
      "metadata": {
        "id": "sUNxYNHvtMXb"
      },
      "execution_count": 28,
      "outputs": []
    },
    {
      "cell_type": "code",
      "source": [
        "ds['PHQ-Label'].value_counts()"
      ],
      "metadata": {
        "colab": {
          "base_uri": "https://localhost:8080/"
        },
        "id": "SUSvzTk-egPs",
        "outputId": "57399805-9d29-4700-9585-f332fac40629"
      },
      "execution_count": 29,
      "outputs": [
        {
          "output_type": "execute_result",
          "data": {
            "text/plain": [
              "1    6289\n",
              "3    6289\n",
              "2    6289\n",
              "0    6289\n",
              "4    6289\n",
              "Name: PHQ-Label, dtype: int64"
            ]
          },
          "metadata": {},
          "execution_count": 29
        }
      ]
    },
    {
      "cell_type": "code",
      "execution_count": 30,
      "metadata": {
        "id": "9m8Hd9pG3ge2"
      },
      "outputs": [],
      "source": [
        "model=tf.keras.Sequential([\n",
        "          tf.keras.layers.Dense(250,activation='relu',input_shape=(X.shape[1],)),         \n",
        "          tf.keras.layers.Dense(500,activation='relu'),  \n",
        "          tf.keras.layers.Dense(1000,activation='relu'),  \n",
        "          tf.keras.layers.Dense(5,activation='softmax')           \n",
        "])"
      ]
    },
    {
      "cell_type": "code",
      "execution_count": 31,
      "metadata": {
        "id": "G6W5T9DF3hmU"
      },
      "outputs": [],
      "source": [
        "from tensorflow import keras\n",
        "opt = keras.optimizers.SGD(learning_rate=0.1)\n",
        "model.compile(optimizer=opt, loss=\"sparse_categorical_crossentropy\", metrics=[\"accuracy\"])"
      ]
    },
    {
      "cell_type": "code",
      "execution_count": 31,
      "metadata": {
        "id": "t_e0A1QqlRce"
      },
      "outputs": [],
      "source": [
        ""
      ]
    },
    {
      "cell_type": "code",
      "execution_count": 32,
      "metadata": {
        "colab": {
          "base_uri": "https://localhost:8080/"
        },
        "id": "6QRTlAmocMN9",
        "outputId": "fbccdaaf-49c5-4e33-b1ef-3d9597455036"
      },
      "outputs": [
        {
          "output_type": "stream",
          "name": "stdout",
          "text": [
            "Model: \"sequential\"\n",
            "_________________________________________________________________\n",
            " Layer (type)                Output Shape              Param #   \n",
            "=================================================================\n",
            " dense (Dense)               (None, 250)               4000      \n",
            "                                                                 \n",
            " dense_1 (Dense)             (None, 500)               125500    \n",
            "                                                                 \n",
            " dense_2 (Dense)             (None, 1000)              501000    \n",
            "                                                                 \n",
            " dense_3 (Dense)             (None, 5)                 5005      \n",
            "                                                                 \n",
            "=================================================================\n",
            "Total params: 635,505\n",
            "Trainable params: 635,505\n",
            "Non-trainable params: 0\n",
            "_________________________________________________________________\n"
          ]
        }
      ],
      "source": [
        "model.summary()"
      ]
    },
    {
      "cell_type": "code",
      "execution_count": 33,
      "metadata": {
        "id": "rHzQjcrwluOB"
      },
      "outputs": [],
      "source": [
        "tf.keras.utils.set_random_seed(100)"
      ]
    },
    {
      "cell_type": "code",
      "execution_count": 34,
      "metadata": {
        "colab": {
          "base_uri": "https://localhost:8080/",
          "height": 295
        },
        "id": "mtGts0bd3iea",
        "outputId": "c1941b00-0c1e-4b04-cf79-a07f322e0293"
      },
      "outputs": [
        {
          "output_type": "display_data",
          "data": {
            "text/plain": [
              "<Figure size 432x288 with 1 Axes>"
            ],
            "image/png": "[encoded data removed]"
          },
          "metadata": {
            "needs_background": "light"
          }
        }
      ],
      "source": [
        "trained_model=model.fit(X_train,Y_train,epochs=30, batch_size=64, callbacks=[plot_losses], verbose=0, )"
      ]
    },
    {
      "cell_type": "code",
      "execution_count": 35,
      "metadata": {
        "id": "VllMd_v03jgS"
      },
      "outputs": [],
      "source": [
        "Y_pred = model.predict(X_test)"
      ]
    },
    {
      "cell_type": "code",
      "execution_count": 36,
      "metadata": {
        "id": "Si4qOaj83kTg",
        "colab": {
          "base_uri": "https://localhost:8080/"
        },
        "outputId": "e89b2bcf-7230-42dd-9d90-c0315afc1f82"
      },
      "outputs": [
        {
          "output_type": "execute_result",
          "data": {
            "text/plain": [
              "array([[5.20543531e-02, 6.18174732e-01, 1.03377461e-01, 2.26393387e-01,\n",
              "        8.69420438e-11],\n",
              "       [1.12889850e-07, 1.35896266e-01, 8.64089787e-01, 1.37526604e-05,\n",
              "        1.28067973e-10],\n",
              "       [9.49184323e-06, 5.10284565e-02, 1.76651939e-03, 1.42645593e-08,\n",
              "        9.47195530e-01],\n",
              "       ...,\n",
              "       [9.98708963e-01, 9.65298328e-04, 3.25734756e-04, 1.07945795e-08,\n",
              "        4.00030925e-10],\n",
              "       [9.89931345e-01, 3.93371825e-04, 6.88527990e-03, 1.68764623e-12,\n",
              "        2.79014511e-03],\n",
              "       [2.16992066e-06, 2.03551399e-03, 9.97962356e-01, 2.95766633e-09,\n",
              "        7.26495863e-10]], dtype=float32)"
            ]
          },
          "metadata": {},
          "execution_count": 36
        }
      ],
      "source": [
        "Y_pred"
      ]
    },
    {
      "cell_type": "code",
      "execution_count": 37,
      "metadata": {
        "id": "VGxy9s5o3lEN",
        "colab": {
          "base_uri": "https://localhost:8080/"
        },
        "outputId": "eb7faa1e-66f4-4dbb-ebb0-6b16df7f9a32"
      },
      "outputs": [
        {
          "output_type": "execute_result",
          "data": {
            "text/plain": [
              "array([1, 2, 4, ..., 0, 0, 2])"
            ]
          },
          "metadata": {},
          "execution_count": 37
        }
      ],
      "source": [
        "Y_pred = Y_pred.argmax(axis=1) \n",
        "Y_pred"
      ]
    },
    {
      "cell_type": "code",
      "execution_count": 38,
      "metadata": {
        "id": "vyH4c0oE3mBP",
        "colab": {
          "base_uri": "https://localhost:8080/"
        },
        "outputId": "6fb996bb-f2a7-43ee-91e3-53ab9c52e012"
      },
      "outputs": [
        {
          "output_type": "stream",
          "name": "stdout",
          "text": [
            "              precision    recall  f1-score   support\n",
            "\n",
            "           0       0.69      0.75      0.72       702\n",
            "           1       0.69      0.84      0.76      1572\n",
            "           2       0.82      0.54      0.65      1405\n",
            "           3       0.39      0.60      0.47       121\n",
            "           4       0.45      0.55      0.49        87\n",
            "\n",
            "    accuracy                           0.70      3887\n",
            "   macro avg       0.61      0.66      0.62      3887\n",
            "weighted avg       0.72      0.70      0.70      3887\n",
            "\n"
          ]
        }
      ],
      "source": [
        "from sklearn.metrics import classification_report\n",
        "print(classification_report(Y_test,Y_pred))"
      ]
    },
    {
      "cell_type": "code",
      "execution_count": 39,
      "metadata": {
        "id": "ffB-HAOq3m2o",
        "colab": {
          "base_uri": "https://localhost:8080/"
        },
        "outputId": "796ee1bc-41e7-4218-b6cf-3d3f9002e315"
      },
      "outputs": [
        {
          "output_type": "execute_result",
          "data": {
            "text/plain": [
              "0.7015693336763571"
            ]
          },
          "metadata": {},
          "execution_count": 39
        }
      ],
      "source": [
        "accuracy_score(Y_test, Y_pred)"
      ]
    },
    {
      "cell_type": "code",
      "execution_count": 40,
      "metadata": {
        "id": "m9OTSH593zTv",
        "colab": {
          "base_uri": "https://localhost:8080/"
        },
        "outputId": "ee2177ad-f254-4fca-e65f-7a3278c1b554"
      },
      "outputs": [
        {
          "output_type": "execute_result",
          "data": {
            "text/plain": [
              "array([[ 526,   99,   49,   19,    9],\n",
              "       [  90, 1321,   98,   44,   19],\n",
              "       [ 135,  436,  760,   46,   28],\n",
              "       [   5,   32,    9,   72,    3],\n",
              "       [   9,   15,   10,    5,   48]])"
            ]
          },
          "metadata": {},
          "execution_count": 40
        }
      ],
      "source": [
        "confusion_matrix(Y_test,Y_pred)"
      ]
    },
    {
      "cell_type": "code",
      "execution_count": 41,
      "metadata": {
        "id": "pa3ykqK5M_N5",
        "colab": {
          "base_uri": "https://localhost:8080/",
          "height": 269
        },
        "outputId": "64e93b63-9cb6-4d99-960f-fc7c5afd1e68"
      },
      "outputs": [
        {
          "output_type": "execute_result",
          "data": {
            "text/plain": [
              "Predicted    0     1    2    3    4   All\n",
              "True                                     \n",
              "0          526    99   49   19    9   702\n",
              "1           90  1321   98   44   19  1572\n",
              "2          135   436  760   46   28  1405\n",
              "3            5    32    9   72    3   121\n",
              "4            9    15   10    5   48    87\n",
              "All        765  1903  926  186  107  3887"
            ],
            "text/html": [
              "\n",
              "  <div id=\"df-ab915514-4115-49ed-ac43-3007913bef5c\">\n",
              "    <div class=\"colab-df-container\">\n",
              "      <div>\n",
              "<style scoped>\n",
              "    .dataframe tbody tr th:only-of-type {\n",
              "        vertical-align: middle;\n",
              "    }\n",
              "\n",
              "    .dataframe tbody tr th {\n",
              "        vertical-align: top;\n",
              "    }\n",
              "\n",
              "    .dataframe thead th {\n",
              "        text-align: right;\n",
              "    }\n",
              "</style>\n",
              "<table border=\"1\" class=\"dataframe\">\n",
              "  <thead>\n",
              "    <tr style=\"text-align: right;\">\n",
              "      <th>Predicted</th>\n",
              "      <th>0</th>\n",
              "      <th>1</th>\n",
              "      <th>2</th>\n",
              "      <th>3</th>\n",
              "      <th>4</th>\n",
              "      <th>All</th>\n",
              "    </tr>\n",
              "    <tr>\n",
              "      <th>True</th>\n",
              "      <th></th>\n",
              "      <th></th>\n",
              "      <th></th>\n",
              "      <th></th>\n",
              "      <th></th>\n",
              "      <th></th>\n",
              "    </tr>\n",
              "  </thead>\n",
              "  <tbody>\n",
              "    <tr>\n",
              "      <th>0</th>\n",
              "      <td>526</td>\n",
              "      <td>99</td>\n",
              "      <td>49</td>\n",
              "      <td>19</td>\n",
              "      <td>9</td>\n",
              "      <td>702</td>\n",
              "    </tr>\n",
              "    <tr>\n",
              "      <th>1</th>\n",
              "      <td>90</td>\n",
              "      <td>1321</td>\n",
              "      <td>98</td>\n",
              "      <td>44</td>\n",
              "      <td>19</td>\n",
              "      <td>1572</td>\n",
              "    </tr>\n",
              "    <tr>\n",
              "      <th>2</th>\n",
              "      <td>135</td>\n",
              "      <td>436</td>\n",
              "      <td>760</td>\n",
              "      <td>46</td>\n",
              "      <td>28</td>\n",
              "      <td>1405</td>\n",
              "    </tr>\n",
              "    <tr>\n",
              "      <th>3</th>\n",
              "      <td>5</td>\n",
              "      <td>32</td>\n",
              "      <td>9</td>\n",
              "      <td>72</td>\n",
              "      <td>3</td>\n",
              "      <td>121</td>\n",
              "    </tr>\n",
              "    <tr>\n",
              "      <th>4</th>\n",
              "      <td>9</td>\n",
              "      <td>15</td>\n",
              "      <td>10</td>\n",
              "      <td>5</td>\n",
              "      <td>48</td>\n",
              "      <td>87</td>\n",
              "    </tr>\n",
              "    <tr>\n",
              "      <th>All</th>\n",
              "      <td>765</td>\n",
              "      <td>1903</td>\n",
              "      <td>926</td>\n",
              "      <td>186</td>\n",
              "      <td>107</td>\n",
              "      <td>3887</td>\n",
              "    </tr>\n",
              "  </tbody>\n",
              "</table>\n",
              "</div>\n",
              "      <button class=\"colab-df-convert\" onclick=\"convertToInteractive('df-ab915514-4115-49ed-ac43-3007913bef5c')\"\n",
              "              title=\"Convert this dataframe to an interactive table.\"\n",
              "              style=\"display:none;\">\n",
              "        \n",
              "  <svg xmlns=\"http://www.w3.org/2000/svg\" height=\"24px\"viewBox=\"0 0 24 24\"\n",
              "       width=\"24px\">\n",
              "    <path d=\"M0 0h24v24H0V0z\" fill=\"none\"/>\n",
              "    <path d=\"M18.56 5.44l.94 2.06.94-2.06 2.06-.94-2.06-.94-.94-2.06-.94 2.06-2.06.94zm-11 1L8.5 8.5l.94-2.06 2.06-.94-2.06-.94L8.5 2.5l-.94 2.06-2.06.94zm10 10l.94 2.06.94-2.06 2.06-.94-2.06-.94-.94-2.06-.94 2.06-2.06.94z\"/><path d=\"M17.41 7.96l-1.37-1.37c-.4-.4-.92-.59-1.43-.59-.52 0-1.04.2-1.43.59L10.3 9.45l-7.72 7.72c-.78.78-.78 2.05 0 2.83L4 21.41c.39.39.9.59 1.41.59.51 0 1.02-.2 1.41-.59l7.78-7.78 2.81-2.81c.8-.78.8-2.07 0-2.86zM5.41 20L4 18.59l7.72-7.72 1.47 1.35L5.41 20z\"/>\n",
              "  </svg>\n",
              "      </button>\n",
              "      \n",
              "  <style>\n",
              "    .colab-df-container {\n",
              "      display:flex;\n",
              "      flex-wrap:wrap;\n",
              "      gap: 12px;\n",
              "    }\n",
              "\n",
              "    .colab-df-convert {\n",
              "      background-color: #E8F0FE;\n",
              "      border: none;\n",
              "      border-radius: 50%;\n",
              "      cursor: pointer;\n",
              "      display: none;\n",
              "      fill: #1967D2;\n",
              "      height: 32px;\n",
              "      padding: 0 0 0 0;\n",
              "      width: 32px;\n",
              "    }\n",
              "\n",
              "    .colab-df-convert:hover {\n",
              "      background-color: #E2EBFA;\n",
              "      box-shadow: 0px 1px 2px rgba(60, 64, 67, 0.3), 0px 1px 3px 1px rgba(60, 64, 67, 0.15);\n",
              "      fill: #174EA6;\n",
              "    }\n",
              "\n",
              "    [theme=dark] .colab-df-convert {\n",
              "      background-color: #3B4455;\n",
              "      fill: #D2E3FC;\n",
              "    }\n",
              "\n",
              "    [theme=dark] .colab-df-convert:hover {\n",
              "      background-color: #434B5C;\n",
              "      box-shadow: 0px 1px 3px 1px rgba(0, 0, 0, 0.15);\n",
              "      filter: drop-shadow(0px 1px 2px rgba(0, 0, 0, 0.3));\n",
              "      fill: #FFFFFF;\n",
              "    }\n",
              "  </style>\n",
              "\n",
              "      <script>\n",
              "        const buttonEl =\n",
              "          document.querySelector('#df-ab915514-4115-49ed-ac43-3007913bef5c button.colab-df-convert');\n",
              "        buttonEl.style.display =\n",
              "          google.colab.kernel.accessAllowed ? 'block' : 'none';\n",
              "\n",
              "        async function convertToInteractive(key) {\n",
              "          const element = document.querySelector('#df-ab915514-4115-49ed-ac43-3007913bef5c');\n",
              "          const dataTable =\n",
              "            await google.colab.kernel.invokeFunction('convertToInteractive',\n",
              "                                                     [key], {});\n",
              "          if (!dataTable) return;\n",
              "\n",
              "          const docLinkHtml = 'Like what you see? Visit the ' +\n",
              "            '<a target=\"_blank\" href=https://colab.research.google.com/notebooks/data_table.ipynb>data table notebook</a>'\n",
              "            + ' to learn more about interactive tables.';\n",
              "          element.innerHTML = '';\n",
              "          dataTable['output_type'] = 'display_data';\n",
              "          await google.colab.output.renderOutput(dataTable, element);\n",
              "          const docLink = document.createElement('div');\n",
              "          docLink.innerHTML = docLinkHtml;\n",
              "          element.appendChild(docLink);\n",
              "        }\n",
              "      </script>\n",
              "    </div>\n",
              "  </div>\n",
              "  "
            ]
          },
          "metadata": {},
          "execution_count": 41
        }
      ],
      "source": [
        "pd.crosstab(Y_test,Y_pred, rownames=['True'], colnames=['Predicted'], margins=True)"
      ]
    },
    {
      "cell_type": "code",
      "execution_count": 42,
      "metadata": {
        "id": "pWX1c1EWJWk1",
        "colab": {
          "base_uri": "https://localhost:8080/",
          "height": 296
        },
        "outputId": "81556764-53ab-40d6-f37d-f1030d174a5c"
      },
      "outputs": [
        {
          "output_type": "execute_result",
          "data": {
            "text/plain": [
              "<sklearn.metrics._plot.confusion_matrix.ConfusionMatrixDisplay at 0x7f781507ec90>"
            ]
          },
          "metadata": {},
          "execution_count": 42
        },
        {
          "output_type": "display_data",
          "data": {
            "text/plain": [
              "<Figure size 432x288 with 2 Axes>"
            ],
            "image/png": "[encoded data removed]"
          },
          "metadata": {
            "needs_background": "light"
          }
        }
      ],
      "source": [
        "cm = confusion_matrix(Y_test,Y_pred)\n",
        "ConfusionMatrixDisplay(cm, display_labels=['None', 'Mild', 'Moderate', 'Moderately Severe', 'Severe']).plot()"
      ]
    },
    {
      "cell_type": "code",
      "execution_count": 43,
      "metadata": {
        "colab": {
          "base_uri": "https://localhost:8080/",
          "height": 295
        },
        "id": "qsUsNsRAfNH5",
        "outputId": "1edca54d-328a-43d2-ecad-222d88c3b345"
      },
      "outputs": [
        {
          "output_type": "display_data",
          "data": {
            "text/plain": [
              "<Figure size 432x288 with 1 Axes>"
            ],
            "image/png": "[encoded data removed]"
          },
          "metadata": {
            "needs_background": "light"
          }
        }
      ],
      "source": [
        "plt.plot(trained_model.history['accuracy'])\n",
        "#plt.plot(trained_model.history['val_accuracy'])\n",
        "plt.title('model accuracy')\n",
        "plt.ylabel('accuracy')\n",
        "plt.xlabel('epoch')\n",
        "plt.legend(['train', 'val'], loc='upper left')\n",
        "plt.show()"
      ]
    },
    {
      "cell_type": "code",
      "execution_count": 44,
      "metadata": {
        "colab": {
          "base_uri": "https://localhost:8080/",
          "height": 295
        },
        "id": "dIuetDMtNPL7",
        "outputId": "01bb2a54-7267-4322-cbe0-82a70571c0e4"
      },
      "outputs": [
        {
          "output_type": "display_data",
          "data": {
            "text/plain": [
              "<Figure size 432x288 with 1 Axes>"
            ],
            "image/png": "[encoded data removed]"
          },
          "metadata": {
            "needs_background": "light"
          }
        }
      ],
      "source": [
        "plt.plot(trained_model.history['loss'])\n",
        "#plt.plot(trained_model.history['val_loss'])\n",
        "plt.title('model loss')\n",
        "plt.ylabel('loss')\n",
        "plt.xlabel('epoch')\n",
        "plt.legend(['train', 'val'], loc='upper left')\n",
        "plt.show()"
      ]
    },
    {
      "cell_type": "code",
      "execution_count": 45,
      "metadata": {
        "id": "K5CXI_FmuxV5",
        "outputId": "de9cee4e-8998-48f4-e5b1-1ff998995352",
        "colab": {
          "base_uri": "https://localhost:8080/",
          "height": 519
        }
      },
      "outputs": [
        {
          "output_type": "execute_result",
          "data": {
            "text/plain": [
              "<matplotlib.axes._subplots.AxesSubplot at 0x7f7810ee7990>"
            ]
          },
          "metadata": {},
          "execution_count": 45
        },
        {
          "output_type": "display_data",
          "data": {
            "text/plain": [
              "<Figure size 576x576 with 2 Axes>"
            ],
            "image/png": "[encoded data removed]"
          },
          "metadata": {}
        }
      ],
      "source": [
        "sns.set(rc={'figure.figsize':(8,8)})\n",
        "sns.heatmap(pd.crosstab(Y_test,Y_pred, rownames=['True'], colnames=['Predicted'], margins=True), annot=True, fmt='g')"
      ]
    },
    {
      "cell_type": "code",
      "source": [
        "import numpy as np\n",
        "from sklearn.metrics import ConfusionMatrixDisplay, confusion_matrix\n",
        "import matplotlib.pyplot as plt\n",
        "\n",
        "cmp = ConfusionMatrixDisplay(cm, display_labels=['None', 'Mild', 'Moderate', 'Moderately Severe', 'Severe'])\n",
        "fig, ax = plt.subplots(figsize=(10,10))\n",
        "cmp.plot(ax=ax)\n",
        "plt.grid(b=None)"
      ],
      "metadata": {
        "id": "omNeBhZRU8kH",
        "outputId": "e0a548c3-ffbd-485e-ee1e-0fab22d56bf9",
        "colab": {
          "base_uri": "https://localhost:8080/",
          "height": 574
        }
      },
      "execution_count": 46,
      "outputs": [
        {
          "output_type": "display_data",
          "data": {
            "text/plain": [
              "<Figure size 720x720 with 2 Axes>"
            ],
            "image/png": "[encoded data removed]"
          },
          "metadata": {}
        }
      ]
    },
    {
      "cell_type": "code",
      "source": [
        ""
      ],
      "metadata": {
        "id": "8m89IsRTVqlM"
      },
      "execution_count": 46,
      "outputs": []
    }
  ],
  "metadata": {
    "colab": {
      "collapsed_sections": [],
      "name": "Fully-Connected-Network_9.ipynb",
      "provenance": [],
      "include_colab_link": true
    },
    "kernelspec": {
      "display_name": "Python 3",
      "name": "python3"
    },
    "language_info": {
      "name": "python"
    }
  },
  "nbformat": 4,
  "nbformat_minor": 0
}