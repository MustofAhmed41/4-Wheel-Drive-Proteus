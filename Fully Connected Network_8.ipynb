{
  "nbformat": 4,
  "nbformat_minor": 0,
  "metadata": {
    "colab": {
      "name": "PR Checkpoint2.ipynb",
      "provenance": [],
      "collapsed_sections": [],
      "include_colab_link": true
    },
    "kernelspec": {
      "name": "python3",
      "display_name": "Python 3"
    },
    "language_info": {
      "name": "python"
    }
  },
  "cells": [
    {
      "cell_type": "markdown",
      "metadata": {
        "id": "view-in-github",
        "colab_type": "text"
      },
      "source": [
        "<a href=\"https://colab.research.google.com/github/MustofAhmed41/4-Wheel-Drive-Proteus/blob/master/Fully%20Connected%20Network_8.ipynb\" target=\"_parent\"><img src=\"https://colab.research.google.com/assets/colab-badge.svg\" alt=\"Open In Colab\"/></a>"
      ]
    },
    {
      "cell_type": "markdown",
      "source": [
        "## Importing Library"
      ],
      "metadata": {
        "id": "_3mWhU59cbu-"
      }
    },
    {
      "cell_type": "code",
      "source": [
        "import pandas as pd  \n",
        "import seaborn as sns  \n",
        "import numpy as np  \n",
        "import matplotlib.pyplot as plt"
      ],
      "metadata": {
        "id": "M7Wt9qDEPaHT"
      },
      "execution_count": 20,
      "outputs": []
    },
    {
      "cell_type": "code",
      "source": [
        "import tensorflow as tf\n",
        "import keras\n",
        "from tensorflow.keras import activations\n",
        "from tensorflow.keras.utils import to_categorical\n",
        "from sklearn.linear_model import LinearRegression\n",
        "from sklearn.preprocessing import LabelEncoder, OneHotEncoder\n",
        "from sklearn.metrics import accuracy_score, mean_squared_error\n",
        "from sklearn.model_selection import train_test_split\n",
        "from sklearn.metrics import confusion_matrix, ConfusionMatrixDisplay, plot_confusion_matrix"
      ],
      "metadata": {
        "id": "NuPFf6M33r6_"
      },
      "execution_count": 39,
      "outputs": []
    },
    {
      "cell_type": "code",
      "execution_count": 40,
      "metadata": {
        "colab": {
          "base_uri": "https://localhost:8080/"
        },
        "id": "5P3PfNvqOwd_",
        "outputId": "1b83b91d-26e1-4757-9aa0-c0c25470da99"
      },
      "outputs": [
        {
          "output_type": "stream",
          "name": "stdout",
          "text": [
            "Drive already mounted at /content/drive; to attempt to forcibly remount, call drive.mount(\"/content/drive\", force_remount=True).\n"
          ]
        }
      ],
      "source": [
        "from google.colab import drive\n",
        "drive.mount('/content/drive')"
      ]
    },
    {
      "cell_type": "code",
      "source": [
        "cd'/content/drive/MyDrive/Colab Notebooks/Dataset/Softcom Assignment 1'"
      ],
      "metadata": {
        "id": "okeTIYSDPHu0",
        "colab": {
          "base_uri": "https://localhost:8080/"
        },
        "outputId": "c252cb8b-e937-4434-8984-ac8987251e57"
      },
      "execution_count": 41,
      "outputs": [
        {
          "output_type": "stream",
          "name": "stdout",
          "text": [
            "/content/drive/MyDrive/Colab Notebooks/Dataset/Softcom Assignment 1\n"
          ]
        }
      ]
    },
    {
      "cell_type": "markdown",
      "source": [
        "## Loading Data"
      ],
      "metadata": {
        "id": "DGfB74Tzcnf8"
      }
    },
    {
      "cell_type": "code",
      "source": [
        "#df = pd.read_excel('pml-training.xlsx', index_col=False).drop('Row Number', axis=1).reset_index(drop=True)"
      ],
      "metadata": {
        "id": "jJBRdeciPIAx"
      },
      "execution_count": 42,
      "outputs": []
    },
    {
      "cell_type": "markdown",
      "source": [
        "## Deep Learning"
      ],
      "metadata": {
        "id": "ALeSC0AKaDW7"
      }
    },
    {
      "cell_type": "code",
      "source": [
        "load = pd.read_csv('thesis_processed.csv')"
      ],
      "metadata": {
        "id": "J4jdCsnA3_4D"
      },
      "execution_count": 43,
      "outputs": []
    },
    {
      "cell_type": "code",
      "source": [
        "df = load.copy()"
      ],
      "metadata": {
        "id": "g5Gi7_f-3Sc8"
      },
      "execution_count": 137,
      "outputs": []
    },
    {
      "cell_type": "code",
      "source": [
        "df.shape"
      ],
      "metadata": {
        "id": "n1WLhni_7tQe",
        "outputId": "a07902b3-cdd3-4836-bc6c-16d812cf5f02",
        "colab": {
          "base_uri": "https://localhost:8080/"
        }
      },
      "execution_count": 138,
      "outputs": [
        {
          "output_type": "execute_result",
          "data": {
            "text/plain": [
              "(19434, 23)"
            ]
          },
          "metadata": {},
          "execution_count": 138
        }
      ]
    },
    {
      "cell_type": "code",
      "source": [
        "def impute_classe(x):\n",
        "  if x == 'Severe':\n",
        "    return 4\n",
        "  elif x =='Moderately Severe':\n",
        "    return 3\n",
        "  elif x=='Moderate':\n",
        "    return 2\n",
        "  elif x=='Mild':\n",
        "    return 1\n",
        "  elif x=='None':\n",
        "    return 0"
      ],
      "metadata": {
        "id": "ZGv-R3HE3VVQ"
      },
      "execution_count": 139,
      "outputs": []
    },
    {
      "cell_type": "code",
      "source": [
        "df['PHQ-Label'] = df['PHQ-Label'].apply(impute_classe)"
      ],
      "metadata": {
        "id": "x41HW1uR3WQW"
      },
      "execution_count": 140,
      "outputs": []
    },
    {
      "cell_type": "code",
      "source": [
        "df['PHQ-Label'].value_counts()"
      ],
      "metadata": {
        "id": "olyaBhu93X7c",
        "outputId": "31b1fccc-3bf5-4016-83d2-2c25f95a16c9",
        "colab": {
          "base_uri": "https://localhost:8080/"
        }
      },
      "execution_count": 141,
      "outputs": [
        {
          "output_type": "execute_result",
          "data": {
            "text/plain": [
              "1    7861\n",
              "2    7026\n",
              "0    3509\n",
              "3     606\n",
              "4     432\n",
              "Name: PHQ-Label, dtype: int64"
            ]
          },
          "metadata": {},
          "execution_count": 141
        }
      ]
    },
    {
      "cell_type": "code",
      "source": [
        "df.columns"
      ],
      "metadata": {
        "colab": {
          "base_uri": "https://localhost:8080/"
        },
        "id": "fknNDBj-luX3",
        "outputId": "80e3829e-4da2-407a-aaa0-4ff9de81af0a"
      },
      "execution_count": 142,
      "outputs": [
        {
          "output_type": "execute_result",
          "data": {
            "text/plain": [
              "Index(['Unnamed: 0', 'ACCELEROMETER_X', 'ACCELEROMETER_Y', 'ACCELEROMETER_Z',\n",
              "       'BATTERY_LEVEL', 'Light_v', 'GRAV_X', 'GRAV_Y', 'GRAV_Z', 'GYROSCOPE_X',\n",
              "       'GYROSCOPE_Y', 'GYROSCOPE_Z', 'MAG_X', 'MAG_Y', 'MAG_Z',\n",
              "       'ORIENTATION_AZIMUTH', 'ORIENTATION_PITCH', 'ORIENTATION_ROLL',\n",
              "       'SENSORGPS_LATITUDE', 'SENSORGPS_LONGITUDE', 'PHQ-Label',\n",
              "       'Gender_Female', 'Gender_Male'],\n",
              "      dtype='object')"
            ]
          },
          "metadata": {},
          "execution_count": 142
        }
      ]
    },
    {
      "cell_type": "code",
      "source": [
        "lst = ['Unnamed: 0', 'PHQ-Label', 'Light_v', 'ORIENTATION_AZIMUTH', 'ORIENTATION_PITCH', \n",
        "       'ORIENTATION_ROLL',  'SENSORGPS_LATITUDE', 'SENSORGPS_LONGITUDE' ]\n",
        "X=df.drop(lst, axis=1)\n",
        "Y=df['PHQ-Label'] "
      ],
      "metadata": {
        "id": "obdbWWPf3aVT"
      },
      "execution_count": 143,
      "outputs": []
    },
    {
      "cell_type": "code",
      "source": [
        "from sklearn.model_selection import train_test_split\n",
        "X_train,X_test,Y_train,Y_test=train_test_split(X,Y,test_size=0.3,random_state=1,stratify=Y)"
      ],
      "metadata": {
        "id": "VahK82Pf3d_e"
      },
      "execution_count": 144,
      "outputs": []
    },
    {
      "cell_type": "code",
      "source": [
        "X_train"
      ],
      "metadata": {
        "id": "V74RtRZn3ewg",
        "outputId": "0ee3b746-c86d-4d90-806b-98cf0c679ad5",
        "colab": {
          "base_uri": "https://localhost:8080/",
          "height": 488
        }
      },
      "execution_count": 145,
      "outputs": [
        {
          "output_type": "execute_result",
          "data": {
            "text/plain": [
              "       ACCELEROMETER_X  ACCELEROMETER_Y  ACCELEROMETER_Z  BATTERY_LEVEL  \\\n",
              "9629          0.831305         1.051080         0.225047       0.701698   \n",
              "4706          0.011193        -0.396521         0.749750       0.580740   \n",
              "10482        -0.100984         1.483894         0.022228      -1.878732   \n",
              "3784         -0.172443        -0.253534        -2.442620      -1.354582   \n",
              "11251        -0.102478        -0.457111         0.723708       0.661379   \n",
              "...                ...              ...              ...            ...   \n",
              "6351          0.260726        -0.619101        -2.480201       1.064571   \n",
              "18106        -4.076908        -3.113549        -5.026417      -1.193306   \n",
              "2908         -0.324908         0.301300         0.696279       1.629040   \n",
              "5947         -0.055287        -0.164935        -2.497667       1.185529   \n",
              "1352          0.463059         1.640630        -0.347638       1.306487   \n",
              "\n",
              "         GRAV_X    GRAV_Y    GRAV_Z  GYROSCOPE_X  GYROSCOPE_Y  GYROSCOPE_Z  \\\n",
              "9629   0.854227  1.049454  0.227930    -0.016769     0.021071    -0.004875   \n",
              "4706   0.025548 -0.432268  0.773468    -0.010668    -0.003706    -0.011879   \n",
              "10482 -0.115960  1.529546 -0.027115    -0.028520     0.017256    -0.007450   \n",
              "3784  -0.186682 -0.284091 -2.495998    -0.008757     0.016929    -0.011337   \n",
              "11251 -0.116234 -0.487720  0.777646    -0.089535    -0.061773    -0.113526   \n",
              "...         ...       ...       ...          ...          ...          ...   \n",
              "6351   0.253824 -0.652877 -2.474219    -0.010668     0.018961    -0.005791   \n",
              "18106 -2.514517 -0.304879 -1.828560   -20.798877    -0.947677   -14.453593   \n",
              "2908  -0.333804  0.269383  0.693485    -0.077524     0.105755    -0.022416   \n",
              "5947  -0.068551 -0.198534 -2.488698    -0.010668     0.018706    -0.007379   \n",
              "1352   0.297439  1.719773 -0.393562    -0.505755     0.184434    -0.104144   \n",
              "\n",
              "          MAG_X     MAG_Y     MAG_Z  Gender_Female  Gender_Male  \n",
              "9629  -0.446548  0.125817 -0.686689              0            1  \n",
              "4706   0.155258  0.754868  0.087953              0            1  \n",
              "10482  0.431377 -0.244988 -0.607780              0            1  \n",
              "3784  -0.704118  0.219362  1.061155              0            1  \n",
              "11251  0.098027  1.156190 -0.210248              0            1  \n",
              "...         ...       ...       ...            ...          ...  \n",
              "6351  -1.077244 -0.000775  0.974802              1            0  \n",
              "18106  0.371105  0.625500  0.993335              0            1  \n",
              "2908   0.277505  0.537721 -0.365382              0            1  \n",
              "5947  -0.635924 -0.694887  1.058932              1            0  \n",
              "1352   0.407536 -0.494965 -0.517319              1            0  \n",
              "\n",
              "[13603 rows x 15 columns]"
            ],
            "text/html": [
              "\n",
              "  <div id=\"df-aec71f00-f6d9-40be-8ef4-5b70033c9456\">\n",
              "    <div class=\"colab-df-container\">\n",
              "      <div>\n",
              "<style scoped>\n",
              "    .dataframe tbody tr th:only-of-type {\n",
              "        vertical-align: middle;\n",
              "    }\n",
              "\n",
              "    .dataframe tbody tr th {\n",
              "        vertical-align: top;\n",
              "    }\n",
              "\n",
              "    .dataframe thead th {\n",
              "        text-align: right;\n",
              "    }\n",
              "</style>\n",
              "<table border=\"1\" class=\"dataframe\">\n",
              "  <thead>\n",
              "    <tr style=\"text-align: right;\">\n",
              "      <th></th>\n",
              "      <th>ACCELEROMETER_X</th>\n",
              "      <th>ACCELEROMETER_Y</th>\n",
              "      <th>ACCELEROMETER_Z</th>\n",
              "      <th>BATTERY_LEVEL</th>\n",
              "      <th>GRAV_X</th>\n",
              "      <th>GRAV_Y</th>\n",
              "      <th>GRAV_Z</th>\n",
              "      <th>GYROSCOPE_X</th>\n",
              "      <th>GYROSCOPE_Y</th>\n",
              "      <th>GYROSCOPE_Z</th>\n",
              "      <th>MAG_X</th>\n",
              "      <th>MAG_Y</th>\n",
              "      <th>MAG_Z</th>\n",
              "      <th>Gender_Female</th>\n",
              "      <th>Gender_Male</th>\n",
              "    </tr>\n",
              "  </thead>\n",
              "  <tbody>\n",
              "    <tr>\n",
              "      <th>9629</th>\n",
              "      <td>0.831305</td>\n",
              "      <td>1.051080</td>\n",
              "      <td>0.225047</td>\n",
              "      <td>0.701698</td>\n",
              "      <td>0.854227</td>\n",
              "      <td>1.049454</td>\n",
              "      <td>0.227930</td>\n",
              "      <td>-0.016769</td>\n",
              "      <td>0.021071</td>\n",
              "      <td>-0.004875</td>\n",
              "      <td>-0.446548</td>\n",
              "      <td>0.125817</td>\n",
              "      <td>-0.686689</td>\n",
              "      <td>0</td>\n",
              "      <td>1</td>\n",
              "    </tr>\n",
              "    <tr>\n",
              "      <th>4706</th>\n",
              "      <td>0.011193</td>\n",
              "      <td>-0.396521</td>\n",
              "      <td>0.749750</td>\n",
              "      <td>0.580740</td>\n",
              "      <td>0.025548</td>\n",
              "      <td>-0.432268</td>\n",
              "      <td>0.773468</td>\n",
              "      <td>-0.010668</td>\n",
              "      <td>-0.003706</td>\n",
              "      <td>-0.011879</td>\n",
              "      <td>0.155258</td>\n",
              "      <td>0.754868</td>\n",
              "      <td>0.087953</td>\n",
              "      <td>0</td>\n",
              "      <td>1</td>\n",
              "    </tr>\n",
              "    <tr>\n",
              "      <th>10482</th>\n",
              "      <td>-0.100984</td>\n",
              "      <td>1.483894</td>\n",
              "      <td>0.022228</td>\n",
              "      <td>-1.878732</td>\n",
              "      <td>-0.115960</td>\n",
              "      <td>1.529546</td>\n",
              "      <td>-0.027115</td>\n",
              "      <td>-0.028520</td>\n",
              "      <td>0.017256</td>\n",
              "      <td>-0.007450</td>\n",
              "      <td>0.431377</td>\n",
              "      <td>-0.244988</td>\n",
              "      <td>-0.607780</td>\n",
              "      <td>0</td>\n",
              "      <td>1</td>\n",
              "    </tr>\n",
              "    <tr>\n",
              "      <th>3784</th>\n",
              "      <td>-0.172443</td>\n",
              "      <td>-0.253534</td>\n",
              "      <td>-2.442620</td>\n",
              "      <td>-1.354582</td>\n",
              "      <td>-0.186682</td>\n",
              "      <td>-0.284091</td>\n",
              "      <td>-2.495998</td>\n",
              "      <td>-0.008757</td>\n",
              "      <td>0.016929</td>\n",
              "      <td>-0.011337</td>\n",
              "      <td>-0.704118</td>\n",
              "      <td>0.219362</td>\n",
              "      <td>1.061155</td>\n",
              "      <td>0</td>\n",
              "      <td>1</td>\n",
              "    </tr>\n",
              "    <tr>\n",
              "      <th>11251</th>\n",
              "      <td>-0.102478</td>\n",
              "      <td>-0.457111</td>\n",
              "      <td>0.723708</td>\n",
              "      <td>0.661379</td>\n",
              "      <td>-0.116234</td>\n",
              "      <td>-0.487720</td>\n",
              "      <td>0.777646</td>\n",
              "      <td>-0.089535</td>\n",
              "      <td>-0.061773</td>\n",
              "      <td>-0.113526</td>\n",
              "      <td>0.098027</td>\n",
              "      <td>1.156190</td>\n",
              "      <td>-0.210248</td>\n",
              "      <td>0</td>\n",
              "      <td>1</td>\n",
              "    </tr>\n",
              "    <tr>\n",
              "      <th>...</th>\n",
              "      <td>...</td>\n",
              "      <td>...</td>\n",
              "      <td>...</td>\n",
              "      <td>...</td>\n",
              "      <td>...</td>\n",
              "      <td>...</td>\n",
              "      <td>...</td>\n",
              "      <td>...</td>\n",
              "      <td>...</td>\n",
              "      <td>...</td>\n",
              "      <td>...</td>\n",
              "      <td>...</td>\n",
              "      <td>...</td>\n",
              "      <td>...</td>\n",
              "      <td>...</td>\n",
              "    </tr>\n",
              "    <tr>\n",
              "      <th>6351</th>\n",
              "      <td>0.260726</td>\n",
              "      <td>-0.619101</td>\n",
              "      <td>-2.480201</td>\n",
              "      <td>1.064571</td>\n",
              "      <td>0.253824</td>\n",
              "      <td>-0.652877</td>\n",
              "      <td>-2.474219</td>\n",
              "      <td>-0.010668</td>\n",
              "      <td>0.018961</td>\n",
              "      <td>-0.005791</td>\n",
              "      <td>-1.077244</td>\n",
              "      <td>-0.000775</td>\n",
              "      <td>0.974802</td>\n",
              "      <td>1</td>\n",
              "      <td>0</td>\n",
              "    </tr>\n",
              "    <tr>\n",
              "      <th>18106</th>\n",
              "      <td>-4.076908</td>\n",
              "      <td>-3.113549</td>\n",
              "      <td>-5.026417</td>\n",
              "      <td>-1.193306</td>\n",
              "      <td>-2.514517</td>\n",
              "      <td>-0.304879</td>\n",
              "      <td>-1.828560</td>\n",
              "      <td>-20.798877</td>\n",
              "      <td>-0.947677</td>\n",
              "      <td>-14.453593</td>\n",
              "      <td>0.371105</td>\n",
              "      <td>0.625500</td>\n",
              "      <td>0.993335</td>\n",
              "      <td>0</td>\n",
              "      <td>1</td>\n",
              "    </tr>\n",
              "    <tr>\n",
              "      <th>2908</th>\n",
              "      <td>-0.324908</td>\n",
              "      <td>0.301300</td>\n",
              "      <td>0.696279</td>\n",
              "      <td>1.629040</td>\n",
              "      <td>-0.333804</td>\n",
              "      <td>0.269383</td>\n",
              "      <td>0.693485</td>\n",
              "      <td>-0.077524</td>\n",
              "      <td>0.105755</td>\n",
              "      <td>-0.022416</td>\n",
              "      <td>0.277505</td>\n",
              "      <td>0.537721</td>\n",
              "      <td>-0.365382</td>\n",
              "      <td>0</td>\n",
              "      <td>1</td>\n",
              "    </tr>\n",
              "    <tr>\n",
              "      <th>5947</th>\n",
              "      <td>-0.055287</td>\n",
              "      <td>-0.164935</td>\n",
              "      <td>-2.497667</td>\n",
              "      <td>1.185529</td>\n",
              "      <td>-0.068551</td>\n",
              "      <td>-0.198534</td>\n",
              "      <td>-2.488698</td>\n",
              "      <td>-0.010668</td>\n",
              "      <td>0.018706</td>\n",
              "      <td>-0.007379</td>\n",
              "      <td>-0.635924</td>\n",
              "      <td>-0.694887</td>\n",
              "      <td>1.058932</td>\n",
              "      <td>1</td>\n",
              "      <td>0</td>\n",
              "    </tr>\n",
              "    <tr>\n",
              "      <th>1352</th>\n",
              "      <td>0.463059</td>\n",
              "      <td>1.640630</td>\n",
              "      <td>-0.347638</td>\n",
              "      <td>1.306487</td>\n",
              "      <td>0.297439</td>\n",
              "      <td>1.719773</td>\n",
              "      <td>-0.393562</td>\n",
              "      <td>-0.505755</td>\n",
              "      <td>0.184434</td>\n",
              "      <td>-0.104144</td>\n",
              "      <td>0.407536</td>\n",
              "      <td>-0.494965</td>\n",
              "      <td>-0.517319</td>\n",
              "      <td>1</td>\n",
              "      <td>0</td>\n",
              "    </tr>\n",
              "  </tbody>\n",
              "</table>\n",
              "<p>13603 rows × 15 columns</p>\n",
              "</div>\n",
              "      <button class=\"colab-df-convert\" onclick=\"convertToInteractive('df-aec71f00-f6d9-40be-8ef4-5b70033c9456')\"\n",
              "              title=\"Convert this dataframe to an interactive table.\"\n",
              "              style=\"display:none;\">\n",
              "        \n",
              "  <svg xmlns=\"http://www.w3.org/2000/svg\" height=\"24px\"viewBox=\"0 0 24 24\"\n",
              "       width=\"24px\">\n",
              "    <path d=\"M0 0h24v24H0V0z\" fill=\"none\"/>\n",
              "    <path d=\"M18.56 5.44l.94 2.06.94-2.06 2.06-.94-2.06-.94-.94-2.06-.94 2.06-2.06.94zm-11 1L8.5 8.5l.94-2.06 2.06-.94-2.06-.94L8.5 2.5l-.94 2.06-2.06.94zm10 10l.94 2.06.94-2.06 2.06-.94-2.06-.94-.94-2.06-.94 2.06-2.06.94z\"/><path d=\"M17.41 7.96l-1.37-1.37c-.4-.4-.92-.59-1.43-.59-.52 0-1.04.2-1.43.59L10.3 9.45l-7.72 7.72c-.78.78-.78 2.05 0 2.83L4 21.41c.39.39.9.59 1.41.59.51 0 1.02-.2 1.41-.59l7.78-7.78 2.81-2.81c.8-.78.8-2.07 0-2.86zM5.41 20L4 18.59l7.72-7.72 1.47 1.35L5.41 20z\"/>\n",
              "  </svg>\n",
              "      </button>\n",
              "      \n",
              "  <style>\n",
              "    .colab-df-container {\n",
              "      display:flex;\n",
              "      flex-wrap:wrap;\n",
              "      gap: 12px;\n",
              "    }\n",
              "\n",
              "    .colab-df-convert {\n",
              "      background-color: #E8F0FE;\n",
              "      border: none;\n",
              "      border-radius: 50%;\n",
              "      cursor: pointer;\n",
              "      display: none;\n",
              "      fill: #1967D2;\n",
              "      height: 32px;\n",
              "      padding: 0 0 0 0;\n",
              "      width: 32px;\n",
              "    }\n",
              "\n",
              "    .colab-df-convert:hover {\n",
              "      background-color: #E2EBFA;\n",
              "      box-shadow: 0px 1px 2px rgba(60, 64, 67, 0.3), 0px 1px 3px 1px rgba(60, 64, 67, 0.15);\n",
              "      fill: #174EA6;\n",
              "    }\n",
              "\n",
              "    [theme=dark] .colab-df-convert {\n",
              "      background-color: #3B4455;\n",
              "      fill: #D2E3FC;\n",
              "    }\n",
              "\n",
              "    [theme=dark] .colab-df-convert:hover {\n",
              "      background-color: #434B5C;\n",
              "      box-shadow: 0px 1px 3px 1px rgba(0, 0, 0, 0.15);\n",
              "      filter: drop-shadow(0px 1px 2px rgba(0, 0, 0, 0.3));\n",
              "      fill: #FFFFFF;\n",
              "    }\n",
              "  </style>\n",
              "\n",
              "      <script>\n",
              "        const buttonEl =\n",
              "          document.querySelector('#df-aec71f00-f6d9-40be-8ef4-5b70033c9456 button.colab-df-convert');\n",
              "        buttonEl.style.display =\n",
              "          google.colab.kernel.accessAllowed ? 'block' : 'none';\n",
              "\n",
              "        async function convertToInteractive(key) {\n",
              "          const element = document.querySelector('#df-aec71f00-f6d9-40be-8ef4-5b70033c9456');\n",
              "          const dataTable =\n",
              "            await google.colab.kernel.invokeFunction('convertToInteractive',\n",
              "                                                     [key], {});\n",
              "          if (!dataTable) return;\n",
              "\n",
              "          const docLinkHtml = 'Like what you see? Visit the ' +\n",
              "            '<a target=\"_blank\" href=https://colab.research.google.com/notebooks/data_table.ipynb>data table notebook</a>'\n",
              "            + ' to learn more about interactive tables.';\n",
              "          element.innerHTML = '';\n",
              "          dataTable['output_type'] = 'display_data';\n",
              "          await google.colab.output.renderOutput(dataTable, element);\n",
              "          const docLink = document.createElement('div');\n",
              "          docLink.innerHTML = docLinkHtml;\n",
              "          element.appendChild(docLink);\n",
              "        }\n",
              "      </script>\n",
              "    </div>\n",
              "  </div>\n",
              "  "
            ]
          },
          "metadata": {},
          "execution_count": 145
        }
      ]
    },
    {
      "cell_type": "code",
      "source": [
        "from sklearn.preprocessing import StandardScaler\n",
        "ss=StandardScaler()\n",
        "X_train=ss.fit_transform(X_train)\n",
        "X_test=ss.transform(X_test)"
      ],
      "metadata": {
        "id": "h1Kxn0wY3flH"
      },
      "execution_count": 146,
      "outputs": []
    },
    {
      "cell_type": "code",
      "source": [
        "unique, count = np.unique(Y_train, return_counts=True)\n",
        "Y_train_dict_value_count = { k:v for (k,v) in zip(unique, count)}\n",
        "Y_train_dict_value_count"
      ],
      "metadata": {
        "id": "WQxc_gQG98j8",
        "outputId": "a0aa831a-0594-42db-af57-bdc580e0991e",
        "colab": {
          "base_uri": "https://localhost:8080/"
        }
      },
      "execution_count": 147,
      "outputs": [
        {
          "output_type": "execute_result",
          "data": {
            "text/plain": [
              "{0: 2456, 1: 5502, 2: 4918, 3: 424, 4: 303}"
            ]
          },
          "metadata": {},
          "execution_count": 147
        }
      ]
    },
    {
      "cell_type": "code",
      "source": [
        "from imblearn.over_sampling import SMOTE\n",
        "sm = SMOTE(random_state=12)\n",
        "x_train_res, y_train_res = sm.fit_resample(X_train, Y_train)"
      ],
      "metadata": {
        "id": "y5T1dhDc-51H"
      },
      "execution_count": 148,
      "outputs": []
    },
    {
      "cell_type": "code",
      "source": [
        "unique, count = np.unique(y_train_res, return_counts=True)\n",
        "y_train_smote_value_count = { k:v for (k,v) in zip(unique, count)}\n",
        "y_train_smote_value_count"
      ],
      "metadata": {
        "id": "n9DMjpud_AZA",
        "outputId": "727712ad-a144-49b0-c555-0ea785ee96d2",
        "colab": {
          "base_uri": "https://localhost:8080/"
        }
      },
      "execution_count": 149,
      "outputs": [
        {
          "output_type": "execute_result",
          "data": {
            "text/plain": [
              "{0: 5502, 1: 5502, 2: 5502, 3: 5502, 4: 5502}"
            ]
          },
          "metadata": {},
          "execution_count": 149
        }
      ]
    },
    {
      "cell_type": "code",
      "source": [
        "from IPython.display import clear_output\n",
        "\n",
        "class PlotLosses(keras.callbacks.Callback):\n",
        "    def on_train_begin(self, logs={}):\n",
        "        self.i = 0\n",
        "        self.x = []\n",
        "        self.losses = []\n",
        "        self.val_losses = []\n",
        "        \n",
        "        self.fig = plt.figure()\n",
        "        \n",
        "        self.logs = []\n",
        "\n",
        "    def on_epoch_end(self, epoch, logs={}):\n",
        "        \n",
        "        self.logs.append(logs)\n",
        "        self.x.append(self.i)\n",
        "        self.losses.append(logs.get('loss'))\n",
        "        self.val_losses.append(logs.get('val_loss'))\n",
        "        self.i += 1\n",
        "        \n",
        "        clear_output(wait=True)\n",
        "        plt.plot(self.x, self.losses, label=\"loss\")\n",
        "        plt.plot(self.x, self.val_losses, label=\"val_loss\")\n",
        "        plt.xlabel('Epoch')\n",
        "        plt.ylabel('Loss')\n",
        "        plt.title('Loss Vs Epoch')\n",
        "\n",
        "        plt.legend()\n",
        "        plt.show();\n",
        "        \n",
        "plot_losses = PlotLosses()"
      ],
      "metadata": {
        "id": "evLtcjGAgLxp"
      },
      "execution_count": 150,
      "outputs": []
    },
    {
      "cell_type": "code",
      "source": [
        "X_train, Y_train = x_train_res, y_train_res"
      ],
      "metadata": {
        "id": "po0WsQhw_RP1"
      },
      "execution_count": 151,
      "outputs": []
    },
    {
      "cell_type": "code",
      "source": [
        "model=tf.keras.Sequential([\n",
        "          tf.keras.layers.Dense(100,activation='relu',input_shape=(X.shape[1],), use_bias=False,),         \n",
        "          tf.keras.layers.Dense(500,activation='relu', use_bias=False,),  \n",
        "          tf.keras.layers.Dense(5,activation='softmax')           \n",
        "])"
      ],
      "metadata": {
        "id": "9m8Hd9pG3ge2"
      },
      "execution_count": 152,
      "outputs": []
    },
    {
      "cell_type": "code",
      "source": [
        "from tensorflow import keras\n",
        "opt = keras.optimizers.Adam(learning_rate=0.001)\n",
        "model.compile(optimizer=opt, loss=\"sparse_categorical_crossentropy\", metrics=[\"accuracy\"])"
      ],
      "metadata": {
        "id": "G6W5T9DF3hmU"
      },
      "execution_count": 153,
      "outputs": []
    },
    {
      "cell_type": "code",
      "source": [
        "model.summary()"
      ],
      "metadata": {
        "id": "6QRTlAmocMN9",
        "outputId": "f7b20a10-0a48-41b8-9a66-25c770de9b05",
        "colab": {
          "base_uri": "https://localhost:8080/"
        }
      },
      "execution_count": 154,
      "outputs": [
        {
          "output_type": "stream",
          "name": "stdout",
          "text": [
            "Model: \"sequential_2\"\n",
            "_________________________________________________________________\n",
            " Layer (type)                Output Shape              Param #   \n",
            "=================================================================\n",
            " dense_6 (Dense)             (None, 100)               1500      \n",
            "                                                                 \n",
            " dense_7 (Dense)             (None, 500)               50000     \n",
            "                                                                 \n",
            " dense_8 (Dense)             (None, 5)                 2505      \n",
            "                                                                 \n",
            "=================================================================\n",
            "Total params: 54,005\n",
            "Trainable params: 54,005\n",
            "Non-trainable params: 0\n",
            "_________________________________________________________________\n"
          ]
        }
      ]
    },
    {
      "cell_type": "code",
      "source": [
        "tf.keras.utils.set_random_seed(5)\n",
        "#2 3 4"
      ],
      "metadata": {
        "id": "rHzQjcrwluOB"
      },
      "execution_count": 155,
      "outputs": []
    },
    {
      "cell_type": "code",
      "source": [
        "trained_model=model.fit(X_train,Y_train,epochs=10, batch_size=10, callbacks=[plot_losses], verbose=0, )"
      ],
      "metadata": {
        "id": "mtGts0bd3iea",
        "outputId": "c040463e-611b-406f-8d22-d7449a240f50",
        "colab": {
          "base_uri": "https://localhost:8080/",
          "height": 295
        }
      },
      "execution_count": 156,
      "outputs": [
        {
          "output_type": "display_data",
          "data": {
            "text/plain": [
              "<Figure size 432x288 with 1 Axes>"
            ],
            "image/png": "[encoded data removed]"
          },
          "metadata": {
            "needs_background": "light"
          }
        }
      ]
    },
    {
      "cell_type": "code",
      "source": [
        "Y_pred = model.predict(X_test)"
      ],
      "metadata": {
        "id": "VllMd_v03jgS"
      },
      "execution_count": 157,
      "outputs": []
    },
    {
      "cell_type": "code",
      "source": [
        "Y_pred"
      ],
      "metadata": {
        "id": "Si4qOaj83kTg",
        "colab": {
          "base_uri": "https://localhost:8080/"
        },
        "outputId": "f0c60b41-ee2a-4e31-a54d-33999002e897"
      },
      "execution_count": 158,
      "outputs": [
        {
          "output_type": "execute_result",
          "data": {
            "text/plain": [
              "array([[7.1089366e-05, 5.2756006e-03, 2.4466377e-03, 9.9220276e-01,\n",
              "        3.9578190e-06],\n",
              "       [2.0573086e-01, 1.3027415e-01, 6.6333705e-01, 6.5770932e-04,\n",
              "        2.1802158e-07],\n",
              "       [9.7155094e-01, 1.7661773e-02, 1.0639342e-02, 1.4791456e-04,\n",
              "        2.8903125e-13],\n",
              "       ...,\n",
              "       [1.3202014e-02, 1.8893721e-02, 8.2282703e-03, 9.5967597e-01,\n",
              "        9.3190948e-09],\n",
              "       [4.0846355e-03, 2.8452334e-01, 7.0645809e-01, 4.5878394e-03,\n",
              "        3.4602138e-04],\n",
              "       [3.5796264e-05, 1.3495282e-02, 9.8593026e-01, 5.3860643e-04,\n",
              "        2.6944636e-12]], dtype=float32)"
            ]
          },
          "metadata": {},
          "execution_count": 158
        }
      ]
    },
    {
      "cell_type": "code",
      "source": [
        "Y_pred = Y_pred.argmax(axis=1) \n",
        "Y_pred"
      ],
      "metadata": {
        "id": "VGxy9s5o3lEN",
        "colab": {
          "base_uri": "https://localhost:8080/"
        },
        "outputId": "0bc0ec79-bfd2-4b1d-dcf7-bd60ad2dc6e6"
      },
      "execution_count": 159,
      "outputs": [
        {
          "output_type": "execute_result",
          "data": {
            "text/plain": [
              "array([3, 2, 0, ..., 3, 2, 2])"
            ]
          },
          "metadata": {},
          "execution_count": 159
        }
      ]
    },
    {
      "cell_type": "code",
      "source": [
        "from sklearn.metrics import classification_report\n",
        "print(classification_report(Y_test,Y_pred))"
      ],
      "metadata": {
        "id": "vyH4c0oE3mBP",
        "colab": {
          "base_uri": "https://localhost:8080/"
        },
        "outputId": "4bc910f8-1ff0-4ae9-eff2-faec8b1c7af1"
      },
      "execution_count": 160,
      "outputs": [
        {
          "output_type": "stream",
          "name": "stdout",
          "text": [
            "              precision    recall  f1-score   support\n",
            "\n",
            "           0       0.59      0.75      0.66      1053\n",
            "           1       0.79      0.62      0.69      2359\n",
            "           2       0.68      0.66      0.67      2108\n",
            "           3       0.32      0.70      0.44       182\n",
            "           4       0.31      0.46      0.37       129\n",
            "\n",
            "    accuracy                           0.66      5831\n",
            "   macro avg       0.54      0.64      0.57      5831\n",
            "weighted avg       0.69      0.66      0.66      5831\n",
            "\n"
          ]
        }
      ]
    },
    {
      "cell_type": "code",
      "source": [
        "accuracy_score(Y_test, Y_pred)"
      ],
      "metadata": {
        "id": "ffB-HAOq3m2o",
        "colab": {
          "base_uri": "https://localhost:8080/"
        },
        "outputId": "cacf6787-2820-4df5-b4a1-ad315185adaa"
      },
      "execution_count": 161,
      "outputs": [
        {
          "output_type": "execute_result",
          "data": {
            "text/plain": [
              "0.6563196707254331"
            ]
          },
          "metadata": {},
          "execution_count": 161
        }
      ]
    },
    {
      "cell_type": "code",
      "source": [
        "confusion_matrix(Y_test,Y_pred)"
      ],
      "metadata": {
        "id": "m9OTSH593zTv",
        "colab": {
          "base_uri": "https://localhost:8080/"
        },
        "outputId": "e84896e9-0bf1-4236-a1a2-be8cf99b88f3"
      },
      "execution_count": 162,
      "outputs": [
        {
          "output_type": "execute_result",
          "data": {
            "text/plain": [
              "array([[ 788,   74,  153,   30,    8],\n",
              "       [ 231, 1461,  457,  142,   68],\n",
              "       [ 281,  285, 1392,   96,   54],\n",
              "       [  15,   21,   18,  127,    1],\n",
              "       [  11,   19,   35,    5,   59]])"
            ]
          },
          "metadata": {},
          "execution_count": 162
        }
      ]
    },
    {
      "cell_type": "code",
      "source": [
        "pd.crosstab(Y_test,Y_pred, rownames=['True'], colnames=['Predicted'], margins=True)"
      ],
      "metadata": {
        "colab": {
          "base_uri": "https://localhost:8080/",
          "height": 269
        },
        "id": "pa3ykqK5M_N5",
        "outputId": "604c5fc5-aae5-4690-ca55-6875e5cedda7"
      },
      "execution_count": 163,
      "outputs": [
        {
          "output_type": "execute_result",
          "data": {
            "text/plain": [
              "Predicted     0     1     2    3    4   All\n",
              "True                                       \n",
              "0           788    74   153   30    8  1053\n",
              "1           231  1461   457  142   68  2359\n",
              "2           281   285  1392   96   54  2108\n",
              "3            15    21    18  127    1   182\n",
              "4            11    19    35    5   59   129\n",
              "All        1326  1860  2055  400  190  5831"
            ],
            "text/html": [
              "\n",
              "  <div id=\"df-20796e24-2337-4076-ab02-bc524c07b028\">\n",
              "    <div class=\"colab-df-container\">\n",
              "      <div>\n",
              "<style scoped>\n",
              "    .dataframe tbody tr th:only-of-type {\n",
              "        vertical-align: middle;\n",
              "    }\n",
              "\n",
              "    .dataframe tbody tr th {\n",
              "        vertical-align: top;\n",
              "    }\n",
              "\n",
              "    .dataframe thead th {\n",
              "        text-align: right;\n",
              "    }\n",
              "</style>\n",
              "<table border=\"1\" class=\"dataframe\">\n",
              "  <thead>\n",
              "    <tr style=\"text-align: right;\">\n",
              "      <th>Predicted</th>\n",
              "      <th>0</th>\n",
              "      <th>1</th>\n",
              "      <th>2</th>\n",
              "      <th>3</th>\n",
              "      <th>4</th>\n",
              "      <th>All</th>\n",
              "    </tr>\n",
              "    <tr>\n",
              "      <th>True</th>\n",
              "      <th></th>\n",
              "      <th></th>\n",
              "      <th></th>\n",
              "      <th></th>\n",
              "      <th></th>\n",
              "      <th></th>\n",
              "    </tr>\n",
              "  </thead>\n",
              "  <tbody>\n",
              "    <tr>\n",
              "      <th>0</th>\n",
              "      <td>788</td>\n",
              "      <td>74</td>\n",
              "      <td>153</td>\n",
              "      <td>30</td>\n",
              "      <td>8</td>\n",
              "      <td>1053</td>\n",
              "    </tr>\n",
              "    <tr>\n",
              "      <th>1</th>\n",
              "      <td>231</td>\n",
              "      <td>1461</td>\n",
              "      <td>457</td>\n",
              "      <td>142</td>\n",
              "      <td>68</td>\n",
              "      <td>2359</td>\n",
              "    </tr>\n",
              "    <tr>\n",
              "      <th>2</th>\n",
              "      <td>281</td>\n",
              "      <td>285</td>\n",
              "      <td>1392</td>\n",
              "      <td>96</td>\n",
              "      <td>54</td>\n",
              "      <td>2108</td>\n",
              "    </tr>\n",
              "    <tr>\n",
              "      <th>3</th>\n",
              "      <td>15</td>\n",
              "      <td>21</td>\n",
              "      <td>18</td>\n",
              "      <td>127</td>\n",
              "      <td>1</td>\n",
              "      <td>182</td>\n",
              "    </tr>\n",
              "    <tr>\n",
              "      <th>4</th>\n",
              "      <td>11</td>\n",
              "      <td>19</td>\n",
              "      <td>35</td>\n",
              "      <td>5</td>\n",
              "      <td>59</td>\n",
              "      <td>129</td>\n",
              "    </tr>\n",
              "    <tr>\n",
              "      <th>All</th>\n",
              "      <td>1326</td>\n",
              "      <td>1860</td>\n",
              "      <td>2055</td>\n",
              "      <td>400</td>\n",
              "      <td>190</td>\n",
              "      <td>5831</td>\n",
              "    </tr>\n",
              "  </tbody>\n",
              "</table>\n",
              "</div>\n",
              "      <button class=\"colab-df-convert\" onclick=\"convertToInteractive('df-20796e24-2337-4076-ab02-bc524c07b028')\"\n",
              "              title=\"Convert this dataframe to an interactive table.\"\n",
              "              style=\"display:none;\">\n",
              "        \n",
              "  <svg xmlns=\"http://www.w3.org/2000/svg\" height=\"24px\"viewBox=\"0 0 24 24\"\n",
              "       width=\"24px\">\n",
              "    <path d=\"M0 0h24v24H0V0z\" fill=\"none\"/>\n",
              "    <path d=\"M18.56 5.44l.94 2.06.94-2.06 2.06-.94-2.06-.94-.94-2.06-.94 2.06-2.06.94zm-11 1L8.5 8.5l.94-2.06 2.06-.94-2.06-.94L8.5 2.5l-.94 2.06-2.06.94zm10 10l.94 2.06.94-2.06 2.06-.94-2.06-.94-.94-2.06-.94 2.06-2.06.94z\"/><path d=\"M17.41 7.96l-1.37-1.37c-.4-.4-.92-.59-1.43-.59-.52 0-1.04.2-1.43.59L10.3 9.45l-7.72 7.72c-.78.78-.78 2.05 0 2.83L4 21.41c.39.39.9.59 1.41.59.51 0 1.02-.2 1.41-.59l7.78-7.78 2.81-2.81c.8-.78.8-2.07 0-2.86zM5.41 20L4 18.59l7.72-7.72 1.47 1.35L5.41 20z\"/>\n",
              "  </svg>\n",
              "      </button>\n",
              "      \n",
              "  <style>\n",
              "    .colab-df-container {\n",
              "      display:flex;\n",
              "      flex-wrap:wrap;\n",
              "      gap: 12px;\n",
              "    }\n",
              "\n",
              "    .colab-df-convert {\n",
              "      background-color: #E8F0FE;\n",
              "      border: none;\n",
              "      border-radius: 50%;\n",
              "      cursor: pointer;\n",
              "      display: none;\n",
              "      fill: #1967D2;\n",
              "      height: 32px;\n",
              "      padding: 0 0 0 0;\n",
              "      width: 32px;\n",
              "    }\n",
              "\n",
              "    .colab-df-convert:hover {\n",
              "      background-color: #E2EBFA;\n",
              "      box-shadow: 0px 1px 2px rgba(60, 64, 67, 0.3), 0px 1px 3px 1px rgba(60, 64, 67, 0.15);\n",
              "      fill: #174EA6;\n",
              "    }\n",
              "\n",
              "    [theme=dark] .colab-df-convert {\n",
              "      background-color: #3B4455;\n",
              "      fill: #D2E3FC;\n",
              "    }\n",
              "\n",
              "    [theme=dark] .colab-df-convert:hover {\n",
              "      background-color: #434B5C;\n",
              "      box-shadow: 0px 1px 3px 1px rgba(0, 0, 0, 0.15);\n",
              "      filter: drop-shadow(0px 1px 2px rgba(0, 0, 0, 0.3));\n",
              "      fill: #FFFFFF;\n",
              "    }\n",
              "  </style>\n",
              "\n",
              "      <script>\n",
              "        const buttonEl =\n",
              "          document.querySelector('#df-20796e24-2337-4076-ab02-bc524c07b028 button.colab-df-convert');\n",
              "        buttonEl.style.display =\n",
              "          google.colab.kernel.accessAllowed ? 'block' : 'none';\n",
              "\n",
              "        async function convertToInteractive(key) {\n",
              "          const element = document.querySelector('#df-20796e24-2337-4076-ab02-bc524c07b028');\n",
              "          const dataTable =\n",
              "            await google.colab.kernel.invokeFunction('convertToInteractive',\n",
              "                                                     [key], {});\n",
              "          if (!dataTable) return;\n",
              "\n",
              "          const docLinkHtml = 'Like what you see? Visit the ' +\n",
              "            '<a target=\"_blank\" href=https://colab.research.google.com/notebooks/data_table.ipynb>data table notebook</a>'\n",
              "            + ' to learn more about interactive tables.';\n",
              "          element.innerHTML = '';\n",
              "          dataTable['output_type'] = 'display_data';\n",
              "          await google.colab.output.renderOutput(dataTable, element);\n",
              "          const docLink = document.createElement('div');\n",
              "          docLink.innerHTML = docLinkHtml;\n",
              "          element.appendChild(docLink);\n",
              "        }\n",
              "      </script>\n",
              "    </div>\n",
              "  </div>\n",
              "  "
            ]
          },
          "metadata": {},
          "execution_count": 163
        }
      ]
    },
    {
      "cell_type": "code",
      "source": [
        "cm = confusion_matrix(Y_test,Y_pred)\n",
        "ConfusionMatrixDisplay(cm, display_labels=['None', 'Mild', 'Moderate', 'Moderately Severe', 'Severe']).plot()"
      ],
      "metadata": {
        "colab": {
          "base_uri": "https://localhost:8080/",
          "height": 297
        },
        "id": "pWX1c1EWJWk1",
        "outputId": "782611c1-1f42-4df9-dcdd-87168f1ffd5d"
      },
      "execution_count": 164,
      "outputs": [
        {
          "output_type": "execute_result",
          "data": {
            "text/plain": [
              "<sklearn.metrics._plot.confusion_matrix.ConfusionMatrixDisplay at 0x7f115fb91250>"
            ]
          },
          "metadata": {},
          "execution_count": 164
        },
        {
          "output_type": "display_data",
          "data": {
            "text/plain": [
              "<Figure size 432x288 with 2 Axes>"
            ],
            "image/png": "[encoded data removed]"
          },
          "metadata": {
            "needs_background": "light"
          }
        }
      ]
    },
    {
      "cell_type": "code",
      "source": [
        "plt.plot(trained_model.history['accuracy'])\n",
        "#plt.plot(trained_model.history['val_accuracy'])\n",
        "plt.title('model accuracy')\n",
        "plt.ylabel('accuracy')\n",
        "plt.xlabel('epoch')\n",
        "plt.legend(['train', 'val'], loc='upper left')\n",
        "plt.show()"
      ],
      "metadata": {
        "id": "qsUsNsRAfNH5",
        "outputId": "4da2d9a9-3e34-4f80-e2ec-5fa1886199d6",
        "colab": {
          "base_uri": "https://localhost:8080/",
          "height": 295
        }
      },
      "execution_count": 165,
      "outputs": [
        {
          "output_type": "display_data",
          "data": {
            "text/plain": [
              "<Figure size 432x288 with 1 Axes>"
            ],
            "image/png": "[encoded data removed]"
          },
          "metadata": {
            "needs_background": "light"
          }
        }
      ]
    },
    {
      "cell_type": "code",
      "source": [
        "plt.plot(trained_model.history['loss'])\n",
        "#plt.plot(trained_model.history['val_loss'])\n",
        "plt.title('model loss')\n",
        "plt.ylabel('loss')\n",
        "plt.xlabel('epoch')\n",
        "plt.legend(['loss', 'val'], loc='upper left')\n",
        "plt.show()"
      ],
      "metadata": {
        "id": "dIuetDMtNPL7",
        "outputId": "95dc2f23-0b25-4cc1-f4de-c61c0974abd0",
        "colab": {
          "base_uri": "https://localhost:8080/",
          "height": 295
        }
      },
      "execution_count": 166,
      "outputs": [
        {
          "output_type": "display_data",
          "data": {
            "text/plain": [
              "<Figure size 432x288 with 1 Axes>"
            ],
            "image/png": "[encoded data removed]"
          },
          "metadata": {
            "needs_background": "light"
          }
        }
      ]
    },
    {
      "cell_type": "code",
      "source": [
        ""
      ],
      "metadata": {
        "id": "K5CXI_FmuxV5"
      },
      "execution_count": null,
      "outputs": []
    }
  ]
}