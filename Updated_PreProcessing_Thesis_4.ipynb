{
  "nbformat": 4,
  "nbformat_minor": 0,
  "metadata": {
    "colab": {
      "name": "Updated PreProcessing Thesis.ipynb",
      "provenance": [],
      "collapsed_sections": [],
      "authorship_tag": "ABX9TyM15teHGQ1p8hxo1HoiaO1b",
      "include_colab_link": true
    },
    "kernelspec": {
      "name": "python3",
      "display_name": "Python 3"
    },
    "language_info": {
      "name": "python"
    }
  },
  "cells": [
    {
      "cell_type": "markdown",
      "metadata": {
        "id": "view-in-github",
        "colab_type": "text"
      },
      "source": [
        "<a href=\"https://colab.research.google.com/github/MustofAhmed41/4-Wheel-Drive-Proteus/blob/master/Updated_PreProcessing_Thesis_4.ipynb\" target=\"_parent\"><img src=\"https://colab.research.google.com/assets/colab-badge.svg\" alt=\"Open In Colab\"/></a>"
      ]
    },
    {
      "cell_type": "code",
      "execution_count": 1,
      "metadata": {
        "id": "vAcHG2sKZ4ta"
      },
      "outputs": [],
      "source": [
        "import pandas as pd\n",
        "import numpy as np\n",
        "import seaborn as sns\n",
        "from datetime import datetime"
      ]
    },
    {
      "cell_type": "code",
      "source": [
        "df2 = pd.read_excel('thesis_dataset.xlsx')"
      ],
      "metadata": {
        "id": "cpJPfcj_bLwo"
      },
      "execution_count": 2,
      "outputs": []
    },
    {
      "cell_type": "code",
      "source": [
        "df = df2.copy()"
      ],
      "metadata": {
        "id": "la_wUYRuMJtQ"
      },
      "execution_count": 3,
      "outputs": []
    },
    {
      "cell_type": "code",
      "source": [
        "from math import radians, cos, sin, asin, sqrt\n",
        "def distance(lat1, lat2, lon1, lon2):\n",
        "    # The math module contains a function named\n",
        "    # radians which converts from degrees to radians.\n",
        "    lon1 = radians(lon1)\n",
        "    lon2 = radians(lon2)\n",
        "    lat1 = radians(lat1)\n",
        "    lat2 = radians(lat2)\n",
        "\n",
        "    # Haversine formula\n",
        "    dlon = lon2 - lon1\n",
        "    dlat = lat2 - lat1\n",
        "    a = sin(dlat / 2) ** 2 + cos(lat1) * cos(lat2) * sin(dlon / 2) ** 2\n",
        "\n",
        "    c = 2 * asin(sqrt(a))\n",
        "\n",
        "    # Radius of earth in kilometers. Use 3956 for miles\n",
        "    r = 6371\n",
        "\n",
        "    # calculate the result\n",
        "    return (c * r)\n",
        "\n",
        "\n",
        "# driver code\n",
        "lat1 = 23.7188605\n",
        "lat2 = 23.8692984\n",
        "lon1 = 90.3859656\n",
        "lon2 = 90.3991897\n",
        "\n",
        "print(distance(lat1, lat2, lon1, lon2), \"K.M\")\n"
      ],
      "metadata": {
        "colab": {
          "base_uri": "https://localhost:8080/"
        },
        "id": "2WQR5JgWbKg2",
        "outputId": "0ee9df8a-fa00-419b-f61c-db919da9ae6c"
      },
      "execution_count": 4,
      "outputs": [
        {
          "output_type": "stream",
          "name": "stdout",
          "text": [
            "16.78195346510548 K.M\n"
          ]
        }
      ]
    },
    {
      "cell_type": "code",
      "source": [
        "df['Distance_Travelled'] = np.nan\n",
        "df['Movement'] = 'STATIONARY'\n",
        "df['Date_Time'] =  pd.to_datetime(df['Date_Time'])\n",
        "df['Elapsed_Time'] = np.nan\n",
        "df['Speed'] = np.nan"
      ],
      "metadata": {
        "id": "thXWGQd7iPHb"
      },
      "execution_count": 5,
      "outputs": []
    },
    {
      "cell_type": "code",
      "source": [
        "def calculate_speed(dist_time):\n",
        "    dist = dist_time[0]\n",
        "    time = dist_time[1]\n",
        "    if time is 0:\n",
        "      return 0\n",
        "    else:\n",
        "      return dist/time"
      ],
      "metadata": {
        "id": "2sbszWD3vvlq"
      },
      "execution_count": 6,
      "outputs": []
    },
    {
      "cell_type": "code",
      "source": [
        "zero = 0\n",
        "nonzero = 0\n",
        "prev_time = 0\n",
        "for i in df['UserId'].unique():\n",
        "  count = 0\n",
        "  sensorgps_lat = sensorgps_long = 0\n",
        "  for  z, x, y, t in df[df['UserId'] == i ][['Unnamed: 0','SENSORGPS_LATITUDE','SENSORGPS_LONGITUDE', 'Date_Time']].itertuples(index=False):\n",
        "    if count is 0:\n",
        "      sensorgps_lat = x\n",
        "      sensorgps_long = y   \n",
        "      prev_time = t      \n",
        "      df.loc[z,'Distance_Travelled'] = 0  \n",
        "      df.loc[ df['Unnamed: 0'] == z,'Movement'] = 'STATIONARY'    \n",
        "      df.loc[ df['Unnamed: 0'] == z,'Elapsed_Time'] = 100\n",
        "      df.loc[ df['Unnamed: 0'] == z,'Speed'] = 0  \n",
        "    else:\n",
        "      dist = distance(sensorgps_lat, x, sensorgps_long,y)\n",
        "      df.loc[z,'Distance_Travelled'] = dist  \n",
        "      duration_in_s = (t - prev_time).total_seconds()      \n",
        "      if duration_in_s != 0 :\n",
        "        df.loc[ df['Unnamed: 0'] == z,'Elapsed_Time'] = duration_in_s / 3600  \n",
        "      else:\n",
        "        df.loc[ df['Unnamed: 0'] == z,'Elapsed_Time'] = 100\n",
        "\n",
        "      prev_time = t\n",
        "      if dist == 0:\n",
        "        zero += 1\n",
        "        df.loc[ df['Unnamed: 0'] == z,'Movement'] = 'STATIONARY'\n",
        "      else:\n",
        "        nonzero += 1\n",
        "        df.loc[df['Unnamed: 0'] == z,'Movement'] = 'MOVING'\n",
        "      sensorgps_lat = x\n",
        "      sensorgps_long = y\n",
        "    count += 1\n",
        "\n",
        "print(zero, nonzero)\n",
        "\n",
        "df['Speed'] = df.Distance_Travelled / df.Elapsed_Time"
      ],
      "metadata": {
        "colab": {
          "base_uri": "https://localhost:8080/"
        },
        "id": "XMbZy8SvbAFT",
        "outputId": "c74fec84-db06-4a77-a1c3-5f801649214f"
      },
      "execution_count": 7,
      "outputs": [
        {
          "output_type": "stream",
          "name": "stdout",
          "text": [
            "21042 1729\n"
          ]
        }
      ]
    },
    {
      "cell_type": "code",
      "source": [
        "df['Elapsed_Time'].value_counts()"
      ],
      "metadata": {
        "colab": {
          "base_uri": "https://localhost:8080/"
        },
        "id": "_7V3jaHgpOFa",
        "outputId": "24ec16ca-b861-4093-e5e4-4cdbcdb13065"
      },
      "execution_count": 8,
      "outputs": [
        {
          "output_type": "execute_result",
          "data": {
            "text/plain": [
              "0.250000      4952\n",
              "100.000000     919\n",
              "0.250278       450\n",
              "0.250556       159\n",
              "0.021389       107\n",
              "              ... \n",
              "31.551944        1\n",
              "1.321389         1\n",
              "1.056667         1\n",
              "10.126944        1\n",
              "20.362500        1\n",
              "Name: Elapsed_Time, Length: 4836, dtype: int64"
            ]
          },
          "metadata": {},
          "execution_count": 8
        }
      ]
    },
    {
      "cell_type": "code",
      "source": [
        "df['Accelerometer'] = (df.ACCELEROMETER_X ** 2 + df.ACCELEROMETER_Y ** 2 + df.ACCELEROMETER_Z ** 2) ** (1/2)"
      ],
      "metadata": {
        "id": "ci8hJghXlnaK"
      },
      "execution_count": 9,
      "outputs": []
    },
    {
      "cell_type": "code",
      "source": [
        "zero = 0\n",
        "\n",
        "for i in df['UserId'].unique():\n",
        "  count = 0\n",
        "  sensorgps_lat = sensorgps_long = 0\n",
        "  for  z, x, y, t in df[df['UserId'] == i][['Unnamed: 0','Date_Time']].itertuples(index=False):    \n",
        "    if count is 0:\n",
        "      pass\n",
        "    else:\n",
        "      pass\n",
        "\n"
      ],
      "metadata": {
        "id": "NHmGIT98lndY"
      },
      "execution_count": null,
      "outputs": []
    },
    {
      "cell_type": "code",
      "source": [
        ""
      ],
      "metadata": {
        "id": "ClNNUeM6lngg"
      },
      "execution_count": null,
      "outputs": []
    },
    {
      "cell_type": "code",
      "source": [
        ""
      ],
      "metadata": {
        "id": "s-7Gg0z5lnjb"
      },
      "execution_count": null,
      "outputs": []
    },
    {
      "cell_type": "code",
      "source": [
        "df.to_excel('test.xlsx')"
      ],
      "metadata": {
        "id": "nS4MI37_fxBe"
      },
      "execution_count": null,
      "outputs": []
    },
    {
      "cell_type": "code",
      "source": [
        "df.info()"
      ],
      "metadata": {
        "colab": {
          "base_uri": "https://localhost:8080/"
        },
        "id": "EJjmplyBeP-U",
        "outputId": "1316a1ce-60be-4b87-e876-6f378c0ad3df"
      },
      "execution_count": null,
      "outputs": [
        {
          "output_type": "stream",
          "name": "stdout",
          "text": [
            "<class 'pandas.core.frame.DataFrame'>\n",
            "RangeIndex: 22851 entries, 0 to 22850\n",
            "Data columns (total 30 columns):\n",
            " #   Column               Non-Null Count  Dtype         \n",
            "---  ------               --------------  -----         \n",
            " 0   Unnamed: 0           22851 non-null  int64         \n",
            " 1   UserId               22851 non-null  object        \n",
            " 2   Entry_Id             22851 non-null  object        \n",
            " 3   Age                  22851 non-null  object        \n",
            " 4   Gender               22851 non-null  object        \n",
            " 5   University           22851 non-null  object        \n",
            " 6   ACCELEROMETER_X      22851 non-null  float64       \n",
            " 7   ACCELEROMETER_Y      22851 non-null  float64       \n",
            " 8   ACCELEROMETER_Z      22851 non-null  float64       \n",
            " 9   BATTERY_LEVEL        22189 non-null  float64       \n",
            " 10  Date_Time            22851 non-null  datetime64[ns]\n",
            " 11  Light_v              22851 non-null  float64       \n",
            " 12  GRAV_X               22851 non-null  float64       \n",
            " 13  GRAV_Y               22851 non-null  float64       \n",
            " 14  GRAV_Z               22851 non-null  float64       \n",
            " 15  GYROSCOPE_X          22851 non-null  float64       \n",
            " 16  GYROSCOPE_Y          22851 non-null  float64       \n",
            " 17  GYROSCOPE_Z          22851 non-null  float64       \n",
            " 18  MAG_X                22851 non-null  float64       \n",
            " 19  MAG_Y                22851 non-null  float64       \n",
            " 20  MAG_Z                22851 non-null  float64       \n",
            " 21  ORIENTATION_AZIMUTH  22851 non-null  float64       \n",
            " 22  ORIENTATION_PITCH    22851 non-null  float64       \n",
            " 23  ORIENTATION_ROLL     22851 non-null  float64       \n",
            " 24  SENSORGPS_LATITUDE   22851 non-null  float64       \n",
            " 25  SENSORGPS_LONGITUDE  22851 non-null  float64       \n",
            " 26  Email Address        22851 non-null  object        \n",
            " 27  PHQ-Label            22851 non-null  object        \n",
            " 28  Distance Travelled   22851 non-null  float64       \n",
            " 29  Movement             22851 non-null  object        \n",
            "dtypes: datetime64[ns](1), float64(20), int64(1), object(8)\n",
            "memory usage: 5.2+ MB\n"
          ]
        }
      ]
    },
    {
      "cell_type": "code",
      "source": [
        "df['Date_Time'] =  pd.to_datetime(df['Date_Time'])"
      ],
      "metadata": {
        "id": "Hdv4W4x0d5xV"
      },
      "execution_count": null,
      "outputs": []
    },
    {
      "cell_type": "code",
      "source": [
        "print(df['Date_Time'])"
      ],
      "metadata": {
        "colab": {
          "base_uri": "https://localhost:8080/"
        },
        "id": "r4CWdg6ceApa",
        "outputId": "b0809fae-1d81-4fd8-cfdc-0259190150d6"
      },
      "execution_count": null,
      "outputs": [
        {
          "output_type": "stream",
          "name": "stdout",
          "text": [
            "0       2022-03-08 22:16:11\n",
            "1       2022-03-08 22:31:55\n",
            "2       2022-03-08 23:17:02\n",
            "3       2022-03-08 23:40:38\n",
            "4       2022-03-08 23:55:38\n",
            "                ...        \n",
            "22846   2022-03-05 21:28:50\n",
            "22847   2022-03-05 21:43:50\n",
            "22848   2022-03-26 21:05:02\n",
            "22849   2022-03-26 21:20:02\n",
            "22850   2022-03-26 21:40:37\n",
            "Name: Date_Time, Length: 22851, dtype: datetime64[ns]\n"
          ]
        }
      ]
    },
    {
      "cell_type": "code",
      "source": [
        "print(df['Date_Time'].dt.strftime('%H:%M'))"
      ],
      "metadata": {
        "colab": {
          "base_uri": "https://localhost:8080/"
        },
        "id": "x1XQayr9edmO",
        "outputId": "218db692-ab24-491b-d039-9201a1ebf39b"
      },
      "execution_count": null,
      "outputs": [
        {
          "output_type": "stream",
          "name": "stdout",
          "text": [
            "0        22:16\n",
            "1        22:31\n",
            "2        23:17\n",
            "3        23:40\n",
            "4        23:55\n",
            "         ...  \n",
            "22846    21:28\n",
            "22847    21:43\n",
            "22848    21:05\n",
            "22849    21:20\n",
            "22850    21:40\n",
            "Name: Date_Time, Length: 22851, dtype: object\n"
          ]
        }
      ]
    },
    {
      "cell_type": "code",
      "source": [
        "then = datetime(2012, 3, 5, 23, 8, 15)\n",
        "now  = datetime.now() \n",
        "duration = now - then                         # For build-in functions\n",
        "duration_in_s = duration.total_seconds()   \n",
        "print(duration_in_s)\n",
        "print()\n",
        "hours = divmod(duration_in_s, 3600)[0]\n",
        "print(hours)"
      ],
      "metadata": {
        "colab": {
          "base_uri": "https://localhost:8080/"
        },
        "id": "uA-uBKiogD-i",
        "outputId": "1d40826a-6233-46cc-8353-81bf28acfbfc"
      },
      "execution_count": null,
      "outputs": [
        {
          "output_type": "stream",
          "name": "stdout",
          "text": [
            "322850740.604948\n",
            "\n",
            "89680.0\n"
          ]
        }
      ]
    },
    {
      "cell_type": "code",
      "source": [
        ""
      ],
      "metadata": {
        "id": "YI7jt5TCbV7s"
      },
      "execution_count": null,
      "outputs": []
    },
    {
      "cell_type": "markdown",
      "source": [
        "###filling null values with 0"
      ],
      "metadata": {
        "id": "hG4LmuK0Kjrz"
      }
    },
    {
      "cell_type": "code",
      "source": [
        ""
      ],
      "metadata": {
        "id": "i00J8Kt8a_ZT"
      },
      "execution_count": null,
      "outputs": []
    },
    {
      "cell_type": "code",
      "source": [
        "df.isnull().sum(axis = 0)"
      ],
      "metadata": {
        "colab": {
          "base_uri": "https://localhost:8080/"
        },
        "id": "9FIwO86cKqzy",
        "outputId": "20382205-fcc5-49d3-c3a6-60c17639ce81"
      },
      "execution_count": null,
      "outputs": [
        {
          "output_type": "execute_result",
          "data": {
            "text/plain": [
              "Unnamed: 0               0\n",
              "UserId                   0\n",
              "Entry_Id                 0\n",
              "Age                      0\n",
              "Gender                   0\n",
              "University               0\n",
              "ACCELEROMETER_X          0\n",
              "ACCELEROMETER_Y          0\n",
              "ACCELEROMETER_Z          0\n",
              "BATTERY_LEVEL          662\n",
              "Date_Time                0\n",
              "Light_v                  0\n",
              "GRAV_X                   0\n",
              "GRAV_Y                   0\n",
              "GRAV_Z                   0\n",
              "GYROSCOPE_X              0\n",
              "GYROSCOPE_Y              0\n",
              "GYROSCOPE_Z              0\n",
              "MAG_X                    0\n",
              "MAG_Y                    0\n",
              "MAG_Z                    0\n",
              "ORIENTATION_AZIMUTH      0\n",
              "ORIENTATION_PITCH        0\n",
              "ORIENTATION_ROLL         0\n",
              "SENSORGPS_LATITUDE       0\n",
              "SENSORGPS_LONGITUDE      0\n",
              "Email Address            0\n",
              "PHQ-Label                0\n",
              "dtype: int64"
            ]
          },
          "metadata": {},
          "execution_count": 65
        }
      ]
    },
    {
      "cell_type": "code",
      "source": [
        "df.fillna(0, inplace = True)\n",
        "print()"
      ],
      "metadata": {
        "colab": {
          "base_uri": "https://localhost:8080/"
        },
        "id": "pnGv7tZFbMxa",
        "outputId": "840ee38a-d4a7-4b83-ac7e-660c8a258a5d"
      },
      "execution_count": null,
      "outputs": [
        {
          "output_type": "stream",
          "name": "stdout",
          "text": [
            "\n"
          ]
        }
      ]
    },
    {
      "cell_type": "code",
      "source": [
        "df.isnull().sum(axis = 0)"
      ],
      "metadata": {
        "colab": {
          "base_uri": "https://localhost:8080/"
        },
        "id": "EfGo_7p-KtHl",
        "outputId": "95f6b543-d4c5-41c0-f6a9-c3e2ad8f894e"
      },
      "execution_count": null,
      "outputs": [
        {
          "output_type": "execute_result",
          "data": {
            "text/plain": [
              "Unnamed: 0             0\n",
              "UserId                 0\n",
              "Entry_Id               0\n",
              "Age                    0\n",
              "Gender                 0\n",
              "University             0\n",
              "ACCELEROMETER_X        0\n",
              "ACCELEROMETER_Y        0\n",
              "ACCELEROMETER_Z        0\n",
              "BATTERY_LEVEL          0\n",
              "Date_Time              0\n",
              "Light_v                0\n",
              "GRAV_X                 0\n",
              "GRAV_Y                 0\n",
              "GRAV_Z                 0\n",
              "GYROSCOPE_X            0\n",
              "GYROSCOPE_Y            0\n",
              "GYROSCOPE_Z            0\n",
              "MAG_X                  0\n",
              "MAG_Y                  0\n",
              "MAG_Z                  0\n",
              "ORIENTATION_AZIMUTH    0\n",
              "ORIENTATION_PITCH      0\n",
              "ORIENTATION_ROLL       0\n",
              "SENSORGPS_LATITUDE     0\n",
              "SENSORGPS_LONGITUDE    0\n",
              "Email Address          0\n",
              "PHQ-Label              0\n",
              "dtype: int64"
            ]
          },
          "metadata": {},
          "execution_count": 67
        }
      ]
    },
    {
      "cell_type": "markdown",
      "source": [
        "###filling latitude and longitude"
      ],
      "metadata": {
        "id": "IFBlkyr5Kys3"
      }
    },
    {
      "cell_type": "code",
      "source": [
        "print(df.isin([0]).sum(axis=0)['SENSORGPS_LATITUDE'])\n",
        "print(df.isin([0]).sum(axis=0)['SENSORGPS_LONGITUDE'])"
      ],
      "metadata": {
        "colab": {
          "base_uri": "https://localhost:8080/"
        },
        "id": "olvJ2ZsRLAF-",
        "outputId": "327c9258-e71e-48cf-d767-f683094b5c90"
      },
      "execution_count": null,
      "outputs": [
        {
          "output_type": "stream",
          "name": "stdout",
          "text": [
            "5315\n",
            "5315\n"
          ]
        }
      ]
    },
    {
      "cell_type": "code",
      "source": [
        "mean_gps_lat_by_phq =  df[df['SENSORGPS_LATITUDE'] != 0].groupby('PHQ-Label').mean()['SENSORGPS_LATITUDE']\n",
        "mean_gps_lat_by_phq"
      ],
      "metadata": {
        "colab": {
          "base_uri": "https://localhost:8080/"
        },
        "id": "B3NfvaD5omPl",
        "outputId": "74972978-a0cb-47ce-b02d-0c0457ee0d89"
      },
      "execution_count": null,
      "outputs": [
        {
          "output_type": "execute_result",
          "data": {
            "text/plain": [
              "PHQ-Label\n",
              "Mild                 23.690431\n",
              "Moderate             23.768902\n",
              "Moderately Severe    23.765290\n",
              "None                 23.766311\n",
              "Severe               23.804594\n",
              "Name: SENSORGPS_LATITUDE, dtype: float64"
            ]
          },
          "metadata": {},
          "execution_count": 69
        }
      ]
    },
    {
      "cell_type": "code",
      "source": [
        "mean_latitude_dict = {'Mild' : 23.690431, 'Moderate': 23.768879, 'Moderately Severe': 23.765290,  'None' :23.766311, 'Severe': 23.804594  }"
      ],
      "metadata": {
        "id": "EP-eKIdVpOOY"
      },
      "execution_count": null,
      "outputs": []
    },
    {
      "cell_type": "code",
      "source": [
        "user_lst = df['UserId'].unique()\n",
        "mean_gps_lat_by_id =  df.groupby('UserId').mean()['SENSORGPS_LATITUDE']\n",
        "missing_gps = 0\n",
        "for i in range(len(mean_gps_lat_by_id)):\n",
        "  if mean_gps_lat_by_id[i] == 0:    \n",
        "    missing_gps += 1\n",
        "    label = df[df['UserId'] == user_lst[i]].iloc[[0]]['PHQ-Label'] \n",
        "    for j in label:\n",
        "      df.loc[ df['UserId'] == user_lst[i] , 'SENSORGPS_LATITUDE'] = mean_latitude_dict[j]\n",
        "\n",
        "print('Fully missing GPS for ',  missing_gps , ' number of users' )\n",
        "    "
      ],
      "metadata": {
        "id": "o7P21-dqlEXO",
        "colab": {
          "base_uri": "https://localhost:8080/"
        },
        "outputId": "7193f121-dd4a-4240-efcb-d20d7bd5ffa1"
      },
      "execution_count": null,
      "outputs": [
        {
          "output_type": "stream",
          "name": "stdout",
          "text": [
            "Fully missing GPS for  9  number of users\n"
          ]
        }
      ]
    },
    {
      "cell_type": "code",
      "source": [
        "user_lst = df['UserId'].unique()\n",
        "mean_gps_lat_by_id =  df.groupby('UserId').mean()['SENSORGPS_LONGITUDE']\n",
        "for i in range(len(mean_gps_lat_by_id)):\n",
        "  if mean_gps_lat_by_id[i] == 0:    \n",
        "    label = df[df['UserId'] == user_lst[i]].iloc[[0]]['PHQ-Label'] \n",
        "    for j in label:\n",
        "      df.loc[ df['UserId'] == user_lst[i] , 'SENSORGPS_LONGITUDE'] = mean_latitude_dict[j]"
      ],
      "metadata": {
        "id": "27Py05ctBcWR"
      },
      "execution_count": null,
      "outputs": []
    },
    {
      "cell_type": "markdown",
      "source": [
        "### Removing invalid samples which contains 3 zeros"
      ],
      "metadata": {
        "id": "KQhaPCmQMpVV"
      }
    },
    {
      "cell_type": "code",
      "source": [
        "col_combinations = [['ACCELEROMETER_X', 'ACCELEROMETER_Y', 'ACCELEROMETER_Z'],\n",
        "                    ['GRAV_X', 'GRAV_Y', 'GRAV_Z'],\n",
        "                    [ 'GYROSCOPE_X', 'GYROSCOPE_Y', 'GYROSCOPE_Z'],\n",
        "                    ['MAG_X', 'MAG_Y', 'MAG_Z'],\n",
        "                    ['ORIENTATION_AZIMUTH', 'ORIENTATION_PITCH', 'ORIENTATION_ROLL']                    \n",
        "                    ]"
      ],
      "metadata": {
        "id": "V7S949n2dRTD"
      },
      "execution_count": null,
      "outputs": []
    },
    {
      "cell_type": "code",
      "source": [
        "for i in col_combinations:\n",
        "    print(i, ' : ' ,len(df))\n",
        "    many_missing_values_in_row = df.index[ (df[i[0]] == 0) & (df[i[1]] == 0)  & (df[i[2]] == 0) ]\n",
        "    df.drop(many_missing_values_in_row, inplace = True)\n",
        "    print(i, ' : ' ,len(df))"
      ],
      "metadata": {
        "colab": {
          "base_uri": "https://localhost:8080/"
        },
        "id": "C2CwCMyFeLkK",
        "outputId": "306f4b00-65b0-4ec2-97db-b1b734ac6cbc"
      },
      "execution_count": null,
      "outputs": [
        {
          "output_type": "stream",
          "name": "stdout",
          "text": [
            "['ACCELEROMETER_X', 'ACCELEROMETER_Y', 'ACCELEROMETER_Z']  :  22851\n",
            "['ACCELEROMETER_X', 'ACCELEROMETER_Y', 'ACCELEROMETER_Z']  :  22851\n",
            "['GRAV_X', 'GRAV_Y', 'GRAV_Z']  :  22851\n",
            "['GRAV_X', 'GRAV_Y', 'GRAV_Z']  :  20354\n",
            "['GYROSCOPE_X', 'GYROSCOPE_Y', 'GYROSCOPE_Z']  :  20354\n",
            "['GYROSCOPE_X', 'GYROSCOPE_Y', 'GYROSCOPE_Z']  :  19608\n",
            "['MAG_X', 'MAG_Y', 'MAG_Z']  :  19608\n",
            "['MAG_X', 'MAG_Y', 'MAG_Z']  :  19604\n",
            "['ORIENTATION_AZIMUTH', 'ORIENTATION_PITCH', 'ORIENTATION_ROLL']  :  19604\n",
            "['ORIENTATION_AZIMUTH', 'ORIENTATION_PITCH', 'ORIENTATION_ROLL']  :  19604\n"
          ]
        }
      ]
    },
    {
      "cell_type": "markdown",
      "source": [
        "##Filling battery level"
      ],
      "metadata": {
        "id": "qFRKh9kAOamY"
      }
    },
    {
      "cell_type": "code",
      "source": [
        "df.isin([0]).sum(axis=0)['BATTERY_LEVEL']"
      ],
      "metadata": {
        "colab": {
          "base_uri": "https://localhost:8080/"
        },
        "id": "F6-HRqblbSkA",
        "outputId": "117bb3b8-4bd5-484a-cc3b-e07704ad5cb3"
      },
      "execution_count": null,
      "outputs": [
        {
          "output_type": "execute_result",
          "data": {
            "text/plain": [
              "648"
            ]
          },
          "metadata": {},
          "execution_count": 75
        }
      ]
    },
    {
      "cell_type": "code",
      "source": [
        "mean_battery = []\n",
        "mean_battery =  df[df['BATTERY_LEVEL'] != 0 ].groupby('UserId').mean()['BATTERY_LEVEL']\n",
        "mean_battery"
      ],
      "metadata": {
        "colab": {
          "base_uri": "https://localhost:8080/"
        },
        "id": "h0j5IDdnbSzf",
        "outputId": "05aab3f9-6613-4a11-aa96-c485adfc0b55"
      },
      "execution_count": null,
      "outputs": [
        {
          "output_type": "execute_result",
          "data": {
            "text/plain": [
              "UserId\n",
              "34aHCNx4fvb5pyE4mPdbGTMXjPb2    46.017241\n",
              "38IyoUCxjrgfy2x7iBtLxh5JzJD3    64.167785\n",
              "3MAuKqHZMcMB2vleHN69cmViXqx2    37.038961\n",
              "4MKR0oR9fpfrJ9I91NiiDB4Pv2h2    71.736842\n",
              "5iytFliuAMh2mrcNXzqIeQJsc3B2    38.549020\n",
              "                                  ...    \n",
              "vdtqKbkDWqQNBYpLRMkbJN1Ayad2    64.200000\n",
              "vot9lSsMp4ew2qiwv4Co0Q6NIRV2    44.384615\n",
              "wkghurEYpCfdqbRu0E0oEXqDfN32    39.809524\n",
              "xbvMRucuWqPB4sHR57IpNwq5nri2    24.250000\n",
              "yUTDHaNdmRYIBsyC36KhvnpgQnv2    85.000000\n",
              "Name: BATTERY_LEVEL, Length: 71, dtype: float64"
            ]
          },
          "metadata": {},
          "execution_count": 76
        }
      ]
    },
    {
      "cell_type": "code",
      "source": [
        "count = 0\n",
        "for i in df['UserId'].unique():\n",
        "  df.loc[ (df['BATTERY_LEVEL'] == 0) & (df['UserId'] == i) , 'BATTERY_LEVEL'] = mean_battery[count]\n",
        "  count += 1"
      ],
      "metadata": {
        "id": "1GF5fzzvbUMD"
      },
      "execution_count": null,
      "outputs": []
    },
    {
      "cell_type": "code",
      "source": [
        "df.isin([0]).sum(axis=0)['BATTERY_LEVEL']"
      ],
      "metadata": {
        "colab": {
          "base_uri": "https://localhost:8080/"
        },
        "id": "coj9g3GqbWCe",
        "outputId": "8e1dd207-e062-4e1e-ae6a-8065e4427339"
      },
      "execution_count": null,
      "outputs": [
        {
          "output_type": "execute_result",
          "data": {
            "text/plain": [
              "0"
            ]
          },
          "metadata": {},
          "execution_count": 78
        }
      ]
    },
    {
      "cell_type": "markdown",
      "source": [
        "##filling Sensor Latitude and Longitude with all 0"
      ],
      "metadata": {
        "id": "BmGZGttVOet6"
      }
    },
    {
      "cell_type": "code",
      "source": [
        "print(df.isin([0]).sum(axis=0)['SENSORGPS_LATITUDE'])\n",
        "print(df.isin([0]).sum(axis=0)['SENSORGPS_LONGITUDE'])"
      ],
      "metadata": {
        "colab": {
          "base_uri": "https://localhost:8080/"
        },
        "id": "Rs9w1mGtbvsk",
        "outputId": "ae9157af-8777-4d45-9984-5e065f275043"
      },
      "execution_count": null,
      "outputs": [
        {
          "output_type": "stream",
          "name": "stdout",
          "text": [
            "3690\n",
            "3690\n"
          ]
        }
      ]
    },
    {
      "cell_type": "code",
      "source": [
        ""
      ],
      "metadata": {
        "id": "VKd14P-VkecG"
      },
      "execution_count": null,
      "outputs": []
    },
    {
      "cell_type": "code",
      "source": [
        "mean_gps_lat = []\n",
        "mean_gps_lat =  df[df['SENSORGPS_LATITUDE'] != 0 ].groupby('UserId').mean()['SENSORGPS_LATITUDE']\n",
        "count = 0\n",
        "for i in df['UserId'].unique():\n",
        "  df.loc[ (df['SENSORGPS_LATITUDE'] == 0) & (df['UserId'] == i) , 'SENSORGPS_LATITUDE'] = mean_gps_lat[count]\n",
        "  count += 1"
      ],
      "metadata": {
        "id": "TgQ0purFbXhM"
      },
      "execution_count": null,
      "outputs": []
    },
    {
      "cell_type": "code",
      "source": [
        "mean_gps_long = []\n",
        "mean_gps_long =  df[df['SENSORGPS_LONGITUDE'] != 0 ].groupby('UserId').mean()['SENSORGPS_LONGITUDE']\n",
        "count = 0\n",
        "\n",
        "for i in df['UserId'].unique():\n",
        "  df.loc[ (df['SENSORGPS_LONGITUDE'] == 0) & (df['UserId'] == i) , 'SENSORGPS_LONGITUDE'] = mean_gps_long[count]\n",
        "  count += 1"
      ],
      "metadata": {
        "id": "TbQMe-6s8xrU"
      },
      "execution_count": null,
      "outputs": []
    },
    {
      "cell_type": "code",
      "source": [
        ""
      ],
      "metadata": {
        "id": "UqgQbpUvBo45"
      },
      "execution_count": null,
      "outputs": []
    },
    {
      "cell_type": "markdown",
      "source": [
        ""
      ],
      "metadata": {
        "id": "vkjG_u8XOQcP"
      }
    },
    {
      "cell_type": "markdown",
      "source": [
        "##removing samples that still contains more than 5 zeros"
      ],
      "metadata": {
        "id": "38HeB1CuOpiw"
      }
    },
    {
      "cell_type": "code",
      "source": [
        "print(len(df))\n",
        "many_missing_values_in_row = df.index[((df == 0).sum(axis=1) >= 5) ]\n",
        "df.drop(many_missing_values_in_row, inplace = True)\n",
        "print(len(df))"
      ],
      "metadata": {
        "id": "TISOG0qC5WwJ",
        "colab": {
          "base_uri": "https://localhost:8080/"
        },
        "outputId": "e9a275cc-a58f-4855-b385-617be65dfd2c"
      },
      "execution_count": null,
      "outputs": [
        {
          "output_type": "stream",
          "name": "stdout",
          "text": [
            "19604\n",
            "19434\n"
          ]
        }
      ]
    },
    {
      "cell_type": "code",
      "source": [
        "df['Age'].value_counts()"
      ],
      "metadata": {
        "colab": {
          "base_uri": "https://localhost:8080/"
        },
        "id": "_fm1rXkA2kIA",
        "outputId": "42f3e307-0166-4c25-89c6-0565db597a22"
      },
      "execution_count": null,
      "outputs": [
        {
          "output_type": "execute_result",
          "data": {
            "text/plain": [
              "21-25    18942\n",
              "25+        445\n",
              "18-20       47\n",
              "Name: Age, dtype: int64"
            ]
          },
          "metadata": {},
          "execution_count": 83
        }
      ]
    },
    {
      "cell_type": "code",
      "source": [
        "def impute_age(x):\n",
        "  if x == '18-20':\n",
        "    return 19\n",
        "  elif x == '21-25':\n",
        "    return 22.5\n",
        "  elif x == '25+':\n",
        "    return 27.5"
      ],
      "metadata": {
        "id": "WZezMT5ZG23d"
      },
      "execution_count": null,
      "outputs": []
    },
    {
      "cell_type": "code",
      "source": [
        "df['Age'] = df['Age'].apply(impute_age)"
      ],
      "metadata": {
        "id": "9C5IzTpOHjVP"
      },
      "execution_count": null,
      "outputs": []
    },
    {
      "cell_type": "code",
      "source": [
        "df = pd.get_dummies(df, columns=['Gender'])"
      ],
      "metadata": {
        "id": "-yeUcdMR4w78"
      },
      "execution_count": null,
      "outputs": []
    },
    {
      "cell_type": "code",
      "source": [
        "df.head(5)"
      ],
      "metadata": {
        "colab": {
          "base_uri": "https://localhost:8080/",
          "height": 577
        },
        "id": "dt1Rp_PC44aH",
        "outputId": "40f6fec3-c9e8-4b45-f87b-245769a2503f"
      },
      "execution_count": null,
      "outputs": [
        {
          "output_type": "execute_result",
          "data": {
            "text/plain": [
              "   Unnamed: 0                        UserId              Entry_Id   Age  \\\n",
              "0           0  34aHCNx4fvb5pyE4mPdbGTMXjPb2  -Mxeba-fS5VQrjM-w03M  22.5   \n",
              "1           1  34aHCNx4fvb5pyE4mPdbGTMXjPb2  -Mxeba-sabBVXPeVIuBT  22.5   \n",
              "2           2  34aHCNx4fvb5pyE4mPdbGTMXjPb2  -Mxeba-yVuJIk8rhM7GJ  22.5   \n",
              "3           3  34aHCNx4fvb5pyE4mPdbGTMXjPb2  -Mxfcw4dGPTMYQqotSLf  22.5   \n",
              "4           4  34aHCNx4fvb5pyE4mPdbGTMXjPb2  -Mxfcw4mX2DJdZV9-CDX  22.5   \n",
              "\n",
              "  University  ACCELEROMETER_X  ACCELEROMETER_Y  ACCELEROMETER_Z  \\\n",
              "0     Others        -3.511770         5.972490          6.99871   \n",
              "1     Others        -0.175872         3.080760          8.74457   \n",
              "2     Others         2.298610         0.246461          9.57129   \n",
              "3     Others         0.208176         8.001000          5.88275   \n",
              "4     Others        -2.880960         8.937790          3.71336   \n",
              "\n",
              "   BATTERY_LEVEL                Date_Time  ...    MAG_Z  ORIENTATION_AZIMUTH  \\\n",
              "0           25.0  Mar 8, 2022 10:16:11 PM  ... -35.1970             0.875866   \n",
              "1           24.0  Mar 8, 2022 10:31:55 PM  ... -29.1702            -0.615485   \n",
              "2           21.0  Mar 8, 2022 11:17:02 PM  ...   0.3538             1.713230   \n",
              "3           19.0  Mar 8, 2022 11:40:38 PM  ...  -0.0976            -2.862400   \n",
              "4           17.0  Mar 8, 2022 11:55:38 PM  ...  19.6054            -2.190090   \n",
              "\n",
              "   ORIENTATION_PITCH  ORIENTATION_ROLL  SENSORGPS_LATITUDE  \\\n",
              "0          -0.651602          0.465065             23.8317   \n",
              "1          -0.338664          0.000000             23.8317   \n",
              "2           0.000000         -0.235693             23.8317   \n",
              "3          -0.936502          0.000000             23.8317   \n",
              "4          -1.086690          0.659832             23.8317   \n",
              "\n",
              "   SENSORGPS_LONGITUDE              Email Address  PHQ-Label  Gender_Female  \\\n",
              "0              90.4187  fabiha.efa@northsouth.edu     Severe              1   \n",
              "1              90.4187  fabiha.efa@northsouth.edu     Severe              1   \n",
              "2              90.4187  fabiha.efa@northsouth.edu     Severe              1   \n",
              "3              90.4187  fabiha.efa@northsouth.edu     Severe              1   \n",
              "4              90.4187  fabiha.efa@northsouth.edu     Severe              1   \n",
              "\n",
              "   Gender_Male  \n",
              "0            0  \n",
              "1            0  \n",
              "2            0  \n",
              "3            0  \n",
              "4            0  \n",
              "\n",
              "[5 rows x 29 columns]"
            ],
            "text/html": [
              "\n",
              "  <div id=\"df-dd0d137f-a98d-4d97-96ee-248c32c5284a\">\n",
              "    <div class=\"colab-df-container\">\n",
              "      <div>\n",
              "<style scoped>\n",
              "    .dataframe tbody tr th:only-of-type {\n",
              "        vertical-align: middle;\n",
              "    }\n",
              "\n",
              "    .dataframe tbody tr th {\n",
              "        vertical-align: top;\n",
              "    }\n",
              "\n",
              "    .dataframe thead th {\n",
              "        text-align: right;\n",
              "    }\n",
              "</style>\n",
              "<table border=\"1\" class=\"dataframe\">\n",
              "  <thead>\n",
              "    <tr style=\"text-align: right;\">\n",
              "      <th></th>\n",
              "      <th>Unnamed: 0</th>\n",
              "      <th>UserId</th>\n",
              "      <th>Entry_Id</th>\n",
              "      <th>Age</th>\n",
              "      <th>University</th>\n",
              "      <th>ACCELEROMETER_X</th>\n",
              "      <th>ACCELEROMETER_Y</th>\n",
              "      <th>ACCELEROMETER_Z</th>\n",
              "      <th>BATTERY_LEVEL</th>\n",
              "      <th>Date_Time</th>\n",
              "      <th>...</th>\n",
              "      <th>MAG_Z</th>\n",
              "      <th>ORIENTATION_AZIMUTH</th>\n",
              "      <th>ORIENTATION_PITCH</th>\n",
              "      <th>ORIENTATION_ROLL</th>\n",
              "      <th>SENSORGPS_LATITUDE</th>\n",
              "      <th>SENSORGPS_LONGITUDE</th>\n",
              "      <th>Email Address</th>\n",
              "      <th>PHQ-Label</th>\n",
              "      <th>Gender_Female</th>\n",
              "      <th>Gender_Male</th>\n",
              "    </tr>\n",
              "  </thead>\n",
              "  <tbody>\n",
              "    <tr>\n",
              "      <th>0</th>\n",
              "      <td>0</td>\n",
              "      <td>34aHCNx4fvb5pyE4mPdbGTMXjPb2</td>\n",
              "      <td>-Mxeba-fS5VQrjM-w03M</td>\n",
              "      <td>22.5</td>\n",
              "      <td>Others</td>\n",
              "      <td>-3.511770</td>\n",
              "      <td>5.972490</td>\n",
              "      <td>6.99871</td>\n",
              "      <td>25.0</td>\n",
              "      <td>Mar 8, 2022 10:16:11 PM</td>\n",
              "      <td>...</td>\n",
              "      <td>-35.1970</td>\n",
              "      <td>0.875866</td>\n",
              "      <td>-0.651602</td>\n",
              "      <td>0.465065</td>\n",
              "      <td>23.8317</td>\n",
              "      <td>90.4187</td>\n",
              "      <td>fabiha.efa@northsouth.edu</td>\n",
              "      <td>Severe</td>\n",
              "      <td>1</td>\n",
              "      <td>0</td>\n",
              "    </tr>\n",
              "    <tr>\n",
              "      <th>1</th>\n",
              "      <td>1</td>\n",
              "      <td>34aHCNx4fvb5pyE4mPdbGTMXjPb2</td>\n",
              "      <td>-Mxeba-sabBVXPeVIuBT</td>\n",
              "      <td>22.5</td>\n",
              "      <td>Others</td>\n",
              "      <td>-0.175872</td>\n",
              "      <td>3.080760</td>\n",
              "      <td>8.74457</td>\n",
              "      <td>24.0</td>\n",
              "      <td>Mar 8, 2022 10:31:55 PM</td>\n",
              "      <td>...</td>\n",
              "      <td>-29.1702</td>\n",
              "      <td>-0.615485</td>\n",
              "      <td>-0.338664</td>\n",
              "      <td>0.000000</td>\n",
              "      <td>23.8317</td>\n",
              "      <td>90.4187</td>\n",
              "      <td>fabiha.efa@northsouth.edu</td>\n",
              "      <td>Severe</td>\n",
              "      <td>1</td>\n",
              "      <td>0</td>\n",
              "    </tr>\n",
              "    <tr>\n",
              "      <th>2</th>\n",
              "      <td>2</td>\n",
              "      <td>34aHCNx4fvb5pyE4mPdbGTMXjPb2</td>\n",
              "      <td>-Mxeba-yVuJIk8rhM7GJ</td>\n",
              "      <td>22.5</td>\n",
              "      <td>Others</td>\n",
              "      <td>2.298610</td>\n",
              "      <td>0.246461</td>\n",
              "      <td>9.57129</td>\n",
              "      <td>21.0</td>\n",
              "      <td>Mar 8, 2022 11:17:02 PM</td>\n",
              "      <td>...</td>\n",
              "      <td>0.3538</td>\n",
              "      <td>1.713230</td>\n",
              "      <td>0.000000</td>\n",
              "      <td>-0.235693</td>\n",
              "      <td>23.8317</td>\n",
              "      <td>90.4187</td>\n",
              "      <td>fabiha.efa@northsouth.edu</td>\n",
              "      <td>Severe</td>\n",
              "      <td>1</td>\n",
              "      <td>0</td>\n",
              "    </tr>\n",
              "    <tr>\n",
              "      <th>3</th>\n",
              "      <td>3</td>\n",
              "      <td>34aHCNx4fvb5pyE4mPdbGTMXjPb2</td>\n",
              "      <td>-Mxfcw4dGPTMYQqotSLf</td>\n",
              "      <td>22.5</td>\n",
              "      <td>Others</td>\n",
              "      <td>0.208176</td>\n",
              "      <td>8.001000</td>\n",
              "      <td>5.88275</td>\n",
              "      <td>19.0</td>\n",
              "      <td>Mar 8, 2022 11:40:38 PM</td>\n",
              "      <td>...</td>\n",
              "      <td>-0.0976</td>\n",
              "      <td>-2.862400</td>\n",
              "      <td>-0.936502</td>\n",
              "      <td>0.000000</td>\n",
              "      <td>23.8317</td>\n",
              "      <td>90.4187</td>\n",
              "      <td>fabiha.efa@northsouth.edu</td>\n",
              "      <td>Severe</td>\n",
              "      <td>1</td>\n",
              "      <td>0</td>\n",
              "    </tr>\n",
              "    <tr>\n",
              "      <th>4</th>\n",
              "      <td>4</td>\n",
              "      <td>34aHCNx4fvb5pyE4mPdbGTMXjPb2</td>\n",
              "      <td>-Mxfcw4mX2DJdZV9-CDX</td>\n",
              "      <td>22.5</td>\n",
              "      <td>Others</td>\n",
              "      <td>-2.880960</td>\n",
              "      <td>8.937790</td>\n",
              "      <td>3.71336</td>\n",
              "      <td>17.0</td>\n",
              "      <td>Mar 8, 2022 11:55:38 PM</td>\n",
              "      <td>...</td>\n",
              "      <td>19.6054</td>\n",
              "      <td>-2.190090</td>\n",
              "      <td>-1.086690</td>\n",
              "      <td>0.659832</td>\n",
              "      <td>23.8317</td>\n",
              "      <td>90.4187</td>\n",
              "      <td>fabiha.efa@northsouth.edu</td>\n",
              "      <td>Severe</td>\n",
              "      <td>1</td>\n",
              "      <td>0</td>\n",
              "    </tr>\n",
              "  </tbody>\n",
              "</table>\n",
              "<p>5 rows × 29 columns</p>\n",
              "</div>\n",
              "      <button class=\"colab-df-convert\" onclick=\"convertToInteractive('df-dd0d137f-a98d-4d97-96ee-248c32c5284a')\"\n",
              "              title=\"Convert this dataframe to an interactive table.\"\n",
              "              style=\"display:none;\">\n",
              "        \n",
              "  <svg xmlns=\"http://www.w3.org/2000/svg\" height=\"24px\"viewBox=\"0 0 24 24\"\n",
              "       width=\"24px\">\n",
              "    <path d=\"M0 0h24v24H0V0z\" fill=\"none\"/>\n",
              "    <path d=\"M18.56 5.44l.94 2.06.94-2.06 2.06-.94-2.06-.94-.94-2.06-.94 2.06-2.06.94zm-11 1L8.5 8.5l.94-2.06 2.06-.94-2.06-.94L8.5 2.5l-.94 2.06-2.06.94zm10 10l.94 2.06.94-2.06 2.06-.94-2.06-.94-.94-2.06-.94 2.06-2.06.94z\"/><path d=\"M17.41 7.96l-1.37-1.37c-.4-.4-.92-.59-1.43-.59-.52 0-1.04.2-1.43.59L10.3 9.45l-7.72 7.72c-.78.78-.78 2.05 0 2.83L4 21.41c.39.39.9.59 1.41.59.51 0 1.02-.2 1.41-.59l7.78-7.78 2.81-2.81c.8-.78.8-2.07 0-2.86zM5.41 20L4 18.59l7.72-7.72 1.47 1.35L5.41 20z\"/>\n",
              "  </svg>\n",
              "      </button>\n",
              "      \n",
              "  <style>\n",
              "    .colab-df-container {\n",
              "      display:flex;\n",
              "      flex-wrap:wrap;\n",
              "      gap: 12px;\n",
              "    }\n",
              "\n",
              "    .colab-df-convert {\n",
              "      background-color: #E8F0FE;\n",
              "      border: none;\n",
              "      border-radius: 50%;\n",
              "      cursor: pointer;\n",
              "      display: none;\n",
              "      fill: #1967D2;\n",
              "      height: 32px;\n",
              "      padding: 0 0 0 0;\n",
              "      width: 32px;\n",
              "    }\n",
              "\n",
              "    .colab-df-convert:hover {\n",
              "      background-color: #E2EBFA;\n",
              "      box-shadow: 0px 1px 2px rgba(60, 64, 67, 0.3), 0px 1px 3px 1px rgba(60, 64, 67, 0.15);\n",
              "      fill: #174EA6;\n",
              "    }\n",
              "\n",
              "    [theme=dark] .colab-df-convert {\n",
              "      background-color: #3B4455;\n",
              "      fill: #D2E3FC;\n",
              "    }\n",
              "\n",
              "    [theme=dark] .colab-df-convert:hover {\n",
              "      background-color: #434B5C;\n",
              "      box-shadow: 0px 1px 3px 1px rgba(0, 0, 0, 0.15);\n",
              "      filter: drop-shadow(0px 1px 2px rgba(0, 0, 0, 0.3));\n",
              "      fill: #FFFFFF;\n",
              "    }\n",
              "  </style>\n",
              "\n",
              "      <script>\n",
              "        const buttonEl =\n",
              "          document.querySelector('#df-dd0d137f-a98d-4d97-96ee-248c32c5284a button.colab-df-convert');\n",
              "        buttonEl.style.display =\n",
              "          google.colab.kernel.accessAllowed ? 'block' : 'none';\n",
              "\n",
              "        async function convertToInteractive(key) {\n",
              "          const element = document.querySelector('#df-dd0d137f-a98d-4d97-96ee-248c32c5284a');\n",
              "          const dataTable =\n",
              "            await google.colab.kernel.invokeFunction('convertToInteractive',\n",
              "                                                     [key], {});\n",
              "          if (!dataTable) return;\n",
              "\n",
              "          const docLinkHtml = 'Like what you see? Visit the ' +\n",
              "            '<a target=\"_blank\" href=https://colab.research.google.com/notebooks/data_table.ipynb>data table notebook</a>'\n",
              "            + ' to learn more about interactive tables.';\n",
              "          element.innerHTML = '';\n",
              "          dataTable['output_type'] = 'display_data';\n",
              "          await google.colab.output.renderOutput(dataTable, element);\n",
              "          const docLink = document.createElement('div');\n",
              "          docLink.innerHTML = docLinkHtml;\n",
              "          element.appendChild(docLink);\n",
              "        }\n",
              "      </script>\n",
              "    </div>\n",
              "  </div>\n",
              "  "
            ]
          },
          "metadata": {},
          "execution_count": 87
        }
      ]
    },
    {
      "cell_type": "code",
      "source": [
        "df.columns"
      ],
      "metadata": {
        "colab": {
          "base_uri": "https://localhost:8080/"
        },
        "id": "sUyMH68c5_Gd",
        "outputId": "14ed2acc-846b-4748-d0d3-c980eb60ea3d"
      },
      "execution_count": null,
      "outputs": [
        {
          "output_type": "execute_result",
          "data": {
            "text/plain": [
              "Index(['Unnamed: 0', 'UserId', 'Entry_Id', 'Age', 'University',\n",
              "       'ACCELEROMETER_X', 'ACCELEROMETER_Y', 'ACCELEROMETER_Z',\n",
              "       'BATTERY_LEVEL', 'Date_Time', 'Light_v', 'GRAV_X', 'GRAV_Y', 'GRAV_Z',\n",
              "       'GYROSCOPE_X', 'GYROSCOPE_Y', 'GYROSCOPE_Z', 'MAG_X', 'MAG_Y', 'MAG_Z',\n",
              "       'ORIENTATION_AZIMUTH', 'ORIENTATION_PITCH', 'ORIENTATION_ROLL',\n",
              "       'SENSORGPS_LATITUDE', 'SENSORGPS_LONGITUDE', 'Email Address',\n",
              "       'PHQ-Label', 'Gender_Female', 'Gender_Male'],\n",
              "      dtype='object')"
            ]
          },
          "metadata": {},
          "execution_count": 88
        }
      ]
    },
    {
      "cell_type": "code",
      "source": [
        "df.drop(['Unnamed: 0','Entry_Id', 'University'], inplace=True, axis = 1)"
      ],
      "metadata": {
        "id": "yDKLEJiC5BKs"
      },
      "execution_count": null,
      "outputs": []
    },
    {
      "cell_type": "code",
      "source": [
        "sns.countplot(x='PHQ-Label',data=df)"
      ],
      "metadata": {
        "colab": {
          "base_uri": "https://localhost:8080/",
          "height": 296
        },
        "id": "86UvLQ39OQFQ",
        "outputId": "665dfa6d-353f-4636-bbad-bc19b4a7217e"
      },
      "execution_count": null,
      "outputs": [
        {
          "output_type": "execute_result",
          "data": {
            "text/plain": [
              "<matplotlib.axes._subplots.AxesSubplot at 0x7fe905fbf2d0>"
            ]
          },
          "metadata": {},
          "execution_count": 90
        },
        {
          "output_type": "display_data",
          "data": {
            "text/plain": [
              "<Figure size 432x288 with 1 Axes>"
            ],
            "image/png": "[encoded data removed]"
          },
          "metadata": {
            "needs_background": "light"
          }
        }
      ]
    },
    {
      "cell_type": "code",
      "source": [
        "sns.histplot(data=df, x=\"PHQ-Label\")"
      ],
      "metadata": {
        "colab": {
          "base_uri": "https://localhost:8080/",
          "height": 296
        },
        "id": "fecZKPKxO_ZE",
        "outputId": "d862026e-b461-4c32-d2f0-a652f18b521f"
      },
      "execution_count": null,
      "outputs": [
        {
          "output_type": "execute_result",
          "data": {
            "text/plain": [
              "<matplotlib.axes._subplots.AxesSubplot at 0x7fe90b345b90>"
            ]
          },
          "metadata": {},
          "execution_count": 91
        },
        {
          "output_type": "display_data",
          "data": {
            "text/plain": [
              "<Figure size 432x288 with 1 Axes>"
            ],
            "image/png": "[encoded data removed]"
          },
          "metadata": {
            "needs_background": "light"
          }
        }
      ]
    },
    {
      "cell_type": "code",
      "source": [
        "df.to_excel('processed_without_sampling.xlsx')\n",
        "df2 = df.copy()"
      ],
      "metadata": {
        "id": "l9DQ4GP3iQFM"
      },
      "execution_count": null,
      "outputs": []
    },
    {
      "cell_type": "code",
      "source": [
        "sns.displot(df, x=\"PHQ-Label\", discrete=True)"
      ],
      "metadata": {
        "colab": {
          "base_uri": "https://localhost:8080/",
          "height": 386
        },
        "id": "1SHpdBJ8PeDd",
        "outputId": "8def2794-d416-4e3b-8f6b-364f64c296af"
      },
      "execution_count": null,
      "outputs": [
        {
          "output_type": "execute_result",
          "data": {
            "text/plain": [
              "<seaborn.axisgrid.FacetGrid at 0x7fe905c16b90>"
            ]
          },
          "metadata": {},
          "execution_count": 93
        },
        {
          "output_type": "display_data",
          "data": {
            "text/plain": [
              "<Figure size 360x360 with 1 Axes>"
            ],
            "image/png": "[encoded data removed]"
          },
          "metadata": {
            "needs_background": "light"
          }
        }
      ]
    },
    {
      "cell_type": "code",
      "source": [
        ""
      ],
      "metadata": {
        "id": "6KaKBvY08uRV"
      },
      "execution_count": null,
      "outputs": []
    },
    {
      "cell_type": "markdown",
      "source": [
        "##OverSampling\n"
      ],
      "metadata": {
        "id": "iHIHWntIYxpb"
      }
    },
    {
      "cell_type": "code",
      "source": [
        "from sklearn.model_selection import train_test_split\n",
        "X = df.drop(['PHQ-Label','Email Address', 'UserId', 'Date_Time'], axis=1)\n",
        "y = df['PHQ-Label']\n",
        "X_train, X_test, y_train, y_test = train_test_split( X, y, random_state=42)"
      ],
      "metadata": {
        "id": "tQoBXBNpY0Cb"
      },
      "execution_count": null,
      "outputs": []
    },
    {
      "cell_type": "code",
      "source": [
        "unique, count = np.unique(y_train, return_counts=True)\n",
        "Y_train_dict_value_count = { k:v for (k,v) in zip(unique, count)}\n",
        "Y_train_dict_value_count"
      ],
      "metadata": {
        "colab": {
          "base_uri": "https://localhost:8080/"
        },
        "id": "9EsNLXdAZ8p1",
        "outputId": "ced57ebd-7618-4d6b-b15d-a73b6dab1c0c"
      },
      "execution_count": null,
      "outputs": [
        {
          "output_type": "execute_result",
          "data": {
            "text/plain": [
              "{'Mild': 5856,\n",
              " 'Moderate': 5283,\n",
              " 'Moderately Severe': 460,\n",
              " 'None': 2654,\n",
              " 'Severe': 322}"
            ]
          },
          "metadata": {},
          "execution_count": 95
        }
      ]
    },
    {
      "cell_type": "code",
      "source": [
        "from imblearn.over_sampling import SMOTE"
      ],
      "metadata": {
        "id": "z_7bAudjaBYu"
      },
      "execution_count": null,
      "outputs": []
    },
    {
      "cell_type": "code",
      "source": [
        "sm = SMOTE(random_state=12)\n",
        "x_train_res, y_train_res = sm.fit_resample(X_train, y_train)"
      ],
      "metadata": {
        "id": "8_r6NzlEaDtZ"
      },
      "execution_count": null,
      "outputs": []
    },
    {
      "cell_type": "code",
      "source": [
        "unique, count = np.unique(y_train_res, return_counts=True)\n",
        "y_train_smote_value_count = { k:v for (k,v) in zip(unique, count)}\n",
        "y_train_smote_value_count"
      ],
      "metadata": {
        "id": "bJ6MykgUaFki",
        "colab": {
          "base_uri": "https://localhost:8080/"
        },
        "outputId": "ec9344ff-fba0-45cd-b7f0-b79190e5acb3"
      },
      "execution_count": null,
      "outputs": [
        {
          "output_type": "execute_result",
          "data": {
            "text/plain": [
              "{'Mild': 5856,\n",
              " 'Moderate': 5856,\n",
              " 'Moderately Severe': 5856,\n",
              " 'None': 5856,\n",
              " 'Severe': 5856}"
            ]
          },
          "metadata": {},
          "execution_count": 98
        }
      ]
    },
    {
      "cell_type": "code",
      "source": [
        "x_train_res['PHQ-Label'] = y_train_res"
      ],
      "metadata": {
        "id": "F0Fd__rIabxQ"
      },
      "execution_count": null,
      "outputs": []
    },
    {
      "cell_type": "code",
      "source": [
        "\n"
      ],
      "metadata": {
        "id": "oSo_pznwJeYV"
      },
      "execution_count": null,
      "outputs": []
    },
    {
      "cell_type": "code",
      "source": [
        "oversampled = x_train_res.copy()\n",
        "oversampled"
      ],
      "metadata": {
        "id": "a8-93nNMbB2r",
        "colab": {
          "base_uri": "https://localhost:8080/",
          "height": 505
        },
        "outputId": "7de18fe3-b79d-4f84-f5c0-09037ada862f"
      },
      "execution_count": null,
      "outputs": [
        {
          "output_type": "execute_result",
          "data": {
            "text/plain": [
              "        Age  ACCELEROMETER_X  ACCELEROMETER_Y  ACCELEROMETER_Z  BATTERY_LEVEL  \\\n",
              "0      22.5         0.052343         0.014656         9.738490      38.000000   \n",
              "1      22.5        -0.275333         0.220267         9.938330      36.000000   \n",
              "2      22.5        -0.786255         0.150299         9.880080     100.000000   \n",
              "3      22.5        -0.573411        -0.347758         9.731830      99.000000   \n",
              "4      22.5         0.399832         2.940080         9.600750      48.000000   \n",
              "...     ...              ...              ...              ...            ...   \n",
              "29275  22.5         5.254854         2.464781        -6.443326      92.842519   \n",
              "29276  22.5         1.394215         9.973155        -0.450178      69.230795   \n",
              "29277  22.5         3.327318         5.266800         3.460143      23.100006   \n",
              "29278  22.5        -2.983774         7.688632         1.893389      44.176689   \n",
              "29279  27.5        -0.152685         0.479768         9.786590     100.000000   \n",
              "\n",
              "         Light_v    GRAV_X    GRAV_Y    GRAV_Z  GYROSCOPE_X  ...      MAG_Y  \\\n",
              "0       0.000000  0.052664  0.022221  9.806480    -0.016722  ...  32.531200   \n",
              "1       0.000000 -0.247684  0.210693  9.801260    -0.000533  ...  24.000000   \n",
              "2      16.000000 -0.776674  0.136740  9.774890    -0.000214  ...  11.532600   \n",
              "3       1.271250 -0.580307 -0.349755  9.783220     0.000133  ...  44.700800   \n",
              "4       0.000000  0.362660  2.855250  9.374780     0.012250  ...  20.880000   \n",
              "...          ...       ...       ...       ...          ...  ...        ...   \n",
              "29275   0.000000  5.206147  2.469533 -6.431084     0.002274  ...   9.187167   \n",
              "29276   0.000000  1.420926  9.608933 -0.519459     0.005613  ... -32.308330   \n",
              "29277   1.460258  3.234450  5.129195  3.610066    -0.005561  ...  -6.330546   \n",
              "29278   9.159020 -3.028247  7.739084  2.054892    -0.032838  ... -27.726801   \n",
              "29279   8.278568 -0.125071  0.485214  9.793842    -0.000020  ... -17.131262   \n",
              "\n",
              "           MAG_Z  ORIENTATION_AZIMUTH  ORIENTATION_PITCH  ORIENTATION_ROLL  \\\n",
              "0     -27.431300            -0.246905           0.000000          0.000000   \n",
              "1     -13.860000            -0.063097           0.000000          0.000000   \n",
              "2     -21.661400             0.832905           0.000000          0.079412   \n",
              "3     -33.293800            -0.619271           0.000000          0.058853   \n",
              "4     -31.260000             0.092887          -0.296924          0.000000   \n",
              "...          ...                  ...                ...               ...   \n",
              "29275  20.091435            -0.582186          -0.493641          0.984102   \n",
              "29276  31.826151             0.618533          -1.377860         -1.766608   \n",
              "29277 -39.256841            -0.052522          -0.632828         -1.004856   \n",
              "29278  29.072383            -0.692181          -0.918219          0.465177   \n",
              "29279 -12.514646             2.032785           0.000000          0.000000   \n",
              "\n",
              "       SENSORGPS_LATITUDE  SENSORGPS_LONGITUDE  Gender_Female  Gender_Male  \\\n",
              "0               23.745100            90.365700              1            0   \n",
              "1               23.741700            90.425600              0            1   \n",
              "2               23.699300            90.433600              0            1   \n",
              "3               23.743900            90.410400              0            1   \n",
              "4               23.741700            90.425600              0            1   \n",
              "...                   ...                  ...            ...          ...   \n",
              "29275           23.762136            90.407261              0            1   \n",
              "29276           23.831700            90.418620              1            0   \n",
              "29277           23.810433            90.413640              0            0   \n",
              "29278           23.785566            90.411137              0            0   \n",
              "29279           23.831700            90.418700              0            1   \n",
              "\n",
              "       PHQ-Label  \n",
              "0           Mild  \n",
              "1           None  \n",
              "2           Mild  \n",
              "3           Mild  \n",
              "4           None  \n",
              "...          ...  \n",
              "29275     Severe  \n",
              "29276     Severe  \n",
              "29277     Severe  \n",
              "29278     Severe  \n",
              "29279     Severe  \n",
              "\n",
              "[29280 rows x 23 columns]"
            ],
            "text/html": [
              "\n",
              "  <div id=\"df-7692d513-7827-49f0-9953-159f8f312dbf\">\n",
              "    <div class=\"colab-df-container\">\n",
              "      <div>\n",
              "<style scoped>\n",
              "    .dataframe tbody tr th:only-of-type {\n",
              "        vertical-align: middle;\n",
              "    }\n",
              "\n",
              "    .dataframe tbody tr th {\n",
              "        vertical-align: top;\n",
              "    }\n",
              "\n",
              "    .dataframe thead th {\n",
              "        text-align: right;\n",
              "    }\n",
              "</style>\n",
              "<table border=\"1\" class=\"dataframe\">\n",
              "  <thead>\n",
              "    <tr style=\"text-align: right;\">\n",
              "      <th></th>\n",
              "      <th>Age</th>\n",
              "      <th>ACCELEROMETER_X</th>\n",
              "      <th>ACCELEROMETER_Y</th>\n",
              "      <th>ACCELEROMETER_Z</th>\n",
              "      <th>BATTERY_LEVEL</th>\n",
              "      <th>Light_v</th>\n",
              "      <th>GRAV_X</th>\n",
              "      <th>GRAV_Y</th>\n",
              "      <th>GRAV_Z</th>\n",
              "      <th>GYROSCOPE_X</th>\n",
              "      <th>...</th>\n",
              "      <th>MAG_Y</th>\n",
              "      <th>MAG_Z</th>\n",
              "      <th>ORIENTATION_AZIMUTH</th>\n",
              "      <th>ORIENTATION_PITCH</th>\n",
              "      <th>ORIENTATION_ROLL</th>\n",
              "      <th>SENSORGPS_LATITUDE</th>\n",
              "      <th>SENSORGPS_LONGITUDE</th>\n",
              "      <th>Gender_Female</th>\n",
              "      <th>Gender_Male</th>\n",
              "      <th>PHQ-Label</th>\n",
              "    </tr>\n",
              "  </thead>\n",
              "  <tbody>\n",
              "    <tr>\n",
              "      <th>0</th>\n",
              "      <td>22.5</td>\n",
              "      <td>0.052343</td>\n",
              "      <td>0.014656</td>\n",
              "      <td>9.738490</td>\n",
              "      <td>38.000000</td>\n",
              "      <td>0.000000</td>\n",
              "      <td>0.052664</td>\n",
              "      <td>0.022221</td>\n",
              "      <td>9.806480</td>\n",
              "      <td>-0.016722</td>\n",
              "      <td>...</td>\n",
              "      <td>32.531200</td>\n",
              "      <td>-27.431300</td>\n",
              "      <td>-0.246905</td>\n",
              "      <td>0.000000</td>\n",
              "      <td>0.000000</td>\n",
              "      <td>23.745100</td>\n",
              "      <td>90.365700</td>\n",
              "      <td>1</td>\n",
              "      <td>0</td>\n",
              "      <td>Mild</td>\n",
              "    </tr>\n",
              "    <tr>\n",
              "      <th>1</th>\n",
              "      <td>22.5</td>\n",
              "      <td>-0.275333</td>\n",
              "      <td>0.220267</td>\n",
              "      <td>9.938330</td>\n",
              "      <td>36.000000</td>\n",
              "      <td>0.000000</td>\n",
              "      <td>-0.247684</td>\n",
              "      <td>0.210693</td>\n",
              "      <td>9.801260</td>\n",
              "      <td>-0.000533</td>\n",
              "      <td>...</td>\n",
              "      <td>24.000000</td>\n",
              "      <td>-13.860000</td>\n",
              "      <td>-0.063097</td>\n",
              "      <td>0.000000</td>\n",
              "      <td>0.000000</td>\n",
              "      <td>23.741700</td>\n",
              "      <td>90.425600</td>\n",
              "      <td>0</td>\n",
              "      <td>1</td>\n",
              "      <td>None</td>\n",
              "    </tr>\n",
              "    <tr>\n",
              "      <th>2</th>\n",
              "      <td>22.5</td>\n",
              "      <td>-0.786255</td>\n",
              "      <td>0.150299</td>\n",
              "      <td>9.880080</td>\n",
              "      <td>100.000000</td>\n",
              "      <td>16.000000</td>\n",
              "      <td>-0.776674</td>\n",
              "      <td>0.136740</td>\n",
              "      <td>9.774890</td>\n",
              "      <td>-0.000214</td>\n",
              "      <td>...</td>\n",
              "      <td>11.532600</td>\n",
              "      <td>-21.661400</td>\n",
              "      <td>0.832905</td>\n",
              "      <td>0.000000</td>\n",
              "      <td>0.079412</td>\n",
              "      <td>23.699300</td>\n",
              "      <td>90.433600</td>\n",
              "      <td>0</td>\n",
              "      <td>1</td>\n",
              "      <td>Mild</td>\n",
              "    </tr>\n",
              "    <tr>\n",
              "      <th>3</th>\n",
              "      <td>22.5</td>\n",
              "      <td>-0.573411</td>\n",
              "      <td>-0.347758</td>\n",
              "      <td>9.731830</td>\n",
              "      <td>99.000000</td>\n",
              "      <td>1.271250</td>\n",
              "      <td>-0.580307</td>\n",
              "      <td>-0.349755</td>\n",
              "      <td>9.783220</td>\n",
              "      <td>0.000133</td>\n",
              "      <td>...</td>\n",
              "      <td>44.700800</td>\n",
              "      <td>-33.293800</td>\n",
              "      <td>-0.619271</td>\n",
              "      <td>0.000000</td>\n",
              "      <td>0.058853</td>\n",
              "      <td>23.743900</td>\n",
              "      <td>90.410400</td>\n",
              "      <td>0</td>\n",
              "      <td>1</td>\n",
              "      <td>Mild</td>\n",
              "    </tr>\n",
              "    <tr>\n",
              "      <th>4</th>\n",
              "      <td>22.5</td>\n",
              "      <td>0.399832</td>\n",
              "      <td>2.940080</td>\n",
              "      <td>9.600750</td>\n",
              "      <td>48.000000</td>\n",
              "      <td>0.000000</td>\n",
              "      <td>0.362660</td>\n",
              "      <td>2.855250</td>\n",
              "      <td>9.374780</td>\n",
              "      <td>0.012250</td>\n",
              "      <td>...</td>\n",
              "      <td>20.880000</td>\n",
              "      <td>-31.260000</td>\n",
              "      <td>0.092887</td>\n",
              "      <td>-0.296924</td>\n",
              "      <td>0.000000</td>\n",
              "      <td>23.741700</td>\n",
              "      <td>90.425600</td>\n",
              "      <td>0</td>\n",
              "      <td>1</td>\n",
              "      <td>None</td>\n",
              "    </tr>\n",
              "    <tr>\n",
              "      <th>...</th>\n",
              "      <td>...</td>\n",
              "      <td>...</td>\n",
              "      <td>...</td>\n",
              "      <td>...</td>\n",
              "      <td>...</td>\n",
              "      <td>...</td>\n",
              "      <td>...</td>\n",
              "      <td>...</td>\n",
              "      <td>...</td>\n",
              "      <td>...</td>\n",
              "      <td>...</td>\n",
              "      <td>...</td>\n",
              "      <td>...</td>\n",
              "      <td>...</td>\n",
              "      <td>...</td>\n",
              "      <td>...</td>\n",
              "      <td>...</td>\n",
              "      <td>...</td>\n",
              "      <td>...</td>\n",
              "      <td>...</td>\n",
              "      <td>...</td>\n",
              "    </tr>\n",
              "    <tr>\n",
              "      <th>29275</th>\n",
              "      <td>22.5</td>\n",
              "      <td>5.254854</td>\n",
              "      <td>2.464781</td>\n",
              "      <td>-6.443326</td>\n",
              "      <td>92.842519</td>\n",
              "      <td>0.000000</td>\n",
              "      <td>5.206147</td>\n",
              "      <td>2.469533</td>\n",
              "      <td>-6.431084</td>\n",
              "      <td>0.002274</td>\n",
              "      <td>...</td>\n",
              "      <td>9.187167</td>\n",
              "      <td>20.091435</td>\n",
              "      <td>-0.582186</td>\n",
              "      <td>-0.493641</td>\n",
              "      <td>0.984102</td>\n",
              "      <td>23.762136</td>\n",
              "      <td>90.407261</td>\n",
              "      <td>0</td>\n",
              "      <td>1</td>\n",
              "      <td>Severe</td>\n",
              "    </tr>\n",
              "    <tr>\n",
              "      <th>29276</th>\n",
              "      <td>22.5</td>\n",
              "      <td>1.394215</td>\n",
              "      <td>9.973155</td>\n",
              "      <td>-0.450178</td>\n",
              "      <td>69.230795</td>\n",
              "      <td>0.000000</td>\n",
              "      <td>1.420926</td>\n",
              "      <td>9.608933</td>\n",
              "      <td>-0.519459</td>\n",
              "      <td>0.005613</td>\n",
              "      <td>...</td>\n",
              "      <td>-32.308330</td>\n",
              "      <td>31.826151</td>\n",
              "      <td>0.618533</td>\n",
              "      <td>-1.377860</td>\n",
              "      <td>-1.766608</td>\n",
              "      <td>23.831700</td>\n",
              "      <td>90.418620</td>\n",
              "      <td>1</td>\n",
              "      <td>0</td>\n",
              "      <td>Severe</td>\n",
              "    </tr>\n",
              "    <tr>\n",
              "      <th>29277</th>\n",
              "      <td>22.5</td>\n",
              "      <td>3.327318</td>\n",
              "      <td>5.266800</td>\n",
              "      <td>3.460143</td>\n",
              "      <td>23.100006</td>\n",
              "      <td>1.460258</td>\n",
              "      <td>3.234450</td>\n",
              "      <td>5.129195</td>\n",
              "      <td>3.610066</td>\n",
              "      <td>-0.005561</td>\n",
              "      <td>...</td>\n",
              "      <td>-6.330546</td>\n",
              "      <td>-39.256841</td>\n",
              "      <td>-0.052522</td>\n",
              "      <td>-0.632828</td>\n",
              "      <td>-1.004856</td>\n",
              "      <td>23.810433</td>\n",
              "      <td>90.413640</td>\n",
              "      <td>0</td>\n",
              "      <td>0</td>\n",
              "      <td>Severe</td>\n",
              "    </tr>\n",
              "    <tr>\n",
              "      <th>29278</th>\n",
              "      <td>22.5</td>\n",
              "      <td>-2.983774</td>\n",
              "      <td>7.688632</td>\n",
              "      <td>1.893389</td>\n",
              "      <td>44.176689</td>\n",
              "      <td>9.159020</td>\n",
              "      <td>-3.028247</td>\n",
              "      <td>7.739084</td>\n",
              "      <td>2.054892</td>\n",
              "      <td>-0.032838</td>\n",
              "      <td>...</td>\n",
              "      <td>-27.726801</td>\n",
              "      <td>29.072383</td>\n",
              "      <td>-0.692181</td>\n",
              "      <td>-0.918219</td>\n",
              "      <td>0.465177</td>\n",
              "      <td>23.785566</td>\n",
              "      <td>90.411137</td>\n",
              "      <td>0</td>\n",
              "      <td>0</td>\n",
              "      <td>Severe</td>\n",
              "    </tr>\n",
              "    <tr>\n",
              "      <th>29279</th>\n",
              "      <td>27.5</td>\n",
              "      <td>-0.152685</td>\n",
              "      <td>0.479768</td>\n",
              "      <td>9.786590</td>\n",
              "      <td>100.000000</td>\n",
              "      <td>8.278568</td>\n",
              "      <td>-0.125071</td>\n",
              "      <td>0.485214</td>\n",
              "      <td>9.793842</td>\n",
              "      <td>-0.000020</td>\n",
              "      <td>...</td>\n",
              "      <td>-17.131262</td>\n",
              "      <td>-12.514646</td>\n",
              "      <td>2.032785</td>\n",
              "      <td>0.000000</td>\n",
              "      <td>0.000000</td>\n",
              "      <td>23.831700</td>\n",
              "      <td>90.418700</td>\n",
              "      <td>0</td>\n",
              "      <td>1</td>\n",
              "      <td>Severe</td>\n",
              "    </tr>\n",
              "  </tbody>\n",
              "</table>\n",
              "<p>29280 rows × 23 columns</p>\n",
              "</div>\n",
              "      <button class=\"colab-df-convert\" onclick=\"convertToInteractive('df-7692d513-7827-49f0-9953-159f8f312dbf')\"\n",
              "              title=\"Convert this dataframe to an interactive table.\"\n",
              "              style=\"display:none;\">\n",
              "        \n",
              "  <svg xmlns=\"http://www.w3.org/2000/svg\" height=\"24px\"viewBox=\"0 0 24 24\"\n",
              "       width=\"24px\">\n",
              "    <path d=\"M0 0h24v24H0V0z\" fill=\"none\"/>\n",
              "    <path d=\"M18.56 5.44l.94 2.06.94-2.06 2.06-.94-2.06-.94-.94-2.06-.94 2.06-2.06.94zm-11 1L8.5 8.5l.94-2.06 2.06-.94-2.06-.94L8.5 2.5l-.94 2.06-2.06.94zm10 10l.94 2.06.94-2.06 2.06-.94-2.06-.94-.94-2.06-.94 2.06-2.06.94z\"/><path d=\"M17.41 7.96l-1.37-1.37c-.4-.4-.92-.59-1.43-.59-.52 0-1.04.2-1.43.59L10.3 9.45l-7.72 7.72c-.78.78-.78 2.05 0 2.83L4 21.41c.39.39.9.59 1.41.59.51 0 1.02-.2 1.41-.59l7.78-7.78 2.81-2.81c.8-.78.8-2.07 0-2.86zM5.41 20L4 18.59l7.72-7.72 1.47 1.35L5.41 20z\"/>\n",
              "  </svg>\n",
              "      </button>\n",
              "      \n",
              "  <style>\n",
              "    .colab-df-container {\n",
              "      display:flex;\n",
              "      flex-wrap:wrap;\n",
              "      gap: 12px;\n",
              "    }\n",
              "\n",
              "    .colab-df-convert {\n",
              "      background-color: #E8F0FE;\n",
              "      border: none;\n",
              "      border-radius: 50%;\n",
              "      cursor: pointer;\n",
              "      display: none;\n",
              "      fill: #1967D2;\n",
              "      height: 32px;\n",
              "      padding: 0 0 0 0;\n",
              "      width: 32px;\n",
              "    }\n",
              "\n",
              "    .colab-df-convert:hover {\n",
              "      background-color: #E2EBFA;\n",
              "      box-shadow: 0px 1px 2px rgba(60, 64, 67, 0.3), 0px 1px 3px 1px rgba(60, 64, 67, 0.15);\n",
              "      fill: #174EA6;\n",
              "    }\n",
              "\n",
              "    [theme=dark] .colab-df-convert {\n",
              "      background-color: #3B4455;\n",
              "      fill: #D2E3FC;\n",
              "    }\n",
              "\n",
              "    [theme=dark] .colab-df-convert:hover {\n",
              "      background-color: #434B5C;\n",
              "      box-shadow: 0px 1px 3px 1px rgba(0, 0, 0, 0.15);\n",
              "      filter: drop-shadow(0px 1px 2px rgba(0, 0, 0, 0.3));\n",
              "      fill: #FFFFFF;\n",
              "    }\n",
              "  </style>\n",
              "\n",
              "      <script>\n",
              "        const buttonEl =\n",
              "          document.querySelector('#df-7692d513-7827-49f0-9953-159f8f312dbf button.colab-df-convert');\n",
              "        buttonEl.style.display =\n",
              "          google.colab.kernel.accessAllowed ? 'block' : 'none';\n",
              "\n",
              "        async function convertToInteractive(key) {\n",
              "          const element = document.querySelector('#df-7692d513-7827-49f0-9953-159f8f312dbf');\n",
              "          const dataTable =\n",
              "            await google.colab.kernel.invokeFunction('convertToInteractive',\n",
              "                                                     [key], {});\n",
              "          if (!dataTable) return;\n",
              "\n",
              "          const docLinkHtml = 'Like what you see? Visit the ' +\n",
              "            '<a target=\"_blank\" href=https://colab.research.google.com/notebooks/data_table.ipynb>data table notebook</a>'\n",
              "            + ' to learn more about interactive tables.';\n",
              "          element.innerHTML = '';\n",
              "          dataTable['output_type'] = 'display_data';\n",
              "          await google.colab.output.renderOutput(dataTable, element);\n",
              "          const docLink = document.createElement('div');\n",
              "          docLink.innerHTML = docLinkHtml;\n",
              "          element.appendChild(docLink);\n",
              "        }\n",
              "      </script>\n",
              "    </div>\n",
              "  </div>\n",
              "  "
            ]
          },
          "metadata": {},
          "execution_count": 100
        }
      ]
    },
    {
      "cell_type": "code",
      "source": [
        "from sklearn.preprocessing import StandardScaler\n",
        "\n",
        "def standardize_columns(x):\n",
        "  x[['ACCELEROMETER_X','ACCELEROMETER_Y', 'ACCELEROMETER_Z', 'BATTERY_LEVEL', \n",
        "    'Light_v', 'GRAV_X', 'GRAV_Y', 'GRAV_Z', 'GYROSCOPE_X', 'GYROSCOPE_Y',\n",
        "    'GYROSCOPE_Z', 'MAG_X' , 'MAG_Y', 'MAG_Z',\n",
        "    'ORIENTATION_AZIMUTH', 'ORIENTATION_PITCH', 'ORIENTATION_ROLL', \n",
        "    'SENSORGPS_LATITUDE', 'SENSORGPS_LONGITUDE', 'Age']] = StandardScaler().fit_transform(\n",
        "        x[['ACCELEROMETER_X','ACCELEROMETER_Y', 'ACCELEROMETER_Z', 'BATTERY_LEVEL', \n",
        "    'Light_v', 'GRAV_X', 'GRAV_Y', 'GRAV_Z', 'GYROSCOPE_X', 'GYROSCOPE_Y',\n",
        "    'GYROSCOPE_Z', 'MAG_X' , 'MAG_Y', 'MAG_Z',\n",
        "    'ORIENTATION_AZIMUTH', 'ORIENTATION_PITCH', 'ORIENTATION_ROLL', \n",
        "    'SENSORGPS_LATITUDE', 'SENSORGPS_LONGITUDE', 'Age']])\n",
        "  return x\n",
        "oversampled = standardize_columns(oversampled)"
      ],
      "metadata": {
        "id": "93NDtablVEva"
      },
      "execution_count": null,
      "outputs": []
    },
    {
      "cell_type": "code",
      "source": [
        "oversampled.to_excel('processed_and_oversampled.xlsx')"
      ],
      "metadata": {
        "id": "fbHutnA4bMV9"
      },
      "execution_count": null,
      "outputs": []
    },
    {
      "cell_type": "code",
      "source": [
        "print(5871*5)"
      ],
      "metadata": {
        "id": "xLwIL4grbc3A",
        "colab": {
          "base_uri": "https://localhost:8080/"
        },
        "outputId": "2c729f2d-a3ea-4acf-f942-d231b2d5798f"
      },
      "execution_count": null,
      "outputs": [
        {
          "output_type": "stream",
          "name": "stdout",
          "text": [
            "29355\n"
          ]
        }
      ]
    },
    {
      "cell_type": "code",
      "source": [
        ""
      ],
      "metadata": {
        "id": "22LEIbqobgiu"
      },
      "execution_count": null,
      "outputs": []
    },
    {
      "cell_type": "code",
      "source": [
        ""
      ],
      "metadata": {
        "id": "DjkcHOfib6L_"
      },
      "execution_count": null,
      "outputs": []
    },
    {
      "cell_type": "markdown",
      "source": [
        "##Undersampled"
      ],
      "metadata": {
        "id": "othoe4tIb6pa"
      }
    },
    {
      "cell_type": "code",
      "source": [
        "df['PHQ-Label'].value_counts()"
      ],
      "metadata": {
        "id": "QyXvcagDb7kB",
        "colab": {
          "base_uri": "https://localhost:8080/"
        },
        "outputId": "64f67def-801f-49ba-d8af-a5b6522fef78"
      },
      "execution_count": null,
      "outputs": [
        {
          "output_type": "execute_result",
          "data": {
            "text/plain": [
              "Mild                 7861\n",
              "Moderate             7026\n",
              "None                 3509\n",
              "Moderately Severe     606\n",
              "Severe                432\n",
              "Name: PHQ-Label, dtype: int64"
            ]
          },
          "metadata": {},
          "execution_count": 104
        }
      ]
    },
    {
      "cell_type": "code",
      "source": [
        "undersampled = df[df['PHQ-Label'] == 'Severe']\n",
        "undersampled['PHQ-Label'].value_counts()"
      ],
      "metadata": {
        "id": "-9HhNJlJcQr7",
        "colab": {
          "base_uri": "https://localhost:8080/"
        },
        "outputId": "67b22e10-58ff-4872-f29b-e4493b6bcdca"
      },
      "execution_count": null,
      "outputs": [
        {
          "output_type": "execute_result",
          "data": {
            "text/plain": [
              "Severe    432\n",
              "Name: PHQ-Label, dtype: int64"
            ]
          },
          "metadata": {},
          "execution_count": 105
        }
      ]
    },
    {
      "cell_type": "code",
      "source": [
        "def undersample_column(majority_col, undersampled):  \n",
        "  minority_class_len = len(df[df['PHQ-Label'] == 'Severe' ])\n",
        "  majority_class_indices = df[df['PHQ-Label'] == majority_col].index\n",
        "  random_majority_indices = np.random.choice(majority_class_indices, minority_class_len, replace=False)\n",
        "  minority_class_indices = df[df['PHQ-Label'] == 'Severe' ].index\n",
        "  under_sample_indices = np.concatenate([minority_class_indices,random_majority_indices])\n",
        "  under_sample1 = df.loc[under_sample_indices]\n",
        "  under_sample1 = under_sample1[under_sample1['PHQ-Label']==majority_col]\n",
        "  #print(under_sample1['PHQ-Label'].value_counts())\n",
        "  undersampled = pd.concat([undersampled, under_sample1], ignore_index=True, sort=False )\n",
        "  return undersampled"
      ],
      "metadata": {
        "id": "KKpUfqWUcIhl"
      },
      "execution_count": null,
      "outputs": []
    },
    {
      "cell_type": "code",
      "source": [
        "majority_columns = ['None', 'Mild', 'Moderate',  'Moderately Severe']\n",
        "for i in majority_columns:\n",
        "  undersampled = undersample_column(i,undersampled)\n",
        "\n",
        "undersampled['PHQ-Label'].value_counts()"
      ],
      "metadata": {
        "id": "3peDe8zVduw3",
        "colab": {
          "base_uri": "https://localhost:8080/"
        },
        "outputId": "b44aabf0-3e9f-4701-9b4c-84bedd15aa0c"
      },
      "execution_count": null,
      "outputs": [
        {
          "output_type": "execute_result",
          "data": {
            "text/plain": [
              "Severe               432\n",
              "None                 432\n",
              "Mild                 432\n",
              "Moderate             432\n",
              "Moderately Severe    432\n",
              "Name: PHQ-Label, dtype: int64"
            ]
          },
          "metadata": {},
          "execution_count": 107
        }
      ]
    },
    {
      "cell_type": "code",
      "source": [
        "undersampled = standardize_columns(undersampled)\n",
        "undersampled.to_excel('processed_and_undersampled.xlsx')"
      ],
      "metadata": {
        "id": "40TJhyRte0aj"
      },
      "execution_count": null,
      "outputs": []
    },
    {
      "cell_type": "code",
      "source": [
        "oversampled.info()"
      ],
      "metadata": {
        "id": "bQzl5BdlfDkn",
        "colab": {
          "base_uri": "https://localhost:8080/"
        },
        "outputId": "0845f89f-13fa-44d2-af66-66b177bca3c9"
      },
      "execution_count": null,
      "outputs": [
        {
          "output_type": "stream",
          "name": "stdout",
          "text": [
            "<class 'pandas.core.frame.DataFrame'>\n",
            "RangeIndex: 29280 entries, 0 to 29279\n",
            "Data columns (total 23 columns):\n",
            " #   Column               Non-Null Count  Dtype  \n",
            "---  ------               --------------  -----  \n",
            " 0   Age                  29280 non-null  float64\n",
            " 1   ACCELEROMETER_X      29280 non-null  float64\n",
            " 2   ACCELEROMETER_Y      29280 non-null  float64\n",
            " 3   ACCELEROMETER_Z      29280 non-null  float64\n",
            " 4   BATTERY_LEVEL        29280 non-null  float64\n",
            " 5   Light_v              29280 non-null  float64\n",
            " 6   GRAV_X               29280 non-null  float64\n",
            " 7   GRAV_Y               29280 non-null  float64\n",
            " 8   GRAV_Z               29280 non-null  float64\n",
            " 9   GYROSCOPE_X          29280 non-null  float64\n",
            " 10  GYROSCOPE_Y          29280 non-null  float64\n",
            " 11  GYROSCOPE_Z          29280 non-null  float64\n",
            " 12  MAG_X                29280 non-null  float64\n",
            " 13  MAG_Y                29280 non-null  float64\n",
            " 14  MAG_Z                29280 non-null  float64\n",
            " 15  ORIENTATION_AZIMUTH  29280 non-null  float64\n",
            " 16  ORIENTATION_PITCH    29280 non-null  float64\n",
            " 17  ORIENTATION_ROLL     29280 non-null  float64\n",
            " 18  SENSORGPS_LATITUDE   29280 non-null  float64\n",
            " 19  SENSORGPS_LONGITUDE  29280 non-null  float64\n",
            " 20  Gender_Female        29280 non-null  uint8  \n",
            " 21  Gender_Male          29280 non-null  uint8  \n",
            " 22  PHQ-Label            29280 non-null  object \n",
            "dtypes: float64(20), object(1), uint8(2)\n",
            "memory usage: 4.7+ MB\n"
          ]
        }
      ]
    },
    {
      "cell_type": "code",
      "source": [
        ""
      ],
      "metadata": {
        "id": "AlWn3l8jOXSp"
      },
      "execution_count": null,
      "outputs": []
    },
    {
      "cell_type": "code",
      "source": [
        ""
      ],
      "metadata": {
        "colab": {
          "base_uri": "https://localhost:8080/"
        },
        "id": "x4XEsuBlUKQO",
        "outputId": "0ede2228-6e9d-49e5-f4d3-ba940db6e1cc"
      },
      "execution_count": null,
      "outputs": [
        {
          "output_type": "stream",
          "name": "stdout",
          "text": [
            "16.78195346510548 K.M\n"
          ]
        }
      ]
    },
    {
      "cell_type": "code",
      "source": [
        "df.reset_index(inplace=True)\n",
        "df.head(5)"
      ],
      "metadata": {
        "colab": {
          "base_uri": "https://localhost:8080/",
          "height": 577
        },
        "id": "BRWjojWRYjo_",
        "outputId": "5d55df6a-0db8-4ce0-f785-e215c79e4adc"
      },
      "execution_count": null,
      "outputs": [
        {
          "output_type": "execute_result",
          "data": {
            "text/plain": [
              "   index                        UserId   Age  ACCELEROMETER_X  \\\n",
              "0      0  34aHCNx4fvb5pyE4mPdbGTMXjPb2  22.5        -3.511770   \n",
              "1      1  34aHCNx4fvb5pyE4mPdbGTMXjPb2  22.5        -0.175872   \n",
              "2      2  34aHCNx4fvb5pyE4mPdbGTMXjPb2  22.5         2.298610   \n",
              "3      3  34aHCNx4fvb5pyE4mPdbGTMXjPb2  22.5         0.208176   \n",
              "4      4  34aHCNx4fvb5pyE4mPdbGTMXjPb2  22.5        -2.880960   \n",
              "\n",
              "   ACCELEROMETER_Y  ACCELEROMETER_Z  BATTERY_LEVEL                Date_Time  \\\n",
              "0         5.972490          6.99871           25.0  Mar 8, 2022 10:16:11 PM   \n",
              "1         3.080760          8.74457           24.0  Mar 8, 2022 10:31:55 PM   \n",
              "2         0.246461          9.57129           21.0  Mar 8, 2022 11:17:02 PM   \n",
              "3         8.001000          5.88275           19.0  Mar 8, 2022 11:40:38 PM   \n",
              "4         8.937790          3.71336           17.0  Mar 8, 2022 11:55:38 PM   \n",
              "\n",
              "   Light_v    GRAV_X  ...    MAG_Z  ORIENTATION_AZIMUTH  ORIENTATION_PITCH  \\\n",
              "0   17.010 -3.481910  ... -35.1970             0.875866          -0.651602   \n",
              "1   17.010  0.368287  ... -29.1702            -0.615485          -0.338664   \n",
              "2   12.015  2.292660  ...   0.3538             1.713230           0.000000   \n",
              "3    0.000  0.206101  ...  -0.0976            -2.862400          -0.936502   \n",
              "4    0.000 -3.130330  ...  19.6054            -2.190090          -1.086690   \n",
              "\n",
              "   ORIENTATION_ROLL  SENSORGPS_LATITUDE  SENSORGPS_LONGITUDE  \\\n",
              "0          0.465065             23.8317              90.4187   \n",
              "1          0.000000             23.8317              90.4187   \n",
              "2         -0.235693             23.8317              90.4187   \n",
              "3          0.000000             23.8317              90.4187   \n",
              "4          0.659832             23.8317              90.4187   \n",
              "\n",
              "               Email Address  PHQ-Label  Gender_Female  Gender_Male  \n",
              "0  fabiha.efa@northsouth.edu     Severe              1            0  \n",
              "1  fabiha.efa@northsouth.edu     Severe              1            0  \n",
              "2  fabiha.efa@northsouth.edu     Severe              1            0  \n",
              "3  fabiha.efa@northsouth.edu     Severe              1            0  \n",
              "4  fabiha.efa@northsouth.edu     Severe              1            0  \n",
              "\n",
              "[5 rows x 27 columns]"
            ],
            "text/html": [
              "\n",
              "  <div id=\"df-f81323c6-2235-45b3-97ff-311e451aa7fa\">\n",
              "    <div class=\"colab-df-container\">\n",
              "      <div>\n",
              "<style scoped>\n",
              "    .dataframe tbody tr th:only-of-type {\n",
              "        vertical-align: middle;\n",
              "    }\n",
              "\n",
              "    .dataframe tbody tr th {\n",
              "        vertical-align: top;\n",
              "    }\n",
              "\n",
              "    .dataframe thead th {\n",
              "        text-align: right;\n",
              "    }\n",
              "</style>\n",
              "<table border=\"1\" class=\"dataframe\">\n",
              "  <thead>\n",
              "    <tr style=\"text-align: right;\">\n",
              "      <th></th>\n",
              "      <th>index</th>\n",
              "      <th>UserId</th>\n",
              "      <th>Age</th>\n",
              "      <th>ACCELEROMETER_X</th>\n",
              "      <th>ACCELEROMETER_Y</th>\n",
              "      <th>ACCELEROMETER_Z</th>\n",
              "      <th>BATTERY_LEVEL</th>\n",
              "      <th>Date_Time</th>\n",
              "      <th>Light_v</th>\n",
              "      <th>GRAV_X</th>\n",
              "      <th>...</th>\n",
              "      <th>MAG_Z</th>\n",
              "      <th>ORIENTATION_AZIMUTH</th>\n",
              "      <th>ORIENTATION_PITCH</th>\n",
              "      <th>ORIENTATION_ROLL</th>\n",
              "      <th>SENSORGPS_LATITUDE</th>\n",
              "      <th>SENSORGPS_LONGITUDE</th>\n",
              "      <th>Email Address</th>\n",
              "      <th>PHQ-Label</th>\n",
              "      <th>Gender_Female</th>\n",
              "      <th>Gender_Male</th>\n",
              "    </tr>\n",
              "  </thead>\n",
              "  <tbody>\n",
              "    <tr>\n",
              "      <th>0</th>\n",
              "      <td>0</td>\n",
              "      <td>34aHCNx4fvb5pyE4mPdbGTMXjPb2</td>\n",
              "      <td>22.5</td>\n",
              "      <td>-3.511770</td>\n",
              "      <td>5.972490</td>\n",
              "      <td>6.99871</td>\n",
              "      <td>25.0</td>\n",
              "      <td>Mar 8, 2022 10:16:11 PM</td>\n",
              "      <td>17.010</td>\n",
              "      <td>-3.481910</td>\n",
              "      <td>...</td>\n",
              "      <td>-35.1970</td>\n",
              "      <td>0.875866</td>\n",
              "      <td>-0.651602</td>\n",
              "      <td>0.465065</td>\n",
              "      <td>23.8317</td>\n",
              "      <td>90.4187</td>\n",
              "      <td>fabiha.efa@northsouth.edu</td>\n",
              "      <td>Severe</td>\n",
              "      <td>1</td>\n",
              "      <td>0</td>\n",
              "    </tr>\n",
              "    <tr>\n",
              "      <th>1</th>\n",
              "      <td>1</td>\n",
              "      <td>34aHCNx4fvb5pyE4mPdbGTMXjPb2</td>\n",
              "      <td>22.5</td>\n",
              "      <td>-0.175872</td>\n",
              "      <td>3.080760</td>\n",
              "      <td>8.74457</td>\n",
              "      <td>24.0</td>\n",
              "      <td>Mar 8, 2022 10:31:55 PM</td>\n",
              "      <td>17.010</td>\n",
              "      <td>0.368287</td>\n",
              "      <td>...</td>\n",
              "      <td>-29.1702</td>\n",
              "      <td>-0.615485</td>\n",
              "      <td>-0.338664</td>\n",
              "      <td>0.000000</td>\n",
              "      <td>23.8317</td>\n",
              "      <td>90.4187</td>\n",
              "      <td>fabiha.efa@northsouth.edu</td>\n",
              "      <td>Severe</td>\n",
              "      <td>1</td>\n",
              "      <td>0</td>\n",
              "    </tr>\n",
              "    <tr>\n",
              "      <th>2</th>\n",
              "      <td>2</td>\n",
              "      <td>34aHCNx4fvb5pyE4mPdbGTMXjPb2</td>\n",
              "      <td>22.5</td>\n",
              "      <td>2.298610</td>\n",
              "      <td>0.246461</td>\n",
              "      <td>9.57129</td>\n",
              "      <td>21.0</td>\n",
              "      <td>Mar 8, 2022 11:17:02 PM</td>\n",
              "      <td>12.015</td>\n",
              "      <td>2.292660</td>\n",
              "      <td>...</td>\n",
              "      <td>0.3538</td>\n",
              "      <td>1.713230</td>\n",
              "      <td>0.000000</td>\n",
              "      <td>-0.235693</td>\n",
              "      <td>23.8317</td>\n",
              "      <td>90.4187</td>\n",
              "      <td>fabiha.efa@northsouth.edu</td>\n",
              "      <td>Severe</td>\n",
              "      <td>1</td>\n",
              "      <td>0</td>\n",
              "    </tr>\n",
              "    <tr>\n",
              "      <th>3</th>\n",
              "      <td>3</td>\n",
              "      <td>34aHCNx4fvb5pyE4mPdbGTMXjPb2</td>\n",
              "      <td>22.5</td>\n",
              "      <td>0.208176</td>\n",
              "      <td>8.001000</td>\n",
              "      <td>5.88275</td>\n",
              "      <td>19.0</td>\n",
              "      <td>Mar 8, 2022 11:40:38 PM</td>\n",
              "      <td>0.000</td>\n",
              "      <td>0.206101</td>\n",
              "      <td>...</td>\n",
              "      <td>-0.0976</td>\n",
              "      <td>-2.862400</td>\n",
              "      <td>-0.936502</td>\n",
              "      <td>0.000000</td>\n",
              "      <td>23.8317</td>\n",
              "      <td>90.4187</td>\n",
              "      <td>fabiha.efa@northsouth.edu</td>\n",
              "      <td>Severe</td>\n",
              "      <td>1</td>\n",
              "      <td>0</td>\n",
              "    </tr>\n",
              "    <tr>\n",
              "      <th>4</th>\n",
              "      <td>4</td>\n",
              "      <td>34aHCNx4fvb5pyE4mPdbGTMXjPb2</td>\n",
              "      <td>22.5</td>\n",
              "      <td>-2.880960</td>\n",
              "      <td>8.937790</td>\n",
              "      <td>3.71336</td>\n",
              "      <td>17.0</td>\n",
              "      <td>Mar 8, 2022 11:55:38 PM</td>\n",
              "      <td>0.000</td>\n",
              "      <td>-3.130330</td>\n",
              "      <td>...</td>\n",
              "      <td>19.6054</td>\n",
              "      <td>-2.190090</td>\n",
              "      <td>-1.086690</td>\n",
              "      <td>0.659832</td>\n",
              "      <td>23.8317</td>\n",
              "      <td>90.4187</td>\n",
              "      <td>fabiha.efa@northsouth.edu</td>\n",
              "      <td>Severe</td>\n",
              "      <td>1</td>\n",
              "      <td>0</td>\n",
              "    </tr>\n",
              "  </tbody>\n",
              "</table>\n",
              "<p>5 rows × 27 columns</p>\n",
              "</div>\n",
              "      <button class=\"colab-df-convert\" onclick=\"convertToInteractive('df-f81323c6-2235-45b3-97ff-311e451aa7fa')\"\n",
              "              title=\"Convert this dataframe to an interactive table.\"\n",
              "              style=\"display:none;\">\n",
              "        \n",
              "  <svg xmlns=\"http://www.w3.org/2000/svg\" height=\"24px\"viewBox=\"0 0 24 24\"\n",
              "       width=\"24px\">\n",
              "    <path d=\"M0 0h24v24H0V0z\" fill=\"none\"/>\n",
              "    <path d=\"M18.56 5.44l.94 2.06.94-2.06 2.06-.94-2.06-.94-.94-2.06-.94 2.06-2.06.94zm-11 1L8.5 8.5l.94-2.06 2.06-.94-2.06-.94L8.5 2.5l-.94 2.06-2.06.94zm10 10l.94 2.06.94-2.06 2.06-.94-2.06-.94-.94-2.06-.94 2.06-2.06.94z\"/><path d=\"M17.41 7.96l-1.37-1.37c-.4-.4-.92-.59-1.43-.59-.52 0-1.04.2-1.43.59L10.3 9.45l-7.72 7.72c-.78.78-.78 2.05 0 2.83L4 21.41c.39.39.9.59 1.41.59.51 0 1.02-.2 1.41-.59l7.78-7.78 2.81-2.81c.8-.78.8-2.07 0-2.86zM5.41 20L4 18.59l7.72-7.72 1.47 1.35L5.41 20z\"/>\n",
              "  </svg>\n",
              "      </button>\n",
              "      \n",
              "  <style>\n",
              "    .colab-df-container {\n",
              "      display:flex;\n",
              "      flex-wrap:wrap;\n",
              "      gap: 12px;\n",
              "    }\n",
              "\n",
              "    .colab-df-convert {\n",
              "      background-color: #E8F0FE;\n",
              "      border: none;\n",
              "      border-radius: 50%;\n",
              "      cursor: pointer;\n",
              "      display: none;\n",
              "      fill: #1967D2;\n",
              "      height: 32px;\n",
              "      padding: 0 0 0 0;\n",
              "      width: 32px;\n",
              "    }\n",
              "\n",
              "    .colab-df-convert:hover {\n",
              "      background-color: #E2EBFA;\n",
              "      box-shadow: 0px 1px 2px rgba(60, 64, 67, 0.3), 0px 1px 3px 1px rgba(60, 64, 67, 0.15);\n",
              "      fill: #174EA6;\n",
              "    }\n",
              "\n",
              "    [theme=dark] .colab-df-convert {\n",
              "      background-color: #3B4455;\n",
              "      fill: #D2E3FC;\n",
              "    }\n",
              "\n",
              "    [theme=dark] .colab-df-convert:hover {\n",
              "      background-color: #434B5C;\n",
              "      box-shadow: 0px 1px 3px 1px rgba(0, 0, 0, 0.15);\n",
              "      filter: drop-shadow(0px 1px 2px rgba(0, 0, 0, 0.3));\n",
              "      fill: #FFFFFF;\n",
              "    }\n",
              "  </style>\n",
              "\n",
              "      <script>\n",
              "        const buttonEl =\n",
              "          document.querySelector('#df-f81323c6-2235-45b3-97ff-311e451aa7fa button.colab-df-convert');\n",
              "        buttonEl.style.display =\n",
              "          google.colab.kernel.accessAllowed ? 'block' : 'none';\n",
              "\n",
              "        async function convertToInteractive(key) {\n",
              "          const element = document.querySelector('#df-f81323c6-2235-45b3-97ff-311e451aa7fa');\n",
              "          const dataTable =\n",
              "            await google.colab.kernel.invokeFunction('convertToInteractive',\n",
              "                                                     [key], {});\n",
              "          if (!dataTable) return;\n",
              "\n",
              "          const docLinkHtml = 'Like what you see? Visit the ' +\n",
              "            '<a target=\"_blank\" href=https://colab.research.google.com/notebooks/data_table.ipynb>data table notebook</a>'\n",
              "            + ' to learn more about interactive tables.';\n",
              "          element.innerHTML = '';\n",
              "          dataTable['output_type'] = 'display_data';\n",
              "          await google.colab.output.renderOutput(dataTable, element);\n",
              "          const docLink = document.createElement('div');\n",
              "          docLink.innerHTML = docLinkHtml;\n",
              "          element.appendChild(docLink);\n",
              "        }\n",
              "      </script>\n",
              "    </div>\n",
              "  </div>\n",
              "  "
            ]
          },
          "metadata": {},
          "execution_count": 111
        }
      ]
    },
    {
      "cell_type": "code",
      "source": [
        "len(df)"
      ],
      "metadata": {
        "colab": {
          "base_uri": "https://localhost:8080/"
        },
        "id": "ChpxGIX7GqKM",
        "outputId": "dc3d6fa4-c045-407e-ef2e-55cf225fc77c"
      },
      "execution_count": null,
      "outputs": [
        {
          "output_type": "execute_result",
          "data": {
            "text/plain": [
              "19434"
            ]
          },
          "metadata": {},
          "execution_count": 112
        }
      ]
    },
    {
      "cell_type": "code",
      "source": [
        "df3 = pd.read_excel('thesis_dataset.xlsx')"
      ],
      "metadata": {
        "id": "6wyEgg3ubB0P"
      },
      "execution_count": null,
      "outputs": []
    },
    {
      "cell_type": "code",
      "source": [
        "count = 0\n",
        "for i,j in df3[['SENSORGPS_LATITUDE', 'SENSORGPS_LONGITUDE']].iterrows():\n",
        "  print(i, ' : ',j[0], j[1])\n",
        "  count += 1\n",
        "  if count is 10:\n",
        "    break\n"
      ],
      "metadata": {
        "colab": {
          "base_uri": "https://localhost:8080/"
        },
        "id": "FRtq8DGLUKhl",
        "outputId": "cd423ec4-f01b-46dd-9716-fa01145425be"
      },
      "execution_count": null,
      "outputs": [
        {
          "output_type": "stream",
          "name": "stdout",
          "text": [
            "0  :  23.8317 90.4187\n",
            "1  :  23.8317 90.4187\n",
            "2  :  23.8317 90.4187\n",
            "3  :  23.8317 90.4187\n",
            "4  :  23.8317 90.4187\n",
            "5  :  23.8317 90.4187\n",
            "6  :  23.8317 90.4187\n",
            "7  :  23.8317 90.4187\n",
            "8  :  23.8317 90.4187\n",
            "9  :  23.8317 90.4187\n"
          ]
        }
      ]
    },
    {
      "cell_type": "code",
      "source": [
        "# print(df3['UserId'].nunique())\n",
        "# count = 1\n",
        "# for i in df3['UserId'].unique():\n",
        "#   print(count, i)\n",
        "#   count += 1"
      ],
      "metadata": {
        "id": "C8CLUTJVbXoM"
      },
      "execution_count": null,
      "outputs": []
    },
    {
      "cell_type": "code",
      "source": [
        "#df3[df3['SENSORGPS_LONGITUDE'] == 90.41870 ][['SENSORGPS_LONGITUDE','SENSORGPS_LATITUDE']]"
      ],
      "metadata": {
        "id": "UzipCv8Homoo"
      },
      "execution_count": null,
      "outputs": []
    },
    {
      "cell_type": "code",
      "source": [
        "count = 0\n",
        "for i in df3['UserId'].unique():\n",
        "  count += 1\n",
        "  count2 = 0\n",
        "  for  z, x, y in df3[df3['UserId'] == i ][['index','SENSORGPS_LONGITUDE','SENSORGPS_LATITUDE']].itertuples(index=False):\n",
        "    print(z, x, y)\n",
        "    count2 += 1\n",
        "    if count2 is 1:\n",
        "      break\n",
        "  if count == 5:\n",
        "    break\n",
        "\n"
      ],
      "metadata": {
        "colab": {
          "base_uri": "https://localhost:8080/"
        },
        "id": "hIhT5wxxnsN1",
        "outputId": "17575c07-a28e-4dbd-a861-1db5dbf66750"
      },
      "execution_count": null,
      "outputs": [
        {
          "output_type": "stream",
          "name": "stdout",
          "text": [
            "0 90.4187 23.8317\n",
            "116 90.4093 23.7443\n",
            "266 90.4075 23.7615\n",
            "343 90.3612 23.7963\n",
            "457 90.4186 23.8317\n"
          ]
        }
      ]
    },
    {
      "cell_type": "code",
      "source": [
        "df3['Distance Travelled'] = np.nan\n",
        "df3['Movement'] = 'STATIONARY'"
      ],
      "metadata": {
        "id": "8YmoB_GwyxTA"
      },
      "execution_count": null,
      "outputs": []
    },
    {
      "cell_type": "code",
      "source": [
        "df3.columns"
      ],
      "metadata": {
        "colab": {
          "base_uri": "https://localhost:8080/"
        },
        "id": "X9GP5WqfKl9L",
        "outputId": "3c0bd189-1953-4710-b65d-eabe10422e56"
      },
      "execution_count": null,
      "outputs": [
        {
          "output_type": "execute_result",
          "data": {
            "text/plain": [
              "Index(['Unnamed: 0', 'UserId', 'Entry_Id', 'Age', 'Gender', 'University',\n",
              "       'ACCELEROMETER_X', 'ACCELEROMETER_Y', 'ACCELEROMETER_Z',\n",
              "       'BATTERY_LEVEL', 'Date_Time', 'Light_v', 'GRAV_X', 'GRAV_Y', 'GRAV_Z',\n",
              "       'GYROSCOPE_X', 'GYROSCOPE_Y', 'GYROSCOPE_Z', 'MAG_X', 'MAG_Y', 'MAG_Z',\n",
              "       'ORIENTATION_AZIMUTH', 'ORIENTATION_PITCH', 'ORIENTATION_ROLL',\n",
              "       'SENSORGPS_LATITUDE', 'SENSORGPS_LONGITUDE', 'Email Address',\n",
              "       'PHQ-Label'],\n",
              "      dtype='object')"
            ]
          },
          "metadata": {},
          "execution_count": 134
        }
      ]
    },
    {
      "cell_type": "code",
      "source": [
        "len(df)"
      ],
      "metadata": {
        "id": "rQuBP0BCR6TQ",
        "outputId": "afeb49d7-70db-4d8e-a712-828d567544ad",
        "colab": {
          "base_uri": "https://localhost:8080/"
        }
      },
      "execution_count": null,
      "outputs": [
        {
          "output_type": "execute_result",
          "data": {
            "text/plain": [
              "22510"
            ]
          },
          "metadata": {},
          "execution_count": 150
        }
      ]
    },
    {
      "cell_type": "code",
      "source": [
        "zero = 0\n",
        "nonzero = 0\n",
        "\n",
        "for i in df3['UserId'].unique():\n",
        "  count = 0\n",
        "  sensorgps_lat = sensorgps_long = 0\n",
        "  for  z, x, y in df3[df3['UserId'] == i ][['Unnamed: 0','SENSORGPS_LATITUDE','SENSORGPS_LONGITUDE']].itertuples(index=False):\n",
        "    if count is 0:\n",
        "      sensorgps_lat = x\n",
        "      sensorgps_long = y      \n",
        "    else:\n",
        "      dist = distance(sensorgps_lat, x, sensorgps_long,y)\n",
        "      df3.loc[z,'Distance Travelled'] = dist      \n",
        "      if dist == 0:\n",
        "        zero += 1\n",
        "        df3.loc[ df3['Unnamed: 0'] == z,'Movement'] = 'STATIONARY'\n",
        "      else:\n",
        "        nonzero += 1\n",
        "        df3.loc[df3['Unnamed: 0'] == z,'Movement'] = 'MOVING'\n",
        "      sensorgps_lat = x\n",
        "      sensorgps_long = y\n",
        "    count += 1\n",
        "\n",
        "print(zero, nonzero)\n",
        "\n",
        "\n",
        "\n"
      ],
      "metadata": {
        "colab": {
          "base_uri": "https://localhost:8080/"
        },
        "id": "qKrAU7_nr7xM",
        "outputId": "5981809b-394f-4643-f658-0001b509f064"
      },
      "execution_count": null,
      "outputs": [
        {
          "output_type": "stream",
          "name": "stdout",
          "text": [
            "21042 1729\n"
          ]
        }
      ]
    },
    {
      "cell_type": "code",
      "source": [
        "df['index'].nunique()"
      ],
      "metadata": {
        "id": "l9b6vrMd9to0",
        "colab": {
          "base_uri": "https://localhost:8080/"
        },
        "outputId": "bde643b4-8989-4d15-9ab0-af80067c329e"
      },
      "execution_count": null,
      "outputs": [
        {
          "output_type": "execute_result",
          "data": {
            "text/plain": [
              "19434"
            ]
          },
          "metadata": {},
          "execution_count": 148
        }
      ]
    },
    {
      "cell_type": "code",
      "source": [
        "df.to_excel('test.xlsx')"
      ],
      "metadata": {
        "id": "gvA7LyS2v8Ul"
      },
      "execution_count": null,
      "outputs": []
    },
    {
      "cell_type": "code",
      "source": [
        "df['Date_Time'] =  pd.to_datetime(df3['Date_Time'])"
      ],
      "metadata": {
        "id": "e01aSbOh0Yka"
      },
      "execution_count": null,
      "outputs": []
    },
    {
      "cell_type": "code",
      "source": [
        "df.info()"
      ],
      "metadata": {
        "colab": {
          "base_uri": "https://localhost:8080/"
        },
        "id": "qdxvPBM5_IBQ",
        "outputId": "ce41b423-c8e3-4c35-953d-5b8afcfaecbd"
      },
      "execution_count": null,
      "outputs": [
        {
          "output_type": "stream",
          "name": "stdout",
          "text": [
            "<class 'pandas.core.frame.DataFrame'>\n",
            "Int64Index: 22510 entries, 0 to 22850\n",
            "Data columns (total 29 columns):\n",
            " #   Column               Non-Null Count  Dtype         \n",
            "---  ------               --------------  -----         \n",
            " 0   index                19434 non-null  float64       \n",
            " 1   UserId               19434 non-null  object        \n",
            " 2   Age                  19434 non-null  float64       \n",
            " 3   ACCELEROMETER_X      19434 non-null  float64       \n",
            " 4   ACCELEROMETER_Y      19434 non-null  float64       \n",
            " 5   ACCELEROMETER_Z      19434 non-null  float64       \n",
            " 6   BATTERY_LEVEL        19434 non-null  float64       \n",
            " 7   Date_Time            19434 non-null  datetime64[ns]\n",
            " 8   Light_v              19434 non-null  float64       \n",
            " 9   GRAV_X               19434 non-null  float64       \n",
            " 10  GRAV_Y               19434 non-null  float64       \n",
            " 11  GRAV_Z               19434 non-null  float64       \n",
            " 12  GYROSCOPE_X          19434 non-null  float64       \n",
            " 13  GYROSCOPE_Y          19434 non-null  float64       \n",
            " 14  GYROSCOPE_Z          19434 non-null  float64       \n",
            " 15  MAG_X                19434 non-null  float64       \n",
            " 16  MAG_Y                19434 non-null  float64       \n",
            " 17  MAG_Z                19434 non-null  float64       \n",
            " 18  ORIENTATION_AZIMUTH  19434 non-null  float64       \n",
            " 19  ORIENTATION_PITCH    19434 non-null  float64       \n",
            " 20  ORIENTATION_ROLL     19434 non-null  float64       \n",
            " 21  SENSORGPS_LATITUDE   19434 non-null  float64       \n",
            " 22  SENSORGPS_LONGITUDE  19434 non-null  float64       \n",
            " 23  Email Address        19434 non-null  object        \n",
            " 24  PHQ-Label            19434 non-null  object        \n",
            " 25  Gender_Female        19434 non-null  float64       \n",
            " 26  Gender_Male          19434 non-null  float64       \n",
            " 27  Distance Travelled   19363 non-null  float64       \n",
            " 28  Movement             22073 non-null  object        \n",
            "dtypes: datetime64[ns](1), float64(24), object(4)\n",
            "memory usage: 5.7+ MB\n"
          ]
        }
      ]
    },
    {
      "cell_type": "code",
      "source": [
        "print(df['Date_Time'].dt.time)"
      ],
      "metadata": {
        "colab": {
          "base_uri": "https://localhost:8080/"
        },
        "id": "gV5nMfhf_kMu",
        "outputId": "9478ad52-4601-4861-e747-dc1c3a6b85b7"
      },
      "execution_count": null,
      "outputs": [
        {
          "output_type": "stream",
          "name": "stdout",
          "text": [
            "0        22:16:11\n",
            "1        22:31:55\n",
            "2        23:17:02\n",
            "3        23:40:38\n",
            "4        23:55:38\n",
            "           ...   \n",
            "22844         NaT\n",
            "22846         NaT\n",
            "22847         NaT\n",
            "22849         NaT\n",
            "22850         NaT\n",
            "Name: Date_Time, Length: 22510, dtype: object\n"
          ]
        }
      ]
    },
    {
      "cell_type": "code",
      "source": [
        "print(df['Date_Time'].dt.strftime('%H:%M'))"
      ],
      "metadata": {
        "colab": {
          "base_uri": "https://localhost:8080/"
        },
        "id": "7IN9Iktv_o-p",
        "outputId": "a976c397-522e-4ea3-a897-31c0e500d40c"
      },
      "execution_count": null,
      "outputs": [
        {
          "output_type": "stream",
          "name": "stdout",
          "text": [
            "0        22:16\n",
            "1        22:31\n",
            "2        23:17\n",
            "3        23:40\n",
            "4        23:55\n",
            "         ...  \n",
            "22844      NaN\n",
            "22846      NaN\n",
            "22847      NaN\n",
            "22849      NaN\n",
            "22850      NaN\n",
            "Name: Date_Time, Length: 22510, dtype: object\n"
          ]
        }
      ]
    },
    {
      "cell_type": "code",
      "source": [
        "s = 100000\n",
        "print(s/3600)"
      ],
      "metadata": {
        "id": "-DXl8EHS_2MD",
        "colab": {
          "base_uri": "https://localhost:8080/"
        },
        "outputId": "1c6d8a7d-1df9-42af-9112-0df3016c3b10"
      },
      "execution_count": null,
      "outputs": [
        {
          "output_type": "stream",
          "name": "stdout",
          "text": [
            "27.77777777777778\n"
          ]
        }
      ]
    },
    {
      "cell_type": "code",
      "source": [
        ""
      ],
      "metadata": {
        "id": "PDiKgW4ssK3o"
      },
      "execution_count": null,
      "outputs": []
    }
  ]
}