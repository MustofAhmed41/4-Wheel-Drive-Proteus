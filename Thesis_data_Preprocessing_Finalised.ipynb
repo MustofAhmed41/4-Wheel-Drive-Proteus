{
  "nbformat": 4,
  "nbformat_minor": 0,
  "metadata": {
    "colab": {
      "name": "Thesis data Preprocessing Finalised.ipynb",
      "provenance": [],
      "collapsed_sections": [],
      "include_colab_link": true
    },
    "kernelspec": {
      "name": "python3",
      "display_name": "Python 3"
    },
    "language_info": {
      "name": "python"
    }
  },
  "cells": [
    {
      "cell_type": "markdown",
      "metadata": {
        "id": "view-in-github",
        "colab_type": "text"
      },
      "source": [
        "<a href=\"https://colab.research.google.com/github/MustofAhmed41/4-Wheel-Drive-Proteus/blob/master/Thesis_data_Preprocessing_Finalised.ipynb\" target=\"_parent\"><img src=\"https://colab.research.google.com/assets/colab-badge.svg\" alt=\"Open In Colab\"/></a>"
      ]
    },
    {
      "cell_type": "code",
      "execution_count": null,
      "metadata": {
        "id": "bmTnYUw_vz6c"
      },
      "outputs": [],
      "source": [
        "import pandas as pd\n",
        "import numpy as np"
      ]
    },
    {
      "cell_type": "code",
      "source": [
        "df = pd.read_excel('output.xlsx')"
      ],
      "metadata": {
        "id": "d8xCD3Rtwf0U"
      },
      "execution_count": null,
      "outputs": []
    },
    {
      "cell_type": "markdown",
      "source": [
        "## Battery contains Nan Value"
      ],
      "metadata": {
        "id": "h77bPajyd_dY"
      }
    },
    {
      "cell_type": "code",
      "source": [
        "df.fillna(0, inplace = True)\n",
        "print()"
      ],
      "metadata": {
        "colab": {
          "base_uri": "https://localhost:8080/"
        },
        "id": "a-5FNmUcwf3K",
        "outputId": "00a0df55-540b-4c31-8c4c-fd1705d1c098"
      },
      "execution_count": null,
      "outputs": [
        {
          "output_type": "stream",
          "name": "stdout",
          "text": [
            "\n"
          ]
        }
      ]
    },
    {
      "cell_type": "code",
      "source": [
        "df.isnull().sum(axis = 0)"
      ],
      "metadata": {
        "colab": {
          "base_uri": "https://localhost:8080/"
        },
        "id": "exUxfVy4wkJe",
        "outputId": "622ea87b-ae05-41b4-bb34-7918de73b2fe"
      },
      "execution_count": null,
      "outputs": [
        {
          "output_type": "execute_result",
          "data": {
            "text/plain": [
              "Index                  0\n",
              "UserId                 0\n",
              "Entry_Id               0\n",
              "ACCELEROMETER_X        0\n",
              "ACCELEROMETER_Y        0\n",
              "ACCELEROMETER_Z        0\n",
              "BATTERY_LEVEL          0\n",
              "Date_Time              0\n",
              "Light_v                0\n",
              "GRAV_X                 0\n",
              "GRAV_Y                 0\n",
              "GRAV_Z                 0\n",
              "GYROSCOPE_X            0\n",
              "GYROSCOPE_Y            0\n",
              "GYROSCOPE_Z            0\n",
              "MAG_X                  0\n",
              "MAG_Y                  0\n",
              "MAG_Z                  0\n",
              "ORIENTATION_AZIMUTH    0\n",
              "ORIENTATION_PITCH      0\n",
              "ORIENTATION_ROLL       0\n",
              "SENSORGPS_LATITUDE     0\n",
              "SENSORGPS_LONGITUDE    0\n",
              "Email Address          0\n",
              "PHQ-Label              0\n",
              "dtype: int64"
            ]
          },
          "metadata": {},
          "execution_count": 194
        }
      ]
    },
    {
      "cell_type": "markdown",
      "source": [
        "##Filling Battery missing values with user's own mean value"
      ],
      "metadata": {
        "id": "ITRlcIPvd0OZ"
      }
    },
    {
      "cell_type": "code",
      "source": [
        "df.isin([0]).sum(axis=0)['BATTERY_LEVEL']"
      ],
      "metadata": {
        "colab": {
          "base_uri": "https://localhost:8080/"
        },
        "id": "tVsjELSYdpR0",
        "outputId": "fc64c7d9-59cf-41da-aabe-cd0c7223c289"
      },
      "execution_count": null,
      "outputs": [
        {
          "output_type": "execute_result",
          "data": {
            "text/plain": [
              "662"
            ]
          },
          "metadata": {},
          "execution_count": 195
        }
      ]
    },
    {
      "cell_type": "code",
      "source": [
        "mean_battery = []\n",
        "mean_battery =  df[df['BATTERY_LEVEL'] != 0 ].groupby('UserId').mean()['BATTERY_LEVEL']\n",
        "mean_battery"
      ],
      "metadata": {
        "colab": {
          "base_uri": "https://localhost:8080/"
        },
        "id": "h7ZfmnqM7_-v",
        "outputId": "b794f2b6-7871-450d-dbc4-5387d844b97d"
      },
      "execution_count": null,
      "outputs": [
        {
          "output_type": "execute_result",
          "data": {
            "text/plain": [
              "UserId\n",
              "34aHCNx4fvb5pyE4mPdbGTMXjPb2    46.017241\n",
              "38IyoUCxjrgfy2x7iBtLxh5JzJD3    64.286667\n",
              "3MAuKqHZMcMB2vleHN69cmViXqx2    37.038961\n",
              "4MKR0oR9fpfrJ9I91NiiDB4Pv2h2    71.736842\n",
              "4hxALvOK7uZ0wuAkEX0Uf3NGcqt1    46.431579\n",
              "                                  ...    \n",
              "vdtqKbkDWqQNBYpLRMkbJN1Ayad2    64.647059\n",
              "vot9lSsMp4ew2qiwv4Co0Q6NIRV2    44.384615\n",
              "wkghurEYpCfdqbRu0E0oEXqDfN32    39.809524\n",
              "xbvMRucuWqPB4sHR57IpNwq5nri2    24.285714\n",
              "yUTDHaNdmRYIBsyC36KhvnpgQnv2    85.000000\n",
              "Name: BATTERY_LEVEL, Length: 81, dtype: float64"
            ]
          },
          "metadata": {},
          "execution_count": 196
        }
      ]
    },
    {
      "cell_type": "code",
      "source": [
        "count = 0\n",
        "for i in df['UserId'].unique():\n",
        "  df.loc[ (df['BATTERY_LEVEL'] == 0) & (df['UserId'] == i) , 'BATTERY_LEVEL'] = mean_battery[count]\n",
        "  count += 1"
      ],
      "metadata": {
        "id": "kF-Np7SgcK37"
      },
      "execution_count": null,
      "outputs": []
    },
    {
      "cell_type": "code",
      "source": [
        "df.isin([0]).sum(axis=0)['BATTERY_LEVEL']"
      ],
      "metadata": {
        "colab": {
          "base_uri": "https://localhost:8080/"
        },
        "id": "cZJYNeib8AKW",
        "outputId": "0e0d682a-fde2-4202-fe22-d18cfc0edbb2"
      },
      "execution_count": null,
      "outputs": [
        {
          "output_type": "execute_result",
          "data": {
            "text/plain": [
              "0"
            ]
          },
          "metadata": {},
          "execution_count": 198
        }
      ]
    },
    {
      "cell_type": "markdown",
      "source": [
        "##Filling Sensor Latitude and Longitude with mean value based on PHQ-Label"
      ],
      "metadata": {
        "id": "j6qA5Qase1PG"
      }
    },
    {
      "cell_type": "code",
      "source": [
        "def fill_by_phq(x):\n",
        "  mean = []\n",
        "  mean =  df[df[x] != 0 ].groupby('PHQ-Label').mean()[x]\n",
        "  \n",
        "  count = 0\n",
        "  for i in df['PHQ-Label'].unique():\n",
        "    df.loc[ (df[x] == 0) & (df['PHQ-Label'] == i) , x] = mean[count]\n",
        "    count += 1"
      ],
      "metadata": {
        "id": "MDKd32nMe0JO"
      },
      "execution_count": null,
      "outputs": []
    },
    {
      "cell_type": "code",
      "source": [
        "print(df.isin([0]).sum(axis=0)['SENSORGPS_LATITUDE'])\n",
        "print(df.isin([0]).sum(axis=0)['SENSORGPS_LONGITUDE'])"
      ],
      "metadata": {
        "colab": {
          "base_uri": "https://localhost:8080/"
        },
        "id": "1CXCADvGhy8q",
        "outputId": "64d62056-609f-43ba-d795-6861cea57cf2"
      },
      "execution_count": null,
      "outputs": [
        {
          "output_type": "stream",
          "name": "stdout",
          "text": [
            "5315\n",
            "5315\n"
          ]
        }
      ]
    },
    {
      "cell_type": "code",
      "source": [
        "fill_by_phq('SENSORGPS_LATITUDE')\n",
        "fill_by_phq('SENSORGPS_LONGITUDE')"
      ],
      "metadata": {
        "id": "ur838xtXivp-"
      },
      "execution_count": null,
      "outputs": []
    },
    {
      "cell_type": "code",
      "source": [
        "print(df.isin([0]).sum(axis=0)['SENSORGPS_LATITUDE'])\n",
        "print(df.isin([0]).sum(axis=0)['SENSORGPS_LONGITUDE'])"
      ],
      "metadata": {
        "colab": {
          "base_uri": "https://localhost:8080/"
        },
        "id": "j6aZTA_Iiu8i",
        "outputId": "bb512aeb-2fb4-4e0e-e7ae-bef292a100e4"
      },
      "execution_count": null,
      "outputs": [
        {
          "output_type": "stream",
          "name": "stdout",
          "text": [
            "0\n",
            "0\n"
          ]
        }
      ]
    },
    {
      "cell_type": "code",
      "source": [
        "#df.to_excel('fp1.xlsx')"
      ],
      "metadata": {
        "id": "Vp_w_KhRhy_P"
      },
      "execution_count": null,
      "outputs": []
    },
    {
      "cell_type": "code",
      "source": [
        ""
      ],
      "metadata": {
        "id": "UvNdY2YWkGcS"
      },
      "execution_count": null,
      "outputs": []
    },
    {
      "cell_type": "code",
      "source": [
        ""
      ],
      "metadata": {
        "id": "tdrncbfZkGpG"
      },
      "execution_count": null,
      "outputs": []
    },
    {
      "cell_type": "markdown",
      "source": [
        "##Removing Rows that contains atleast 6 missing values and that are not moderately sever or severe"
      ],
      "metadata": {
        "id": "u2k8yn5BkGuA"
      }
    },
    {
      "cell_type": "code",
      "source": [
        "len(df)"
      ],
      "metadata": {
        "colab": {
          "base_uri": "https://localhost:8080/"
        },
        "id": "mS0xhLEFkSN2",
        "outputId": "19047443-f27e-4bd1-f9db-762ec3b318f2"
      },
      "execution_count": null,
      "outputs": [
        {
          "output_type": "execute_result",
          "data": {
            "text/plain": [
              "22858"
            ]
          },
          "metadata": {},
          "execution_count": 204
        }
      ]
    },
    {
      "cell_type": "code",
      "source": [
        "#many_missing_values_in_row = df1.index[((df1 == 0).sum(axis=1) >= 5) & (df1['PHQ-Label'] != 'Moderately Severe') & (df1['PHQ-Label'] != 'Severe')]\n",
        "many_missing_values_in_row = df.index[((df == 0).sum(axis=1) >= 5) ]"
      ],
      "metadata": {
        "id": "78JPukY-jQns"
      },
      "execution_count": null,
      "outputs": []
    },
    {
      "cell_type": "code",
      "source": [
        "df.drop(many_missing_values_in_row, inplace = True)"
      ],
      "metadata": {
        "id": "UJ_ShLkujQqZ"
      },
      "execution_count": null,
      "outputs": []
    },
    {
      "cell_type": "code",
      "source": [
        "len(df)"
      ],
      "metadata": {
        "colab": {
          "base_uri": "https://localhost:8080/"
        },
        "id": "md_BwaabjQtQ",
        "outputId": "d6817054-8711-4bcd-88c7-3110884a385b"
      },
      "execution_count": null,
      "outputs": [
        {
          "output_type": "execute_result",
          "data": {
            "text/plain": [
              "20036"
            ]
          },
          "metadata": {},
          "execution_count": 207
        }
      ]
    },
    {
      "cell_type": "code",
      "source": [
        "df.isin([0]).sum(axis=0)"
      ],
      "metadata": {
        "id": "laPxfGRun7ha",
        "outputId": "f051a984-5112-41ea-bedf-3ba81ead6383",
        "colab": {
          "base_uri": "https://localhost:8080/"
        }
      },
      "execution_count": null,
      "outputs": [
        {
          "output_type": "execute_result",
          "data": {
            "text/plain": [
              "Index                      1\n",
              "UserId                     0\n",
              "Entry_Id                   0\n",
              "ACCELEROMETER_X           26\n",
              "ACCELEROMETER_Y           16\n",
              "ACCELEROMETER_Z            1\n",
              "BATTERY_LEVEL              0\n",
              "Date_Time                  0\n",
              "Light_v                10309\n",
              "GRAV_X                   271\n",
              "GRAV_Y                   271\n",
              "GRAV_Z                   271\n",
              "GYROSCOPE_X             1776\n",
              "GYROSCOPE_Y             1479\n",
              "GYROSCOPE_Z             1788\n",
              "MAG_X                     10\n",
              "MAG_Y                      8\n",
              "MAG_Z                      6\n",
              "ORIENTATION_AZIMUTH        0\n",
              "ORIENTATION_PITCH       5658\n",
              "ORIENTATION_ROLL        6191\n",
              "SENSORGPS_LATITUDE         0\n",
              "SENSORGPS_LONGITUDE        0\n",
              "Email Address              0\n",
              "PHQ-Label                  0\n",
              "dtype: int64"
            ]
          },
          "metadata": {},
          "execution_count": 208
        }
      ]
    },
    {
      "cell_type": "code",
      "source": [
        "df2 = df.copy()"
      ],
      "metadata": {
        "id": "lSTcuaZTvTmQ"
      },
      "execution_count": null,
      "outputs": []
    },
    {
      "cell_type": "code",
      "source": [
        "df.to_excel('preprocessed_without_any_sampling.xlsx')"
      ],
      "metadata": {
        "id": "Fld4VR1zrRBQ"
      },
      "execution_count": null,
      "outputs": []
    },
    {
      "cell_type": "code",
      "source": [
        "for i in df.columns:\n",
        "  print( i, ' = Min : ', df[i].min() , ' Max : ' , df[i].max())"
      ],
      "metadata": {
        "colab": {
          "base_uri": "https://localhost:8080/"
        },
        "id": "IqDEIzAGjQwR",
        "outputId": "ab96f0bf-dac1-4688-9ea9-67f0add27c3b"
      },
      "execution_count": null,
      "outputs": [
        {
          "output_type": "stream",
          "name": "stdout",
          "text": [
            "Index  = Min :  0  Max :  22857\n",
            "UserId  = Min :  34aHCNx4fvb5pyE4mPdbGTMXjPb2  Max :  yUTDHaNdmRYIBsyC36KhvnpgQnv2\n",
            "Entry_Id  = Min :  -Mv7mjgXAVz1-r67t9LY  Max :  -N1XDVrcmllW_FNBWmow\n",
            "ACCELEROMETER_X  = Min :  -19.896  Max :  19.5673\n",
            "ACCELEROMETER_Y  = Min :  -28.2832  Max :  12.969\n",
            "ACCELEROMETER_Z  = Min :  -27.9422  Max :  36.8563\n",
            "BATTERY_LEVEL  = Min :  1.0  Max :  100.0\n",
            "Date_Time  = Min :  1 Mar 2022 10:04:34 pm  Max :  May 8, 2022 9:12:35 AM\n",
            "Light_v  = Min :  0.0  Max :  65534.0\n",
            "GRAV_X  = Min :  -9.80501  Max :  9.80461\n",
            "GRAV_Y  = Min :  -9.80435  Max :  9.80661\n",
            "GRAV_Z  = Min :  -9.80796  Max :  9.80998\n",
            "GYROSCOPE_X  = Min :  -5.79654  Max :  4.29219\n",
            "GYROSCOPE_Y  = Min :  -6.18012  Max :  4.42777\n",
            "GYROSCOPE_Z  = Min :  -7.65942  Max :  6.4079\n",
            "MAG_X  = Min :  -1426.5  Max :  1217.04\n",
            "MAG_Y  = Min :  -1323.66  Max :  1681.02\n",
            "MAG_Z  = Min :  -1942.5  Max :  1896.78\n",
            "ORIENTATION_AZIMUTH  = Min :  -3.14137  Max :  3.14156\n",
            "ORIENTATION_PITCH  = Min :  -1.56904  Max :  1.55759\n",
            "ORIENTATION_ROLL  = Min :  -3.14159  Max :  3.14067\n",
            "SENSORGPS_LATITUDE  = Min :  22.3632  Max :  25.693\n",
            "SENSORGPS_LONGITUDE  = Min :  88.6533  Max :  91.8727\n",
            "Email Address  = Min :  180104005@aust.edu  Max :  zunayed.rahim@gmail.com\n",
            "PHQ-Label  = Min :  Mild  Max :  Severe\n"
          ]
        }
      ]
    },
    {
      "cell_type": "code",
      "source": [
        "from sklearn.model_selection import train_test_split\n",
        "\n",
        "X = df.drop(['PHQ-Label','Email Address', 'Entry_Id', 'UserId', 'Date_Time'], axis=1)\n",
        "y = df['PHQ-Label']\n",
        "X_train, X_test, y_train, y_test = train_test_split( X, y, random_state=42)"
      ],
      "metadata": {
        "id": "p8-iWab1seLU"
      },
      "execution_count": null,
      "outputs": []
    },
    {
      "cell_type": "code",
      "source": [
        "unique, count = np.unique(y_train, return_counts=True)\n",
        "Y_train_dict_value_count = { k:v for (k,v) in zip(unique, count)}\n",
        "Y_train_dict_value_count"
      ],
      "metadata": {
        "colab": {
          "base_uri": "https://localhost:8080/"
        },
        "id": "5L9f7ZtssbX7",
        "outputId": "7f43e91c-039a-4a70-c4f1-aefd164c82bc"
      },
      "execution_count": null,
      "outputs": [
        {
          "output_type": "execute_result",
          "data": {
            "text/plain": [
              "{'Mild': 6112,\n",
              " 'Moderate': 5367,\n",
              " 'Moderately Severe': 446,\n",
              " 'None': 2781,\n",
              " 'Severe': 321}"
            ]
          },
          "metadata": {},
          "execution_count": 88
        }
      ]
    },
    {
      "cell_type": "code",
      "source": [
        "from imblearn.over_sampling import SMOTE\n",
        "sm = SMOTE(random_state=12)\n",
        "x_train_res, y_train_res = sm.fit_resample(X_train, y_train)"
      ],
      "metadata": {
        "id": "SRhkm_60sbdN"
      },
      "execution_count": null,
      "outputs": []
    },
    {
      "cell_type": "code",
      "source": [
        "unique, count = np.unique(y_train_res, return_counts=True)\n",
        "y_train_smote_value_count = { k:v for (k,v) in zip(unique, count)}\n",
        "y_train_smote_value_count"
      ],
      "metadata": {
        "colab": {
          "base_uri": "https://localhost:8080/"
        },
        "id": "ydK972Q8sbkQ",
        "outputId": "8dcd82d7-94c1-45de-a8d0-03aa8eb8e34a"
      },
      "execution_count": null,
      "outputs": [
        {
          "output_type": "execute_result",
          "data": {
            "text/plain": [
              "{'Mild': 6112,\n",
              " 'Moderate': 6112,\n",
              " 'Moderately Severe': 6112,\n",
              " 'None': 6112,\n",
              " 'Severe': 6112}"
            ]
          },
          "metadata": {},
          "execution_count": 90
        }
      ]
    },
    {
      "cell_type": "code",
      "source": [
        "df.to_excel('preprocessed_and_oversampled.xlsx')"
      ],
      "metadata": {
        "id": "rtPav23njQzF"
      },
      "execution_count": null,
      "outputs": []
    },
    {
      "cell_type": "markdown",
      "source": [
        "##Oversampling (Severe)\n"
      ],
      "metadata": {
        "id": "qkLmLdp6GBEc"
      }
    },
    {
      "cell_type": "code",
      "source": [
        "from sklearn.model_selection import train_test_split\n",
        "X = df[ (df['PHQ-Label'] == 'Severe') | (df['PHQ-Label'] == 'Moderately Severe')]\n",
        "y = X['PHQ-Label']\n",
        "X = X.drop(['PHQ-Label','Email Address', 'Entry_Id', 'UserId', 'Date_Time'], axis=1)\n",
        "X_train, X_test, y_train, y_test = train_test_split( X, y, random_state=42)"
      ],
      "metadata": {
        "id": "ufZx1wzxGHGt"
      },
      "execution_count": null,
      "outputs": []
    },
    {
      "cell_type": "code",
      "source": [
        "unique, count = np.unique(y_train, return_counts=True)\n",
        "Y_train_dict_value_count = { k:v for (k,v) in zip(unique, count)}\n",
        "Y_train_dict_value_count"
      ],
      "metadata": {
        "id": "9SM9Uli8jQ2N",
        "colab": {
          "base_uri": "https://localhost:8080/"
        },
        "outputId": "d9064b61-54e1-47f6-cafc-53a0679c788a"
      },
      "execution_count": null,
      "outputs": [
        {
          "output_type": "execute_result",
          "data": {
            "text/plain": [
              "{'Moderately Severe': 558, 'Severe': 330}"
            ]
          },
          "metadata": {},
          "execution_count": 21
        }
      ]
    },
    {
      "cell_type": "code",
      "source": [
        "from imblearn.over_sampling import SMOTE"
      ],
      "metadata": {
        "id": "jaRIMNeCjQ4S"
      },
      "execution_count": null,
      "outputs": []
    },
    {
      "cell_type": "code",
      "source": [
        "sm = SMOTE(random_state=12)\n",
        "x_train_res, y_train_res = sm.fit_resample(X_train, y_train)"
      ],
      "metadata": {
        "id": "2RUk8tbT7RVL"
      },
      "execution_count": null,
      "outputs": []
    },
    {
      "cell_type": "code",
      "source": [
        "unique, count = np.unique(y_train_res, return_counts=True)\n",
        "y_train_smote_value_count = { k:v for (k,v) in zip(unique, count)}\n",
        "y_train_smote_value_count"
      ],
      "metadata": {
        "id": "-EHidxGRzzKn",
        "colab": {
          "base_uri": "https://localhost:8080/"
        },
        "outputId": "44bd7272-7149-4344-bd3a-80e421a0bac6"
      },
      "execution_count": null,
      "outputs": [
        {
          "output_type": "execute_result",
          "data": {
            "text/plain": [
              "{'Moderately Severe': 558, 'Severe': 558}"
            ]
          },
          "metadata": {},
          "execution_count": 24
        }
      ]
    },
    {
      "cell_type": "code",
      "source": [
        "temp = df[ (df['PHQ-Label'] == 'Mild') | (df['PHQ-Label'] == 'Moderate') | (df['PHQ-Label'] == 'None') ]"
      ],
      "metadata": {
        "id": "b5ZGxiWI0UUb"
      },
      "execution_count": null,
      "outputs": []
    },
    {
      "cell_type": "code",
      "source": [
        ""
      ],
      "metadata": {
        "id": "pzVcBHDjHnMY"
      },
      "execution_count": null,
      "outputs": []
    },
    {
      "cell_type": "code",
      "source": [
        "x_train_res['PHQ-Label'] = y_train_res"
      ],
      "metadata": {
        "id": "lLZ5N-QNHnTH"
      },
      "execution_count": null,
      "outputs": []
    },
    {
      "cell_type": "code",
      "source": [
        "x_train_res[ x_train_res['PHQ-Label'] == 'Moderately Severe']\n",
        "oversampled = x_train_res.copy()"
      ],
      "metadata": {
        "id": "VLx2PoBkHnhn"
      },
      "execution_count": null,
      "outputs": []
    },
    {
      "cell_type": "code",
      "source": [
        "df = pd.concat([oversampled, temp], ignore_index=True, sort=False)\n",
        "df['PHQ-Label'].value_counts()"
      ],
      "metadata": {
        "colab": {
          "base_uri": "https://localhost:8080/"
        },
        "id": "N-X88hHuKDZ-",
        "outputId": "db8b6672-07c1-4d1f-aa7d-d4bc2066c965"
      },
      "execution_count": null,
      "outputs": [
        {
          "output_type": "execute_result",
          "data": {
            "text/plain": [
              "Mild                 9283\n",
              "Moderate             8293\n",
              "None                 4097\n",
              "Severe                558\n",
              "Moderately Severe     558\n",
              "Name: PHQ-Label, dtype: int64"
            ]
          },
          "metadata": {},
          "execution_count": 28
        }
      ]
    },
    {
      "cell_type": "code",
      "source": [
        "temp"
      ],
      "metadata": {
        "colab": {
          "base_uri": "https://localhost:8080/",
          "height": 1000
        },
        "id": "sHRNohF0Q8nd",
        "outputId": "84acedd4-feb6-4cd4-8fe9-a500ad63f3c8"
      },
      "execution_count": null,
      "outputs": [
        {
          "output_type": "execute_result",
          "data": {
            "text/plain": [
              "       Index                        UserId              Entry_Id  \\\n",
              "116      116  38IyoUCxjrgfy2x7iBtLxh5JzJD3  -MxeqNkv4UViTaRLBxjC   \n",
              "117      117  38IyoUCxjrgfy2x7iBtLxh5JzJD3  -MxeqNl-yrvQxJUaLCnD   \n",
              "118      118  38IyoUCxjrgfy2x7iBtLxh5JzJD3  -MxeqNl29lD7yN5LVNnQ   \n",
              "119      119  38IyoUCxjrgfy2x7iBtLxh5JzJD3  -Mxf4_WGtC9ddzzbNI4I   \n",
              "120      120  38IyoUCxjrgfy2x7iBtLxh5JzJD3  -Mxf4_WP7LiYmwxuutMf   \n",
              "...      ...                           ...                   ...   \n",
              "22850  22850  xbvMRucuWqPB4sHR57IpNwq5nri2  -MxPnWYqNSq7XM1mjyUb   \n",
              "22851  22851  xbvMRucuWqPB4sHR57IpNwq5nri2  -MxPnWYzcJRZkKDHgDnT   \n",
              "22852  22852  xbvMRucuWqPB4sHR57IpNwq5nri2  -MxPnWZ2UyRRNkIGT_-K   \n",
              "22853  22853  xbvMRucuWqPB4sHR57IpNwq5nri2  -MxPnWZ4Aul1tpQdeTaU   \n",
              "22854  22854  xbvMRucuWqPB4sHR57IpNwq5nri2  -MxPnWZ7dFFlLDlCFrMc   \n",
              "\n",
              "       ACCELEROMETER_X  ACCELEROMETER_Y  ACCELEROMETER_Z  BATTERY_LEVEL  \\\n",
              "116           0.019154        -0.162806          9.61511           91.0   \n",
              "117           0.799663         5.956770          7.44836           89.0   \n",
              "118          -0.325611         3.550600          8.14986           86.0   \n",
              "119           0.023942         0.153229          9.59117           95.0   \n",
              "120           0.237026         8.803480          4.16112           93.0   \n",
              "...                ...              ...              ...            ...   \n",
              "22850         1.244390         2.642600          9.11892           24.0   \n",
              "22851         4.474160         2.637810          8.85077           22.0   \n",
              "22852         0.362123         0.675165          9.77134           26.0   \n",
              "22853         0.528520         4.902730          8.69754           23.0   \n",
              "22854         1.190520         6.008850          7.51360           21.0   \n",
              "\n",
              "                     Date_Time  Light_v    GRAV_X  ...    MAG_X     MAG_Y  \\\n",
              "116    Mar 8, 2022 11:53:24 PM  32.0000  0.026608  ...   3.9000  15.18000   \n",
              "117    Mar 9, 2022 12:08:24 AM  39.0000  0.798629  ...  23.1000   1.74000   \n",
              "118    Mar 9, 2022 12:27:21 AM  28.0000 -0.536416  ...  31.1400  10.14000   \n",
              "119    Mar 9, 2022 12:44:46 AM  25.0000  0.130149  ...   5.2800  13.68000   \n",
              "120    Mar 9, 2022 12:59:46 AM  60.0000  0.235695  ...  15.7200 -12.72000   \n",
              "...                        ...      ...       ...  ...      ...       ...   \n",
              "22850   5 Mar 2022 12:37:05 am   0.0000  0.962823  ...  22.9125 -28.72500   \n",
              "22851   5 Mar 2022 12:52:05 am   0.0000  0.962823  ...  22.9125 -28.72500   \n",
              "22852    5 Mar 2022 9:13:50 pm   6.7925  1.238320  ...  26.1563  -9.69375   \n",
              "22853    5 Mar 2022 9:28:50 pm   0.0000  1.478610  ...  25.9875 -26.71880   \n",
              "22854    5 Mar 2022 9:43:50 pm   0.0000  1.478610  ...  25.9875 -26.71880   \n",
              "\n",
              "         MAG_Z  ORIENTATION_AZIMUTH  ORIENTATION_PITCH  ORIENTATION_ROLL  \\\n",
              "116   -26.7600            -0.262292           0.000000          0.000000   \n",
              "117   -34.6200            -0.897881          -0.671791         -0.106951   \n",
              "118   -27.5400            -0.965323          -0.410576          0.000000   \n",
              "119   -36.4800            -0.378388           0.000000          0.000000   \n",
              "120   -29.6400            -0.703457          -1.128290         -0.056835   \n",
              "...        ...                  ...                ...               ...   \n",
              "22850 -15.2438            -2.346670          -0.279610         -0.135624   \n",
              "22851 -15.2438            -2.348720          -0.259960         -0.468047   \n",
              "22852 -23.4563            -1.862960          -0.068940          0.000000   \n",
              "22853 -18.2625            -2.080540          -0.512506         -0.060692   \n",
              "22854 -18.2625            -1.978130          -0.668537         -0.157142   \n",
              "\n",
              "       SENSORGPS_LATITUDE  SENSORGPS_LONGITUDE            Email Address  \\\n",
              "116             23.744300            90.409300       190104109@aust.edu   \n",
              "117             23.744300            90.409300       190104109@aust.edu   \n",
              "118             23.744300            90.409300       190104109@aust.edu   \n",
              "119             23.744300            90.409300       190104109@aust.edu   \n",
              "120             23.744300            90.409300       190104109@aust.edu   \n",
              "...                   ...                  ...                      ...   \n",
              "22850           23.768879            90.417653  ahsantausif30@gmail.com   \n",
              "22851           23.768879            90.417653  ahsantausif30@gmail.com   \n",
              "22852           23.768879            90.417653  ahsantausif30@gmail.com   \n",
              "22853           23.768879            90.417653  ahsantausif30@gmail.com   \n",
              "22854           23.768879            90.417653  ahsantausif30@gmail.com   \n",
              "\n",
              "       PHQ-Label  \n",
              "116         Mild  \n",
              "117         Mild  \n",
              "118         Mild  \n",
              "119         Mild  \n",
              "120         Mild  \n",
              "...          ...  \n",
              "22850       Mild  \n",
              "22851       Mild  \n",
              "22852       Mild  \n",
              "22853       Mild  \n",
              "22854       Mild  \n",
              "\n",
              "[21673 rows x 25 columns]"
            ],
            "text/html": [
              "\n",
              "  <div id=\"df-827e73ed-5508-4a21-b3a9-5a1f932663cc\">\n",
              "    <div class=\"colab-df-container\">\n",
              "      <div>\n",
              "<style scoped>\n",
              "    .dataframe tbody tr th:only-of-type {\n",
              "        vertical-align: middle;\n",
              "    }\n",
              "\n",
              "    .dataframe tbody tr th {\n",
              "        vertical-align: top;\n",
              "    }\n",
              "\n",
              "    .dataframe thead th {\n",
              "        text-align: right;\n",
              "    }\n",
              "</style>\n",
              "<table border=\"1\" class=\"dataframe\">\n",
              "  <thead>\n",
              "    <tr style=\"text-align: right;\">\n",
              "      <th></th>\n",
              "      <th>Index</th>\n",
              "      <th>UserId</th>\n",
              "      <th>Entry_Id</th>\n",
              "      <th>ACCELEROMETER_X</th>\n",
              "      <th>ACCELEROMETER_Y</th>\n",
              "      <th>ACCELEROMETER_Z</th>\n",
              "      <th>BATTERY_LEVEL</th>\n",
              "      <th>Date_Time</th>\n",
              "      <th>Light_v</th>\n",
              "      <th>GRAV_X</th>\n",
              "      <th>...</th>\n",
              "      <th>MAG_X</th>\n",
              "      <th>MAG_Y</th>\n",
              "      <th>MAG_Z</th>\n",
              "      <th>ORIENTATION_AZIMUTH</th>\n",
              "      <th>ORIENTATION_PITCH</th>\n",
              "      <th>ORIENTATION_ROLL</th>\n",
              "      <th>SENSORGPS_LATITUDE</th>\n",
              "      <th>SENSORGPS_LONGITUDE</th>\n",
              "      <th>Email Address</th>\n",
              "      <th>PHQ-Label</th>\n",
              "    </tr>\n",
              "  </thead>\n",
              "  <tbody>\n",
              "    <tr>\n",
              "      <th>116</th>\n",
              "      <td>116</td>\n",
              "      <td>38IyoUCxjrgfy2x7iBtLxh5JzJD3</td>\n",
              "      <td>-MxeqNkv4UViTaRLBxjC</td>\n",
              "      <td>0.019154</td>\n",
              "      <td>-0.162806</td>\n",
              "      <td>9.61511</td>\n",
              "      <td>91.0</td>\n",
              "      <td>Mar 8, 2022 11:53:24 PM</td>\n",
              "      <td>32.0000</td>\n",
              "      <td>0.026608</td>\n",
              "      <td>...</td>\n",
              "      <td>3.9000</td>\n",
              "      <td>15.18000</td>\n",
              "      <td>-26.7600</td>\n",
              "      <td>-0.262292</td>\n",
              "      <td>0.000000</td>\n",
              "      <td>0.000000</td>\n",
              "      <td>23.744300</td>\n",
              "      <td>90.409300</td>\n",
              "      <td>190104109@aust.edu</td>\n",
              "      <td>Mild</td>\n",
              "    </tr>\n",
              "    <tr>\n",
              "      <th>117</th>\n",
              "      <td>117</td>\n",
              "      <td>38IyoUCxjrgfy2x7iBtLxh5JzJD3</td>\n",
              "      <td>-MxeqNl-yrvQxJUaLCnD</td>\n",
              "      <td>0.799663</td>\n",
              "      <td>5.956770</td>\n",
              "      <td>7.44836</td>\n",
              "      <td>89.0</td>\n",
              "      <td>Mar 9, 2022 12:08:24 AM</td>\n",
              "      <td>39.0000</td>\n",
              "      <td>0.798629</td>\n",
              "      <td>...</td>\n",
              "      <td>23.1000</td>\n",
              "      <td>1.74000</td>\n",
              "      <td>-34.6200</td>\n",
              "      <td>-0.897881</td>\n",
              "      <td>-0.671791</td>\n",
              "      <td>-0.106951</td>\n",
              "      <td>23.744300</td>\n",
              "      <td>90.409300</td>\n",
              "      <td>190104109@aust.edu</td>\n",
              "      <td>Mild</td>\n",
              "    </tr>\n",
              "    <tr>\n",
              "      <th>118</th>\n",
              "      <td>118</td>\n",
              "      <td>38IyoUCxjrgfy2x7iBtLxh5JzJD3</td>\n",
              "      <td>-MxeqNl29lD7yN5LVNnQ</td>\n",
              "      <td>-0.325611</td>\n",
              "      <td>3.550600</td>\n",
              "      <td>8.14986</td>\n",
              "      <td>86.0</td>\n",
              "      <td>Mar 9, 2022 12:27:21 AM</td>\n",
              "      <td>28.0000</td>\n",
              "      <td>-0.536416</td>\n",
              "      <td>...</td>\n",
              "      <td>31.1400</td>\n",
              "      <td>10.14000</td>\n",
              "      <td>-27.5400</td>\n",
              "      <td>-0.965323</td>\n",
              "      <td>-0.410576</td>\n",
              "      <td>0.000000</td>\n",
              "      <td>23.744300</td>\n",
              "      <td>90.409300</td>\n",
              "      <td>190104109@aust.edu</td>\n",
              "      <td>Mild</td>\n",
              "    </tr>\n",
              "    <tr>\n",
              "      <th>119</th>\n",
              "      <td>119</td>\n",
              "      <td>38IyoUCxjrgfy2x7iBtLxh5JzJD3</td>\n",
              "      <td>-Mxf4_WGtC9ddzzbNI4I</td>\n",
              "      <td>0.023942</td>\n",
              "      <td>0.153229</td>\n",
              "      <td>9.59117</td>\n",
              "      <td>95.0</td>\n",
              "      <td>Mar 9, 2022 12:44:46 AM</td>\n",
              "      <td>25.0000</td>\n",
              "      <td>0.130149</td>\n",
              "      <td>...</td>\n",
              "      <td>5.2800</td>\n",
              "      <td>13.68000</td>\n",
              "      <td>-36.4800</td>\n",
              "      <td>-0.378388</td>\n",
              "      <td>0.000000</td>\n",
              "      <td>0.000000</td>\n",
              "      <td>23.744300</td>\n",
              "      <td>90.409300</td>\n",
              "      <td>190104109@aust.edu</td>\n",
              "      <td>Mild</td>\n",
              "    </tr>\n",
              "    <tr>\n",
              "      <th>120</th>\n",
              "      <td>120</td>\n",
              "      <td>38IyoUCxjrgfy2x7iBtLxh5JzJD3</td>\n",
              "      <td>-Mxf4_WP7LiYmwxuutMf</td>\n",
              "      <td>0.237026</td>\n",
              "      <td>8.803480</td>\n",
              "      <td>4.16112</td>\n",
              "      <td>93.0</td>\n",
              "      <td>Mar 9, 2022 12:59:46 AM</td>\n",
              "      <td>60.0000</td>\n",
              "      <td>0.235695</td>\n",
              "      <td>...</td>\n",
              "      <td>15.7200</td>\n",
              "      <td>-12.72000</td>\n",
              "      <td>-29.6400</td>\n",
              "      <td>-0.703457</td>\n",
              "      <td>-1.128290</td>\n",
              "      <td>-0.056835</td>\n",
              "      <td>23.744300</td>\n",
              "      <td>90.409300</td>\n",
              "      <td>190104109@aust.edu</td>\n",
              "      <td>Mild</td>\n",
              "    </tr>\n",
              "    <tr>\n",
              "      <th>...</th>\n",
              "      <td>...</td>\n",
              "      <td>...</td>\n",
              "      <td>...</td>\n",
              "      <td>...</td>\n",
              "      <td>...</td>\n",
              "      <td>...</td>\n",
              "      <td>...</td>\n",
              "      <td>...</td>\n",
              "      <td>...</td>\n",
              "      <td>...</td>\n",
              "      <td>...</td>\n",
              "      <td>...</td>\n",
              "      <td>...</td>\n",
              "      <td>...</td>\n",
              "      <td>...</td>\n",
              "      <td>...</td>\n",
              "      <td>...</td>\n",
              "      <td>...</td>\n",
              "      <td>...</td>\n",
              "      <td>...</td>\n",
              "      <td>...</td>\n",
              "    </tr>\n",
              "    <tr>\n",
              "      <th>22850</th>\n",
              "      <td>22850</td>\n",
              "      <td>xbvMRucuWqPB4sHR57IpNwq5nri2</td>\n",
              "      <td>-MxPnWYqNSq7XM1mjyUb</td>\n",
              "      <td>1.244390</td>\n",
              "      <td>2.642600</td>\n",
              "      <td>9.11892</td>\n",
              "      <td>24.0</td>\n",
              "      <td>5 Mar 2022 12:37:05 am</td>\n",
              "      <td>0.0000</td>\n",
              "      <td>0.962823</td>\n",
              "      <td>...</td>\n",
              "      <td>22.9125</td>\n",
              "      <td>-28.72500</td>\n",
              "      <td>-15.2438</td>\n",
              "      <td>-2.346670</td>\n",
              "      <td>-0.279610</td>\n",
              "      <td>-0.135624</td>\n",
              "      <td>23.768879</td>\n",
              "      <td>90.417653</td>\n",
              "      <td>ahsantausif30@gmail.com</td>\n",
              "      <td>Mild</td>\n",
              "    </tr>\n",
              "    <tr>\n",
              "      <th>22851</th>\n",
              "      <td>22851</td>\n",
              "      <td>xbvMRucuWqPB4sHR57IpNwq5nri2</td>\n",
              "      <td>-MxPnWYzcJRZkKDHgDnT</td>\n",
              "      <td>4.474160</td>\n",
              "      <td>2.637810</td>\n",
              "      <td>8.85077</td>\n",
              "      <td>22.0</td>\n",
              "      <td>5 Mar 2022 12:52:05 am</td>\n",
              "      <td>0.0000</td>\n",
              "      <td>0.962823</td>\n",
              "      <td>...</td>\n",
              "      <td>22.9125</td>\n",
              "      <td>-28.72500</td>\n",
              "      <td>-15.2438</td>\n",
              "      <td>-2.348720</td>\n",
              "      <td>-0.259960</td>\n",
              "      <td>-0.468047</td>\n",
              "      <td>23.768879</td>\n",
              "      <td>90.417653</td>\n",
              "      <td>ahsantausif30@gmail.com</td>\n",
              "      <td>Mild</td>\n",
              "    </tr>\n",
              "    <tr>\n",
              "      <th>22852</th>\n",
              "      <td>22852</td>\n",
              "      <td>xbvMRucuWqPB4sHR57IpNwq5nri2</td>\n",
              "      <td>-MxPnWZ2UyRRNkIGT_-K</td>\n",
              "      <td>0.362123</td>\n",
              "      <td>0.675165</td>\n",
              "      <td>9.77134</td>\n",
              "      <td>26.0</td>\n",
              "      <td>5 Mar 2022 9:13:50 pm</td>\n",
              "      <td>6.7925</td>\n",
              "      <td>1.238320</td>\n",
              "      <td>...</td>\n",
              "      <td>26.1563</td>\n",
              "      <td>-9.69375</td>\n",
              "      <td>-23.4563</td>\n",
              "      <td>-1.862960</td>\n",
              "      <td>-0.068940</td>\n",
              "      <td>0.000000</td>\n",
              "      <td>23.768879</td>\n",
              "      <td>90.417653</td>\n",
              "      <td>ahsantausif30@gmail.com</td>\n",
              "      <td>Mild</td>\n",
              "    </tr>\n",
              "    <tr>\n",
              "      <th>22853</th>\n",
              "      <td>22853</td>\n",
              "      <td>xbvMRucuWqPB4sHR57IpNwq5nri2</td>\n",
              "      <td>-MxPnWZ4Aul1tpQdeTaU</td>\n",
              "      <td>0.528520</td>\n",
              "      <td>4.902730</td>\n",
              "      <td>8.69754</td>\n",
              "      <td>23.0</td>\n",
              "      <td>5 Mar 2022 9:28:50 pm</td>\n",
              "      <td>0.0000</td>\n",
              "      <td>1.478610</td>\n",
              "      <td>...</td>\n",
              "      <td>25.9875</td>\n",
              "      <td>-26.71880</td>\n",
              "      <td>-18.2625</td>\n",
              "      <td>-2.080540</td>\n",
              "      <td>-0.512506</td>\n",
              "      <td>-0.060692</td>\n",
              "      <td>23.768879</td>\n",
              "      <td>90.417653</td>\n",
              "      <td>ahsantausif30@gmail.com</td>\n",
              "      <td>Mild</td>\n",
              "    </tr>\n",
              "    <tr>\n",
              "      <th>22854</th>\n",
              "      <td>22854</td>\n",
              "      <td>xbvMRucuWqPB4sHR57IpNwq5nri2</td>\n",
              "      <td>-MxPnWZ7dFFlLDlCFrMc</td>\n",
              "      <td>1.190520</td>\n",
              "      <td>6.008850</td>\n",
              "      <td>7.51360</td>\n",
              "      <td>21.0</td>\n",
              "      <td>5 Mar 2022 9:43:50 pm</td>\n",
              "      <td>0.0000</td>\n",
              "      <td>1.478610</td>\n",
              "      <td>...</td>\n",
              "      <td>25.9875</td>\n",
              "      <td>-26.71880</td>\n",
              "      <td>-18.2625</td>\n",
              "      <td>-1.978130</td>\n",
              "      <td>-0.668537</td>\n",
              "      <td>-0.157142</td>\n",
              "      <td>23.768879</td>\n",
              "      <td>90.417653</td>\n",
              "      <td>ahsantausif30@gmail.com</td>\n",
              "      <td>Mild</td>\n",
              "    </tr>\n",
              "  </tbody>\n",
              "</table>\n",
              "<p>21673 rows × 25 columns</p>\n",
              "</div>\n",
              "      <button class=\"colab-df-convert\" onclick=\"convertToInteractive('df-827e73ed-5508-4a21-b3a9-5a1f932663cc')\"\n",
              "              title=\"Convert this dataframe to an interactive table.\"\n",
              "              style=\"display:none;\">\n",
              "        \n",
              "  <svg xmlns=\"http://www.w3.org/2000/svg\" height=\"24px\"viewBox=\"0 0 24 24\"\n",
              "       width=\"24px\">\n",
              "    <path d=\"M0 0h24v24H0V0z\" fill=\"none\"/>\n",
              "    <path d=\"M18.56 5.44l.94 2.06.94-2.06 2.06-.94-2.06-.94-.94-2.06-.94 2.06-2.06.94zm-11 1L8.5 8.5l.94-2.06 2.06-.94-2.06-.94L8.5 2.5l-.94 2.06-2.06.94zm10 10l.94 2.06.94-2.06 2.06-.94-2.06-.94-.94-2.06-.94 2.06-2.06.94z\"/><path d=\"M17.41 7.96l-1.37-1.37c-.4-.4-.92-.59-1.43-.59-.52 0-1.04.2-1.43.59L10.3 9.45l-7.72 7.72c-.78.78-.78 2.05 0 2.83L4 21.41c.39.39.9.59 1.41.59.51 0 1.02-.2 1.41-.59l7.78-7.78 2.81-2.81c.8-.78.8-2.07 0-2.86zM5.41 20L4 18.59l7.72-7.72 1.47 1.35L5.41 20z\"/>\n",
              "  </svg>\n",
              "      </button>\n",
              "      \n",
              "  <style>\n",
              "    .colab-df-container {\n",
              "      display:flex;\n",
              "      flex-wrap:wrap;\n",
              "      gap: 12px;\n",
              "    }\n",
              "\n",
              "    .colab-df-convert {\n",
              "      background-color: #E8F0FE;\n",
              "      border: none;\n",
              "      border-radius: 50%;\n",
              "      cursor: pointer;\n",
              "      display: none;\n",
              "      fill: #1967D2;\n",
              "      height: 32px;\n",
              "      padding: 0 0 0 0;\n",
              "      width: 32px;\n",
              "    }\n",
              "\n",
              "    .colab-df-convert:hover {\n",
              "      background-color: #E2EBFA;\n",
              "      box-shadow: 0px 1px 2px rgba(60, 64, 67, 0.3), 0px 1px 3px 1px rgba(60, 64, 67, 0.15);\n",
              "      fill: #174EA6;\n",
              "    }\n",
              "\n",
              "    [theme=dark] .colab-df-convert {\n",
              "      background-color: #3B4455;\n",
              "      fill: #D2E3FC;\n",
              "    }\n",
              "\n",
              "    [theme=dark] .colab-df-convert:hover {\n",
              "      background-color: #434B5C;\n",
              "      box-shadow: 0px 1px 3px 1px rgba(0, 0, 0, 0.15);\n",
              "      filter: drop-shadow(0px 1px 2px rgba(0, 0, 0, 0.3));\n",
              "      fill: #FFFFFF;\n",
              "    }\n",
              "  </style>\n",
              "\n",
              "      <script>\n",
              "        const buttonEl =\n",
              "          document.querySelector('#df-827e73ed-5508-4a21-b3a9-5a1f932663cc button.colab-df-convert');\n",
              "        buttonEl.style.display =\n",
              "          google.colab.kernel.accessAllowed ? 'block' : 'none';\n",
              "\n",
              "        async function convertToInteractive(key) {\n",
              "          const element = document.querySelector('#df-827e73ed-5508-4a21-b3a9-5a1f932663cc');\n",
              "          const dataTable =\n",
              "            await google.colab.kernel.invokeFunction('convertToInteractive',\n",
              "                                                     [key], {});\n",
              "          if (!dataTable) return;\n",
              "\n",
              "          const docLinkHtml = 'Like what you see? Visit the ' +\n",
              "            '<a target=\"_blank\" href=https://colab.research.google.com/notebooks/data_table.ipynb>data table notebook</a>'\n",
              "            + ' to learn more about interactive tables.';\n",
              "          element.innerHTML = '';\n",
              "          dataTable['output_type'] = 'display_data';\n",
              "          await google.colab.output.renderOutput(dataTable, element);\n",
              "          const docLink = document.createElement('div');\n",
              "          docLink.innerHTML = docLinkHtml;\n",
              "          element.appendChild(docLink);\n",
              "        }\n",
              "      </script>\n",
              "    </div>\n",
              "  </div>\n",
              "  "
            ]
          },
          "metadata": {},
          "execution_count": 29
        }
      ]
    },
    {
      "cell_type": "markdown",
      "source": [
        "## Undersampling (None, Mild, Moderate)"
      ],
      "metadata": {
        "id": "bftxH4bxYtoL"
      }
    },
    {
      "cell_type": "code",
      "source": [
        "df['PHQ-Label'].value_counts()"
      ],
      "metadata": {
        "colab": {
          "base_uri": "https://localhost:8080/"
        },
        "id": "RZy5ai2mt9bv",
        "outputId": "a2ea6857-b6ff-42a9-a29a-d873a5b30cf6"
      },
      "execution_count": null,
      "outputs": [
        {
          "output_type": "execute_result",
          "data": {
            "text/plain": [
              "Mild                 8165\n",
              "Moderate             7111\n",
              "None                 3703\n",
              "Moderately Severe     625\n",
              "Severe                432\n",
              "Name: PHQ-Label, dtype: int64"
            ]
          },
          "metadata": {},
          "execution_count": 211
        }
      ]
    },
    {
      "cell_type": "code",
      "source": [
        "majority_col = 'None'\n",
        "minority_class_len = len(df[df['PHQ-Label'] == 'Severe' ])\n",
        "majority_class_indices = df[df['PHQ-Label'] == majority_col].index\n",
        "random_majority_indices = np.random.choice(majority_class_indices, minority_class_len, replace=False)\n",
        "minority_class_indices = df[df['PHQ-Label'] == 'Severe' ].index\n",
        "under_sample_indices = np.concatenate([minority_class_indices,random_majority_indices])\n",
        "under_sample1 = df.loc[under_sample_indices]\n",
        "under_sample1 = under_sample1[under_sample1['PHQ-Label']==majority_col]\n",
        "under_sample1['PHQ-Label'].value_counts()"
      ],
      "metadata": {
        "colab": {
          "base_uri": "https://localhost:8080/"
        },
        "id": "PdB6mzj6LMh9",
        "outputId": "c40aefe5-65eb-43f8-d0b8-878e3de73d37"
      },
      "execution_count": null,
      "outputs": [
        {
          "output_type": "execute_result",
          "data": {
            "text/plain": [
              "None    432\n",
              "Name: PHQ-Label, dtype: int64"
            ]
          },
          "metadata": {},
          "execution_count": 212
        }
      ]
    },
    {
      "cell_type": "code",
      "source": [
        "majority_col = 'Moderate'\n",
        "minority_class_len = len(df[df['PHQ-Label'] == 'Severe' ])\n",
        "majority_class_indices = df[df['PHQ-Label'] == majority_col].index\n",
        "random_majority_indices = np.random.choice(majority_class_indices, minority_class_len, replace=False)\n",
        "minority_class_indices = df[df['PHQ-Label'] == 'Severe' ].index\n",
        "under_sample_indices = np.concatenate([minority_class_indices,random_majority_indices])\n",
        "under_sample2 = df.loc[under_sample_indices]\n",
        "under_sample2 = under_sample2[under_sample2['PHQ-Label']==majority_col]\n",
        "under_sample2['PHQ-Label'].value_counts()"
      ],
      "metadata": {
        "colab": {
          "base_uri": "https://localhost:8080/"
        },
        "id": "5MgsOJjKQVT9",
        "outputId": "316fb209-a0f5-4720-9e5e-9ef71b5b6d9a"
      },
      "execution_count": null,
      "outputs": [
        {
          "output_type": "execute_result",
          "data": {
            "text/plain": [
              "Moderate    432\n",
              "Name: PHQ-Label, dtype: int64"
            ]
          },
          "metadata": {},
          "execution_count": 213
        }
      ]
    },
    {
      "cell_type": "code",
      "source": [
        "majority_col = 'Mild'\n",
        "minority_class_len = len(df[df['PHQ-Label'] == 'Severe' ])\n",
        "majority_class_indices = df[df['PHQ-Label'] == majority_col].index\n",
        "random_majority_indices = np.random.choice(majority_class_indices, minority_class_len, replace=False)\n",
        "minority_class_indices = df[df['PHQ-Label'] == 'Severe' ].index\n",
        "under_sample_indices = np.concatenate([minority_class_indices,random_majority_indices])\n",
        "under_sample3 = df.loc[under_sample_indices]\n",
        "under_sample3 = under_sample3[under_sample3['PHQ-Label']==majority_col]\n",
        "under_sample3['PHQ-Label'].value_counts()"
      ],
      "metadata": {
        "colab": {
          "base_uri": "https://localhost:8080/"
        },
        "id": "pngO9Q4LQuGd",
        "outputId": "88f12048-b4ce-4fd0-ed5e-aa6bcedb36c1"
      },
      "execution_count": null,
      "outputs": [
        {
          "output_type": "execute_result",
          "data": {
            "text/plain": [
              "Mild    432\n",
              "Name: PHQ-Label, dtype: int64"
            ]
          },
          "metadata": {},
          "execution_count": 214
        }
      ]
    },
    {
      "cell_type": "code",
      "source": [
        "majority_col = 'Moderately Severe'\n",
        "minority_class_len = len(df[df['PHQ-Label'] == 'Severe' ])\n",
        "majority_class_indices = df[df['PHQ-Label'] == majority_col].index\n",
        "random_majority_indices = np.random.choice(majority_class_indices, minority_class_len, replace=False)\n",
        "minority_class_indices = df[df['PHQ-Label'] == 'Severe' ].index\n",
        "under_sample_indices = np.concatenate([minority_class_indices,random_majority_indices])\n",
        "under_sample4 = df.loc[under_sample_indices]\n",
        "under_sample4 = under_sample4[under_sample4['PHQ-Label']==majority_col]\n",
        "under_sample4['PHQ-Label'].value_counts()"
      ],
      "metadata": {
        "colab": {
          "base_uri": "https://localhost:8080/"
        },
        "id": "zFpKEp5OvpyY",
        "outputId": "eee2607c-4cc3-4645-cddb-95b611346453"
      },
      "execution_count": null,
      "outputs": [
        {
          "output_type": "execute_result",
          "data": {
            "text/plain": [
              "Moderately Severe    432\n",
              "Name: PHQ-Label, dtype: int64"
            ]
          },
          "metadata": {},
          "execution_count": 215
        }
      ]
    },
    {
      "cell_type": "code",
      "source": [
        "df = pd.concat([under_sample1, under_sample2, under_sample3, under_sample4,  df[ df['PHQ-Label'] =='Severe' ] ], ignore_index=True, sort=False )\n",
        "df['PHQ-Label'].value_counts()"
      ],
      "metadata": {
        "colab": {
          "base_uri": "https://localhost:8080/"
        },
        "id": "bSf0j44xw4no",
        "outputId": "224ef722-9e26-4af1-e497-76d552103034"
      },
      "execution_count": null,
      "outputs": [
        {
          "output_type": "execute_result",
          "data": {
            "text/plain": [
              "None                 432\n",
              "Moderate             432\n",
              "Mild                 432\n",
              "Moderately Severe    432\n",
              "Severe               432\n",
              "Name: PHQ-Label, dtype: int64"
            ]
          },
          "metadata": {},
          "execution_count": 218
        }
      ]
    },
    {
      "cell_type": "code",
      "source": [
        "df.to_excel('preprocsses_and_undersampled.xlsx')"
      ],
      "metadata": {
        "id": "7l0RRJe_xZG8"
      },
      "execution_count": null,
      "outputs": []
    },
    {
      "cell_type": "code",
      "source": [
        "\n",
        "#for mix of oversampling and undersampling\n",
        "# df = pd.concat([oversampled,under_sample1, under_sample2, under_sample3 ], ignore_index=True, sort=False )\n",
        "# df['PHQ-Label'].value_counts()"
      ],
      "metadata": {
        "id": "YbyijBAjSF-c"
      },
      "execution_count": null,
      "outputs": []
    },
    {
      "cell_type": "code",
      "source": [
        "df.columns"
      ],
      "metadata": {
        "colab": {
          "base_uri": "https://localhost:8080/"
        },
        "id": "irED4fqgTOek",
        "outputId": "427825f6-6ddc-4b5c-c13f-0d8c980d7908"
      },
      "execution_count": null,
      "outputs": [
        {
          "output_type": "execute_result",
          "data": {
            "text/plain": [
              "Index(['Index', 'ACCELEROMETER_X', 'ACCELEROMETER_Y', 'ACCELEROMETER_Z',\n",
              "       'BATTERY_LEVEL', 'Light_v', 'GRAV_X', 'GRAV_Y', 'GRAV_Z', 'GYROSCOPE_X',\n",
              "       'GYROSCOPE_Y', 'GYROSCOPE_Z', 'MAG_X', 'MAG_Y', 'MAG_Z',\n",
              "       'ORIENTATION_AZIMUTH', 'ORIENTATION_PITCH', 'ORIENTATION_ROLL',\n",
              "       'SENSORGPS_LATITUDE', 'SENSORGPS_LONGITUDE', 'PHQ-Label', 'UserId',\n",
              "       'Entry_Id', 'Date_Time', 'Email Address'],\n",
              "      dtype='object')"
            ]
          },
          "metadata": {},
          "execution_count": 189
        }
      ]
    },
    {
      "cell_type": "code",
      "source": [
        "from sklearn.model_selection import train_test_split\n",
        "df = df.drop(['Email Address', 'Entry_Id', 'UserId', 'Date_Time'], axis = 1)\n",
        "X = df.drop(['PHQ-Label'], axis=1)\n",
        "y = df['PHQ-Label']\n",
        "X_train, X_test, y_train, y_test = train_test_split( X, y, random_state=42)\n"
      ],
      "metadata": {
        "id": "vgxqHK3VTCwc"
      },
      "execution_count": null,
      "outputs": []
    },
    {
      "cell_type": "markdown",
      "source": [
        "##generate output file"
      ],
      "metadata": {
        "id": "6HJCK41DYYoi"
      }
    },
    {
      "cell_type": "code",
      "source": [
        "df.to_excel('processed_data.xlsx')"
      ],
      "metadata": {
        "id": "_KeuVyaPYYHX"
      },
      "execution_count": null,
      "outputs": []
    },
    {
      "cell_type": "markdown",
      "source": [
        "## Evaluating performance of processed data"
      ],
      "metadata": {
        "id": "M3GLCKo2YjdZ"
      }
    },
    {
      "cell_type": "code",
      "source": [
        "from sklearn.linear_model import LogisticRegression\n",
        "from sklearn.svm import SVC\n",
        "from sklearn.neural_network import MLPClassifier\n",
        "from sklearn.neighbors import KNeighborsClassifier\n",
        "from sklearn.naive_bayes import GaussianNB\n",
        "from sklearn.tree import DecisionTreeClassifier\n",
        "from sklearn.ensemble import RandomForestClassifier\n",
        "from sklearn.ensemble import GradientBoostingClassifier\n",
        "from sklearn.linear_model import LogisticRegression\n",
        "from sklearn.svm import SVC\n",
        "from xgboost.sklearn import XGBClassifier\n",
        "from lightgbm import LGBMClassifier\n",
        "from sklearn.metrics import classification_report\n",
        "from sklearn.metrics import accuracy_score\n",
        "\n",
        "\n",
        "\n",
        "models = {\n",
        "    KNeighborsClassifier(n_neighbors=3):  \"KNN\",\n",
        "    GaussianNB():  \"Gausian Naive Bayes\",\n",
        "    DecisionTreeClassifier(): \"DecisionTreeClassifier\",\n",
        "    RandomForestClassifier(n_estimators=100): \"RandomForestClassifier\",\n",
        "    GradientBoostingClassifier() : \"GradientBoostingClassifier\",\n",
        "    LogisticRegression(max_iter=1000) : \"LogisticRegression\",\n",
        "    SVC() : \"SVC\",\n",
        "    XGBClassifier() : \"XGBClassifier\",\n",
        "    LGBMClassifier() : \"LGBMClassifier\"\n",
        "}"
      ],
      "metadata": {
        "id": "uY91YExHS0ks"
      },
      "execution_count": null,
      "outputs": []
    },
    {
      "cell_type": "code",
      "source": [
        "for model in models.keys():\n",
        "    model.fit(X_train, y_train)\n",
        "    \n",
        "for model, name in models.items():\n",
        "    predictions = model.predict(X_test)\n",
        "    print(name , ' : ',  accuracy_score(y_test, predictions))\n",
        "    print(classification_report(y_test,predictions))"
      ],
      "metadata": {
        "colab": {
          "base_uri": "https://localhost:8080/"
        },
        "id": "RUhGVSv-S_WD",
        "outputId": "5b44a5f8-2c9f-4b29-b19c-ec53f379edc8"
      },
      "execution_count": null,
      "outputs": [
        {
          "output_type": "stream",
          "name": "stderr",
          "text": [
            "/usr/local/lib/python3.7/dist-packages/sklearn/linear_model/_logistic.py:818: ConvergenceWarning: lbfgs failed to converge (status=1):\n",
            "STOP: TOTAL NO. of ITERATIONS REACHED LIMIT.\n",
            "\n",
            "Increase the number of iterations (max_iter) or scale the data as shown in:\n",
            "    https://scikit-learn.org/stable/modules/preprocessing.html\n",
            "Please also refer to the documentation for alternative solver options:\n",
            "    https://scikit-learn.org/stable/modules/linear_model.html#logistic-regression\n",
            "  extra_warning_msg=_LOGISTIC_SOLVER_CONVERGENCE_MSG,\n"
          ]
        },
        {
          "output_type": "stream",
          "name": "stdout",
          "text": [
            "KNN  :  0.9613180515759312\n",
            "                   precision    recall  f1-score   support\n",
            "\n",
            "             Mild       0.96      0.96      0.96       143\n",
            "         Moderate       0.98      0.96      0.97       137\n",
            "Moderately Severe       0.97      0.96      0.97       148\n",
            "             None       0.96      0.94      0.95       135\n",
            "           Severe       0.93      0.99      0.96       135\n",
            "\n",
            "         accuracy                           0.96       698\n",
            "        macro avg       0.96      0.96      0.96       698\n",
            "     weighted avg       0.96      0.96      0.96       698\n",
            "\n",
            "Gausian Naive Bayes  :  0.3553008595988539\n",
            "                   precision    recall  f1-score   support\n",
            "\n",
            "             Mild       0.44      0.06      0.10       143\n",
            "         Moderate       0.20      0.04      0.06       137\n",
            "Moderately Severe       0.32      0.63      0.42       148\n",
            "             None       0.59      0.47      0.52       135\n",
            "           Severe       0.31      0.59      0.41       135\n",
            "\n",
            "         accuracy                           0.36       698\n",
            "        macro avg       0.37      0.35      0.30       698\n",
            "     weighted avg       0.37      0.36      0.30       698\n",
            "\n",
            "DecisionTreeClassifier  :  0.9570200573065902\n",
            "                   precision    recall  f1-score   support\n",
            "\n",
            "             Mild       0.92      0.95      0.93       143\n",
            "         Moderate       0.97      0.93      0.95       137\n",
            "Moderately Severe       0.97      0.97      0.97       148\n",
            "             None       0.98      0.96      0.97       135\n",
            "           Severe       0.94      0.97      0.96       135\n",
            "\n",
            "         accuracy                           0.96       698\n",
            "        macro avg       0.96      0.96      0.96       698\n",
            "     weighted avg       0.96      0.96      0.96       698\n",
            "\n",
            "RandomForestClassifier  :  0.9498567335243553\n",
            "                   precision    recall  f1-score   support\n",
            "\n",
            "             Mild       0.94      0.91      0.93       143\n",
            "         Moderate       0.87      0.99      0.92       137\n",
            "Moderately Severe       0.99      0.95      0.97       148\n",
            "             None       0.99      0.96      0.97       135\n",
            "           Severe       0.97      0.96      0.96       135\n",
            "\n",
            "         accuracy                           0.95       698\n",
            "        macro avg       0.95      0.95      0.95       698\n",
            "     weighted avg       0.95      0.95      0.95       698\n",
            "\n",
            "GradientBoostingClassifier  :  0.9799426934097422\n",
            "                   precision    recall  f1-score   support\n",
            "\n",
            "             Mild       0.96      0.94      0.95       143\n",
            "         Moderate       0.97      0.99      0.98       137\n",
            "Moderately Severe       1.00      0.99      1.00       148\n",
            "             None       0.99      0.99      0.99       135\n",
            "           Severe       0.97      0.99      0.98       135\n",
            "\n",
            "         accuracy                           0.98       698\n",
            "        macro avg       0.98      0.98      0.98       698\n",
            "     weighted avg       0.98      0.98      0.98       698\n",
            "\n",
            "LogisticRegression  :  0.335243553008596\n",
            "                   precision    recall  f1-score   support\n",
            "\n",
            "             Mild       0.32      0.33      0.33       143\n",
            "         Moderate       0.26      0.08      0.12       137\n",
            "Moderately Severe       0.31      0.39      0.34       148\n",
            "             None       0.41      0.67      0.51       135\n",
            "           Severe       0.27      0.21      0.23       135\n",
            "\n",
            "         accuracy                           0.34       698\n",
            "        macro avg       0.31      0.34      0.31       698\n",
            "     weighted avg       0.31      0.34      0.31       698\n",
            "\n",
            "SVC  :  0.49426934097421205\n",
            "                   precision    recall  f1-score   support\n",
            "\n",
            "             Mild       0.20      0.10      0.14       143\n",
            "         Moderate       0.26      0.15      0.19       137\n",
            "Moderately Severe       0.50      0.75      0.60       148\n",
            "             None       0.75      0.73      0.74       135\n",
            "           Severe       0.52      0.75      0.61       135\n",
            "\n",
            "         accuracy                           0.49       698\n",
            "        macro avg       0.45      0.49      0.46       698\n",
            "     weighted avg       0.44      0.49      0.45       698\n",
            "\n",
            "XGBClassifier  :  0.9770773638968482\n",
            "                   precision    recall  f1-score   support\n",
            "\n",
            "             Mild       0.96      0.94      0.95       143\n",
            "         Moderate       0.97      0.99      0.98       137\n",
            "Moderately Severe       0.99      0.99      0.99       148\n",
            "             None       0.99      0.98      0.99       135\n",
            "           Severe       0.96      0.99      0.98       135\n",
            "\n",
            "         accuracy                           0.98       698\n",
            "        macro avg       0.98      0.98      0.98       698\n",
            "     weighted avg       0.98      0.98      0.98       698\n",
            "\n",
            "LGBMClassifier  :  0.9785100286532952\n",
            "                   precision    recall  f1-score   support\n",
            "\n",
            "             Mild       0.96      0.95      0.95       143\n",
            "         Moderate       0.96      0.98      0.97       137\n",
            "Moderately Severe       0.99      0.98      0.99       148\n",
            "             None       1.00      0.99      0.99       135\n",
            "           Severe       0.98      1.00      0.99       135\n",
            "\n",
            "         accuracy                           0.98       698\n",
            "        macro avg       0.98      0.98      0.98       698\n",
            "     weighted avg       0.98      0.98      0.98       698\n",
            "\n"
          ]
        }
      ]
    },
    {
      "cell_type": "code",
      "source": [
        ""
      ],
      "metadata": {
        "id": "URdRfu7UTX7u"
      },
      "execution_count": null,
      "outputs": []
    },
    {
      "cell_type": "markdown",
      "source": [
        "##Comparing for data without preprocessing"
      ],
      "metadata": {
        "id": "9zdERcqjThZ5"
      }
    },
    {
      "cell_type": "code",
      "source": [
        "df = pd.read_excel('output.xlsx')\n",
        "\n",
        "X = df.drop(['PHQ-Label','Email Address', 'Entry_Id', 'UserId', 'Date_Time', 'BATTERY_LEVEL'], axis=1)\n",
        "y = df['PHQ-Label']\n",
        "X_train, X_test, y_train, y_test = train_test_split( X, y, random_state=42)"
      ],
      "metadata": {
        "id": "ADjhvN6ETfhe"
      },
      "execution_count": null,
      "outputs": []
    },
    {
      "cell_type": "code",
      "source": [
        "for model in models.keys():\n",
        "    model.fit(X_train, y_train)\n",
        "    \n",
        "for model, name in models.items():\n",
        "    predictions = model.predict(X_test)\n",
        "    print(name , ' : ',  accuracy_score(y_test, predictions))\n",
        "    print(classification_report(y_test,predictions))"
      ],
      "metadata": {
        "colab": {
          "base_uri": "https://localhost:8080/"
        },
        "id": "s6xhz6sJURQd",
        "outputId": "4f56d4e2-8986-49ac-bb17-21733d959874"
      },
      "execution_count": null,
      "outputs": [
        {
          "output_type": "stream",
          "name": "stderr",
          "text": [
            "/usr/local/lib/python3.7/dist-packages/sklearn/linear_model/_logistic.py:818: ConvergenceWarning: lbfgs failed to converge (status=1):\n",
            "STOP: TOTAL NO. of ITERATIONS REACHED LIMIT.\n",
            "\n",
            "Increase the number of iterations (max_iter) or scale the data as shown in:\n",
            "    https://scikit-learn.org/stable/modules/preprocessing.html\n",
            "Please also refer to the documentation for alternative solver options:\n",
            "    https://scikit-learn.org/stable/modules/linear_model.html#logistic-regression\n",
            "  extra_warning_msg=_LOGISTIC_SOLVER_CONVERGENCE_MSG,\n"
          ]
        },
        {
          "output_type": "stream",
          "name": "stdout",
          "text": [
            "KNN  :  0.989326334208224\n",
            "                   precision    recall  f1-score   support\n",
            "\n",
            "             Mild       0.99      0.99      0.99      2276\n",
            "         Moderate       1.00      0.99      0.99      2077\n",
            "Moderately Severe       0.93      0.96      0.94       193\n",
            "             None       0.99      0.99      0.99      1070\n",
            "           Severe       0.91      0.89      0.90        99\n",
            "\n",
            "         accuracy                           0.99      5715\n",
            "        macro avg       0.96      0.96      0.96      5715\n",
            "     weighted avg       0.99      0.99      0.99      5715\n",
            "\n",
            "Gausian Naive Bayes  :  0.257917760279965\n",
            "                   precision    recall  f1-score   support\n",
            "\n",
            "             Mild       0.52      0.20      0.29      2276\n",
            "         Moderate       0.42      0.14      0.21      2077\n",
            "Moderately Severe       0.06      0.61      0.10       193\n",
            "             None       0.36      0.56      0.43      1070\n",
            "           Severe       0.05      0.25      0.09        99\n",
            "\n",
            "         accuracy                           0.26      5715\n",
            "        macro avg       0.28      0.35      0.22      5715\n",
            "     weighted avg       0.43      0.26      0.28      5715\n",
            "\n",
            "DecisionTreeClassifier  :  0.9905511811023622\n",
            "                   precision    recall  f1-score   support\n",
            "\n",
            "             Mild       0.99      0.99      0.99      2276\n",
            "         Moderate       0.99      0.99      0.99      2077\n",
            "Moderately Severe       0.97      0.95      0.96       193\n",
            "             None       0.99      0.99      0.99      1070\n",
            "           Severe       0.95      0.97      0.96        99\n",
            "\n",
            "         accuracy                           0.99      5715\n",
            "        macro avg       0.98      0.98      0.98      5715\n",
            "     weighted avg       0.99      0.99      0.99      5715\n",
            "\n",
            "RandomForestClassifier  :  0.97917760279965\n",
            "                   precision    recall  f1-score   support\n",
            "\n",
            "             Mild       0.97      0.99      0.98      2276\n",
            "         Moderate       0.98      0.98      0.98      2077\n",
            "Moderately Severe       0.98      0.88      0.93       193\n",
            "             None       1.00      0.97      0.98      1070\n",
            "           Severe       0.98      0.86      0.91        99\n",
            "\n",
            "         accuracy                           0.98      5715\n",
            "        macro avg       0.98      0.94      0.96      5715\n",
            "     weighted avg       0.98      0.98      0.98      5715\n",
            "\n",
            "GradientBoostingClassifier  :  0.9961504811898513\n",
            "                   precision    recall  f1-score   support\n",
            "\n",
            "             Mild       0.99      1.00      1.00      2276\n",
            "         Moderate       1.00      1.00      1.00      2077\n",
            "Moderately Severe       1.00      0.99      0.99       193\n",
            "             None       1.00      0.99      1.00      1070\n",
            "           Severe       0.98      0.98      0.98        99\n",
            "\n",
            "         accuracy                           1.00      5715\n",
            "        macro avg       0.99      0.99      0.99      5715\n",
            "     weighted avg       1.00      1.00      1.00      5715\n",
            "\n",
            "LogisticRegression  :  0.5163604549431321\n",
            "                   precision    recall  f1-score   support\n",
            "\n",
            "             Mild       0.51      0.67      0.58      2276\n",
            "         Moderate       0.47      0.47      0.47      2077\n",
            "Moderately Severe       0.00      0.00      0.00       193\n",
            "             None       0.72      0.42      0.53      1070\n",
            "           Severe       0.00      0.00      0.00        99\n",
            "\n",
            "         accuracy                           0.52      5715\n",
            "        macro avg       0.34      0.31      0.32      5715\n",
            "     weighted avg       0.51      0.52      0.50      5715\n",
            "\n",
            "SVC  :  0.49921259842519683\n",
            "                   precision    recall  f1-score   support\n",
            "\n",
            "             Mild       0.49      0.80      0.61      2276\n",
            "         Moderate       0.35      0.14      0.19      2077\n",
            "Moderately Severe       0.00      0.00      0.00       193\n",
            "             None       0.62      0.70      0.66      1070\n",
            "           Severe       0.00      0.00      0.00        99\n",
            "\n",
            "         accuracy                           0.50      5715\n",
            "        macro avg       0.29      0.33      0.29      5715\n",
            "     weighted avg       0.44      0.50      0.44      5715\n",
            "\n"
          ]
        },
        {
          "output_type": "stream",
          "name": "stderr",
          "text": [
            "/usr/local/lib/python3.7/dist-packages/sklearn/metrics/_classification.py:1318: UndefinedMetricWarning: Precision and F-score are ill-defined and being set to 0.0 in labels with no predicted samples. Use `zero_division` parameter to control this behavior.\n",
            "  _warn_prf(average, modifier, msg_start, len(result))\n",
            "/usr/local/lib/python3.7/dist-packages/sklearn/metrics/_classification.py:1318: UndefinedMetricWarning: Precision and F-score are ill-defined and being set to 0.0 in labels with no predicted samples. Use `zero_division` parameter to control this behavior.\n",
            "  _warn_prf(average, modifier, msg_start, len(result))\n",
            "/usr/local/lib/python3.7/dist-packages/sklearn/metrics/_classification.py:1318: UndefinedMetricWarning: Precision and F-score are ill-defined and being set to 0.0 in labels with no predicted samples. Use `zero_division` parameter to control this behavior.\n",
            "  _warn_prf(average, modifier, msg_start, len(result))\n"
          ]
        },
        {
          "output_type": "stream",
          "name": "stdout",
          "text": [
            "XGBClassifier  :  0.9846019247594051\n",
            "                   precision    recall  f1-score   support\n",
            "\n",
            "             Mild       0.98      1.00      0.99      2276\n",
            "         Moderate       0.98      1.00      0.99      2077\n",
            "Moderately Severe       0.97      0.96      0.97       193\n",
            "             None       1.00      0.96      0.98      1070\n",
            "           Severe       0.99      0.87      0.92        99\n",
            "\n",
            "         accuracy                           0.98      5715\n",
            "        macro avg       0.98      0.95      0.97      5715\n",
            "     weighted avg       0.98      0.98      0.98      5715\n",
            "\n",
            "LGBMClassifier  :  0.9963254593175853\n",
            "                   precision    recall  f1-score   support\n",
            "\n",
            "             Mild       1.00      1.00      1.00      2276\n",
            "         Moderate       1.00      1.00      1.00      2077\n",
            "Moderately Severe       0.99      0.98      0.99       193\n",
            "             None       1.00      0.99      1.00      1070\n",
            "           Severe       0.98      0.94      0.96        99\n",
            "\n",
            "         accuracy                           1.00      5715\n",
            "        macro avg       0.99      0.98      0.99      5715\n",
            "     weighted avg       1.00      1.00      1.00      5715\n",
            "\n"
          ]
        }
      ]
    },
    {
      "cell_type": "code",
      "source": [
        "df1 = pd.read_excel('output.xlsx')\n",
        "\n",
        "X = df1.drop(['PHQ-Label','Email Address', 'Entry_Id', 'UserId', 'Date_Time', 'BATTERY_LEVEL'], axis=1)\n",
        "y = df1['PHQ-Label']\n",
        "\n",
        "X_train, X_test, y_train, y_test = train_test_split( X, y, random_state=42)\n",
        "#many_missing_values_in_row = df1.index[((df1 == 0).sum(axis=1) >= 5)]\n",
        "#df1.drop(many_missing_values_in_row, inplace = True)"
      ],
      "metadata": {
        "id": "-QO0W0djUWft"
      },
      "execution_count": null,
      "outputs": []
    },
    {
      "cell_type": "code",
      "source": [
        "df1.to_excel('raw_data2.xlsx')"
      ],
      "metadata": {
        "id": "CsR5H9V9ycpR"
      },
      "execution_count": null,
      "outputs": []
    },
    {
      "cell_type": "code",
      "source": [
        "for model in models.keys():\n",
        "    model.fit(X_train, y_train)\n",
        "    \n",
        "for model, name in models.items():\n",
        "    predictions = model.predict(X_test)\n",
        "    print(name , ' : ',  accuracy_score(y_test, predictions))\n",
        "    print(classification_report(y_test,predictions))"
      ],
      "metadata": {
        "colab": {
          "base_uri": "https://localhost:8080/"
        },
        "id": "lBfXD6a3Nnsm",
        "outputId": "4c0a6ef4-e1fd-42a7-beb1-59ce647c052c"
      },
      "execution_count": null,
      "outputs": [
        {
          "output_type": "stream",
          "name": "stderr",
          "text": [
            "/usr/local/lib/python3.7/dist-packages/sklearn/linear_model/_logistic.py:818: ConvergenceWarning: lbfgs failed to converge (status=1):\n",
            "STOP: TOTAL NO. of ITERATIONS REACHED LIMIT.\n",
            "\n",
            "Increase the number of iterations (max_iter) or scale the data as shown in:\n",
            "    https://scikit-learn.org/stable/modules/preprocessing.html\n",
            "Please also refer to the documentation for alternative solver options:\n",
            "    https://scikit-learn.org/stable/modules/linear_model.html#logistic-regression\n",
            "  extra_warning_msg=_LOGISTIC_SOLVER_CONVERGENCE_MSG,\n"
          ]
        },
        {
          "output_type": "stream",
          "name": "stdout",
          "text": [
            "KNN  :  0.989326334208224\n",
            "                   precision    recall  f1-score   support\n",
            "\n",
            "             Mild       0.99      0.99      0.99      2276\n",
            "         Moderate       1.00      0.99      0.99      2077\n",
            "Moderately Severe       0.93      0.96      0.94       193\n",
            "             None       0.99      0.99      0.99      1070\n",
            "           Severe       0.91      0.89      0.90        99\n",
            "\n",
            "         accuracy                           0.99      5715\n",
            "        macro avg       0.96      0.96      0.96      5715\n",
            "     weighted avg       0.99      0.99      0.99      5715\n",
            "\n",
            "Gausian Naive Bayes  :  0.257917760279965\n",
            "                   precision    recall  f1-score   support\n",
            "\n",
            "             Mild       0.52      0.20      0.29      2276\n",
            "         Moderate       0.42      0.14      0.21      2077\n",
            "Moderately Severe       0.06      0.61      0.10       193\n",
            "             None       0.36      0.56      0.43      1070\n",
            "           Severe       0.05      0.25      0.09        99\n",
            "\n",
            "         accuracy                           0.26      5715\n",
            "        macro avg       0.28      0.35      0.22      5715\n",
            "     weighted avg       0.43      0.26      0.28      5715\n",
            "\n",
            "DecisionTreeClassifier  :  0.9912510936132983\n",
            "                   precision    recall  f1-score   support\n",
            "\n",
            "             Mild       0.99      0.99      0.99      2276\n",
            "         Moderate       0.99      0.99      0.99      2077\n",
            "Moderately Severe       0.95      0.95      0.95       193\n",
            "             None       0.99      0.99      0.99      1070\n",
            "           Severe       0.95      0.95      0.95        99\n",
            "\n",
            "         accuracy                           0.99      5715\n",
            "        macro avg       0.98      0.98      0.98      5715\n",
            "     weighted avg       0.99      0.99      0.99      5715\n",
            "\n",
            "RandomForestClassifier  :  0.979002624671916\n",
            "                   precision    recall  f1-score   support\n",
            "\n",
            "             Mild       0.97      0.99      0.98      2276\n",
            "         Moderate       0.98      0.98      0.98      2077\n",
            "Moderately Severe       0.99      0.88      0.93       193\n",
            "             None       1.00      0.97      0.98      1070\n",
            "           Severe       0.98      0.84      0.90        99\n",
            "\n",
            "         accuracy                           0.98      5715\n",
            "        macro avg       0.98      0.93      0.96      5715\n",
            "     weighted avg       0.98      0.98      0.98      5715\n",
            "\n",
            "GradientBoostingClassifier  :  0.9963254593175853\n",
            "                   precision    recall  f1-score   support\n",
            "\n",
            "             Mild       0.99      1.00      1.00      2276\n",
            "         Moderate       1.00      1.00      1.00      2077\n",
            "Moderately Severe       1.00      0.99      0.99       193\n",
            "             None       1.00      0.99      1.00      1070\n",
            "           Severe       0.99      0.98      0.98        99\n",
            "\n",
            "         accuracy                           1.00      5715\n",
            "        macro avg       1.00      0.99      0.99      5715\n",
            "     weighted avg       1.00      1.00      1.00      5715\n",
            "\n",
            "LogisticRegression  :  0.5163604549431321\n",
            "                   precision    recall  f1-score   support\n",
            "\n",
            "             Mild       0.51      0.67      0.58      2276\n",
            "         Moderate       0.47      0.47      0.47      2077\n",
            "Moderately Severe       0.00      0.00      0.00       193\n",
            "             None       0.72      0.42      0.53      1070\n",
            "           Severe       0.00      0.00      0.00        99\n",
            "\n",
            "         accuracy                           0.52      5715\n",
            "        macro avg       0.34      0.31      0.32      5715\n",
            "     weighted avg       0.51      0.52      0.50      5715\n",
            "\n",
            "SVC  :  0.49921259842519683\n",
            "                   precision    recall  f1-score   support\n",
            "\n",
            "             Mild       0.49      0.80      0.61      2276\n",
            "         Moderate       0.35      0.14      0.19      2077\n",
            "Moderately Severe       0.00      0.00      0.00       193\n",
            "             None       0.62      0.70      0.66      1070\n",
            "           Severe       0.00      0.00      0.00        99\n",
            "\n",
            "         accuracy                           0.50      5715\n",
            "        macro avg       0.29      0.33      0.29      5715\n",
            "     weighted avg       0.44      0.50      0.44      5715\n",
            "\n"
          ]
        },
        {
          "output_type": "stream",
          "name": "stderr",
          "text": [
            "/usr/local/lib/python3.7/dist-packages/sklearn/metrics/_classification.py:1318: UndefinedMetricWarning: Precision and F-score are ill-defined and being set to 0.0 in labels with no predicted samples. Use `zero_division` parameter to control this behavior.\n",
            "  _warn_prf(average, modifier, msg_start, len(result))\n",
            "/usr/local/lib/python3.7/dist-packages/sklearn/metrics/_classification.py:1318: UndefinedMetricWarning: Precision and F-score are ill-defined and being set to 0.0 in labels with no predicted samples. Use `zero_division` parameter to control this behavior.\n",
            "  _warn_prf(average, modifier, msg_start, len(result))\n",
            "/usr/local/lib/python3.7/dist-packages/sklearn/metrics/_classification.py:1318: UndefinedMetricWarning: Precision and F-score are ill-defined and being set to 0.0 in labels with no predicted samples. Use `zero_division` parameter to control this behavior.\n",
            "  _warn_prf(average, modifier, msg_start, len(result))\n"
          ]
        },
        {
          "output_type": "stream",
          "name": "stdout",
          "text": [
            "XGBClassifier  :  0.9846019247594051\n",
            "                   precision    recall  f1-score   support\n",
            "\n",
            "             Mild       0.98      1.00      0.99      2276\n",
            "         Moderate       0.98      1.00      0.99      2077\n",
            "Moderately Severe       0.97      0.96      0.97       193\n",
            "             None       1.00      0.96      0.98      1070\n",
            "           Severe       0.99      0.87      0.92        99\n",
            "\n",
            "         accuracy                           0.98      5715\n",
            "        macro avg       0.98      0.95      0.97      5715\n",
            "     weighted avg       0.98      0.98      0.98      5715\n",
            "\n",
            "LGBMClassifier  :  0.9963254593175853\n",
            "                   precision    recall  f1-score   support\n",
            "\n",
            "             Mild       1.00      1.00      1.00      2276\n",
            "         Moderate       1.00      1.00      1.00      2077\n",
            "Moderately Severe       0.99      0.98      0.99       193\n",
            "             None       1.00      0.99      1.00      1070\n",
            "           Severe       0.98      0.94      0.96        99\n",
            "\n",
            "         accuracy                           1.00      5715\n",
            "        macro avg       0.99      0.98      0.99      5715\n",
            "     weighted avg       1.00      1.00      1.00      5715\n",
            "\n"
          ]
        }
      ]
    },
    {
      "cell_type": "code",
      "source": [
        ""
      ],
      "metadata": {
        "id": "TPp4ykLcN0BP"
      },
      "execution_count": null,
      "outputs": []
    },
    {
      "cell_type": "code",
      "source": [
        ""
      ],
      "metadata": {
        "id": "m-MC45kVsKML"
      },
      "execution_count": null,
      "outputs": []
    }
  ]
}